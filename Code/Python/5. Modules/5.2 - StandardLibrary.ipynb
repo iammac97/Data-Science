{
 "cells": [
  {
   "cell_type": "markdown",
   "id": "c89bd42c",
   "metadata": {},
   "source": [
    "# Standard Lirary Overview "
   ]
  },
  {
   "cell_type": "markdown",
   "id": "761db141",
   "metadata": {},
   "source": [
    "Python's standard library is a vast collection of modules and packages that come bundeled with python, providing a wide range of functionalities out of box. Here's an overview of the some of the most commonly used modules and packages in the python standard library."
   ]
  },
  {
   "cell_type": "code",
   "execution_count": 5,
   "id": "3525a6e5",
   "metadata": {},
   "outputs": [
    {
     "name": "stdout",
     "output_type": "stream",
     "text": [
      "array('i', [1, 2, 3, 4, 5, 6])\n"
     ]
    }
   ],
   "source": [
    "import array\n",
    "arr=array.array('i',[1,2,3,4,5,6,])\n",
    "print(arr)"
   ]
  },
  {
   "cell_type": "markdown",
   "id": "fd9aed2b",
   "metadata": {},
   "source": [
    "The array module provides a way to work with typed arrays—arrays that can only hold one type of data (like all integers or all floats), which can be more memory-efficient than Python lists.\n",
    "\n",
    "Syntax: array.array(typecode, initializer)\n"
   ]
  },
  {
   "cell_type": "code",
   "execution_count": 3,
   "id": "5856057e",
   "metadata": {},
   "outputs": [
    {
     "name": "stdout",
     "output_type": "stream",
     "text": [
      "7.0\n"
     ]
    }
   ],
   "source": [
    "import math\n",
    "print(math.sqrt(49))"
   ]
  },
  {
   "cell_type": "code",
   "execution_count": 10,
   "id": "923e6e34",
   "metadata": {},
   "outputs": [
    {
     "name": "stdout",
     "output_type": "stream",
     "text": [
      "17\n",
      "mac\n"
     ]
    }
   ],
   "source": [
    "#Random library\n",
    "import random\n",
    "print(random.randint(1,20))#it will return any random values from the given range\n",
    "print(random.choice(['apple','mac','banana']))#like that it will return any random choice"
   ]
  },
  {
   "cell_type": "code",
   "execution_count": null,
   "id": "0c8d38e0",
   "metadata": {},
   "outputs": [
    {
     "name": "stdout",
     "output_type": "stream",
     "text": [
      "d:\\Practice\\Data-Science\\Code\\Python\\5. Modules\n"
     ]
    }
   ],
   "source": [
    "#File and directory access\n",
    "import os\n",
    "print(os.getcwd())#to get current directory\n",
    "\n",
    "# os.mkdir('test_dir') #it will create a new directory test_dir in same location"
   ]
  },
  {
   "cell_type": "code",
   "execution_count": null,
   "id": "0c0e4418",
   "metadata": {},
   "outputs": [
    {
     "data": {
      "text/plain": [
       "'desti.txt'"
      ]
     },
     "execution_count": 15,
     "metadata": {},
     "output_type": "execute_result"
    }
   ],
   "source": [
    "#Stands for \"shell utilities\" — it includes a lot of high-level file operations\n",
    "#High level operation on file and collection of files\n",
    "import shutil\n",
    "shutil.copyfile('source.txt','desti.txt')#basically it will copy source file with their contents to the desti file"
   ]
  },
  {
   "cell_type": "code",
   "execution_count": null,
   "id": "d497c7c6",
   "metadata": {},
   "outputs": [
    {
     "name": "stdout",
     "output_type": "stream",
     "text": [
      "{\"name\": \"Mac\", \"Age\": 25}\n",
      "<class 'str'>\n",
      "{'name': 'Mac', 'Age': 25}\n",
      "<class 'dict'>\n"
     ]
    }
   ],
   "source": [
    "#Data serialization\n",
    "import json\n",
    "data={'name':'Mac','Age':25}\n",
    "\n",
    "json_str=json.dumps(data) # serialization: Python → JSON\n",
    "print(json_str)\n",
    "print(type(json_str))\n",
    "\n",
    "parsed_data=json.loads(json_str) # deserialization: JSON → Python\n",
    "print(parsed_data)\n",
    "print(type(parsed_data))"
   ]
  },
  {
   "cell_type": "code",
   "execution_count": 23,
   "id": "f72adc85",
   "metadata": {},
   "outputs": [
    {
     "name": "stdout",
     "output_type": "stream",
     "text": [
      "['Name', 'Mac']\n",
      "['Age', '25']\n"
     ]
    }
   ],
   "source": [
    "#CSV\n",
    "import csv\n",
    "#Write the data as file\n",
    "with open('example.csv',mode='w',newline='') as file:\n",
    "    writer=csv.writer(file)\n",
    "    writer.writerow(['Name','Mac'])#it required only one parameter so fiven in a list|\n",
    "    writer.writerow(['Age',25])\n",
    "    \n",
    "#reading the data from a file\n",
    "with open('example.csv', mode='r') as file:\n",
    "    reader=csv.reader(file)\n",
    "    for row in reader:\n",
    "        print(row)\n"
   ]
  },
  {
   "cell_type": "code",
   "execution_count": null,
   "id": "2b789b61",
   "metadata": {},
   "outputs": [
    {
     "name": "stdout",
     "output_type": "stream",
     "text": [
      "2025-06-27 02:11:11.440653\n",
      "2025-06-26 02:11:11.440653\n"
     ]
    }
   ],
   "source": [
    "#Datetime\n",
    "from datetime import datetime,timedelta\n",
    "now=datetime.now()\n",
    "print(now)\n",
    "\n",
    "yesterday=now-timedelta(days=1)#timedelta is super versatile — can also represent hours, minutes, seconds, etc.\n",
    "print(yesterday)"
   ]
  },
  {
   "cell_type": "code",
   "execution_count": 29,
   "id": "5fa37812",
   "metadata": {},
   "outputs": [
    {
     "name": "stdout",
     "output_type": "stream",
     "text": [
      "4 days, 10:00:00\n"
     ]
    }
   ],
   "source": [
    "from datetime import timedelta\n",
    "\n",
    "duration = timedelta(days=2, hours=5)\n",
    "double_duration = duration * 2\n",
    "\n",
    "print(double_duration)  "
   ]
  },
  {
   "cell_type": "code",
   "execution_count": null,
   "id": "da5fd47f",
   "metadata": {},
   "outputs": [
    {
     "name": "stdout",
     "output_type": "stream",
     "text": [
      "1750970749.6712236\n",
      "1750970754.6825418\n"
     ]
    }
   ],
   "source": [
    "#Time\n",
    "import time\n",
    "print(time.time())\n",
    "time.sleep(5)#it will delay for 5 sec after that next statement will execute\n",
    "print(time.time())"
   ]
  },
  {
   "cell_type": "code",
   "execution_count": null,
   "id": "80ed9fe4",
   "metadata": {},
   "outputs": [
    {
     "name": "stdout",
     "output_type": "stream",
     "text": [
      "100\n"
     ]
    }
   ],
   "source": [
    "#Regular expression\n",
    "import re\n",
    "pattern=r'\\d+'\n",
    "text='there are 100 black cats'\n",
    "match=re.search(pattern,text)\n",
    "print(match.group())"
   ]
  },
  {
   "cell_type": "code",
   "execution_count": null,
   "id": "e6fdd2d8",
   "metadata": {},
   "outputs": [],
   "source": []
  }
 ],
 "metadata": {
  "kernelspec": {
   "display_name": "Python 3",
   "language": "python",
   "name": "python3"
  },
  "language_info": {
   "codemirror_mode": {
    "name": "ipython",
    "version": 3
   },
   "file_extension": ".py",
   "mimetype": "text/x-python",
   "name": "python",
   "nbconvert_exporter": "python",
   "pygments_lexer": "ipython3",
   "version": "3.10.0"
  }
 },
 "nbformat": 4,
 "nbformat_minor": 5
}
