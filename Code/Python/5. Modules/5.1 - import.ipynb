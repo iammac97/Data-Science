{
 "cells": [
  {
   "cell_type": "markdown",
   "id": "cbcff51c",
   "metadata": {},
   "source": [
    "# Importing Modules/Packages in python"
   ]
  },
  {
   "cell_type": "markdown",
   "id": "31ec65ac",
   "metadata": {},
   "source": [
    "In Python, Modules and packages helps organize and reuse code. Here's a comprehensive guide on how to import them."
   ]
  },
  {
   "cell_type": "code",
   "execution_count": null,
   "id": "2c77d046",
   "metadata": {},
   "outputs": [
    {
     "data": {
      "text/plain": [
       "4.0"
      ]
     },
     "execution_count": 1,
     "metadata": {},
     "output_type": "execute_result"
    }
   ],
   "source": [
    "#Examples\n",
    "import math#importing all the module but will face slowness better to import specific which are needed\n",
    "math.sqrt(16)#it will return squre root of the passed parameter"
   ]
  },
  {
   "cell_type": "code",
   "execution_count": null,
   "id": "420f2025",
   "metadata": {},
   "outputs": [
    {
     "name": "stdout",
     "output_type": "stream",
     "text": [
      "5.0\n",
      "3.141592653589793\n"
     ]
    }
   ],
   "source": [
    "#Another way\n",
    "from math import sqrt,pi#best way to import a module to avoid slowness\n",
    "print(sqrt(25))\n",
    "print(pi)"
   ]
  },
  {
   "cell_type": "code",
   "execution_count": 7,
   "id": "5c927083",
   "metadata": {},
   "outputs": [
    {
     "data": {
      "text/plain": [
       "array([1, 2, 4, 5, 6, 7])"
      ]
     },
     "execution_count": 7,
     "metadata": {},
     "output_type": "execute_result"
    }
   ],
   "source": [
    "import numpy as np#where np is Alias of numpy\n",
    "np.array([1,2,4,5,6,7])"
   ]
  },
  {
   "cell_type": "code",
   "execution_count": 8,
   "id": "250504a8",
   "metadata": {},
   "outputs": [
    {
     "data": {
      "text/plain": [
       "12.0"
      ]
     },
     "execution_count": 8,
     "metadata": {},
     "output_type": "execute_result"
    }
   ],
   "source": [
    "#avoid to use beow syntax it's similar to import *\n",
    "from math import *\n",
    "sqrt(144)"
   ]
  },
  {
   "cell_type": "markdown",
   "id": "1fe9b83a",
   "metadata": {},
   "source": [
    "Module :A module is a single .py file that contains Python code — functions, classes, variables, etc.\n",
    "\n",
    "Package : A package is a folder (directory) that contains multiple modules and has an __init__.py file to indicate it's a package."
   ]
  },
  {
   "cell_type": "code",
   "execution_count": 18,
   "id": "949e2220",
   "metadata": {},
   "outputs": [
    {
     "data": {
      "text/plain": [
       "70"
      ]
     },
     "execution_count": 18,
     "metadata": {},
     "output_type": "execute_result"
    }
   ],
   "source": [
    "#we created a package into package folder with math and there are few methods so trying to use\n",
    "from package.math import addition\n",
    "addition(3,67)\n",
    "# subs(8,2)#not imported but trying to use so getting error"
   ]
  },
  {
   "cell_type": "code",
   "execution_count": null,
   "id": "aed2cfd0",
   "metadata": {},
   "outputs": [
    {
     "name": "stdout",
     "output_type": "stream",
     "text": [
      "70\n",
      "6\n",
      "16\n",
      "3.141592653589793\n"
     ]
    }
   ],
   "source": [
    "#here imported all the method in math module so will not get error\n",
    "# from package.math import *\n",
    "import math #it will also work \n",
    "print(addition(3,67))\n",
    "print(subs(8,2))\n",
    "print(multiply(8,2))\n",
    "print(pi)"
   ]
  },
  {
   "cell_type": "code",
   "execution_count": null,
   "id": "d85f5dc7",
   "metadata": {},
   "outputs": [],
   "source": []
  }
 ],
 "metadata": {
  "kernelspec": {
   "display_name": "Python 3",
   "language": "python",
   "name": "python3"
  },
  "language_info": {
   "codemirror_mode": {
    "name": "ipython",
    "version": 3
   },
   "file_extension": ".py",
   "mimetype": "text/x-python",
   "name": "python",
   "nbconvert_exporter": "python",
   "pygments_lexer": "ipython3",
   "version": "3.10.0"
  }
 },
 "nbformat": 4,
 "nbformat_minor": 5
}
