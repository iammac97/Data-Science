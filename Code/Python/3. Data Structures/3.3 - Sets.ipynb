{
 "cells": [
  {
   "cell_type": "markdown",
   "id": "1d8a30d0",
   "metadata": {},
   "source": [
    "## Sets\n",
    "Sets are a built-in type in Python used to store collections of unique items. They ae unordered, meaning that the elements do not follow a specific order, and they do not allows duplicate elements.It's useful for membershi tests, eliminating duplicate entries, and performing mathematical set operations like union, intersection, difference and symmetric difference."
   ]
  },
  {
   "cell_type": "code",
   "execution_count": 5,
   "id": "8c88607d",
   "metadata": {},
   "outputs": [
    {
     "name": "stdout",
     "output_type": "stream",
     "text": [
      "Set 1: {1, 2, 3, 4, 5}\n",
      "Type of set1: <class 'set'>\n",
      "Set 2: {1, 2, 3, 4, 5, 'Hello', 'World', 3.14}\n",
      "Type of set2: <class 'set'>\n",
      "Set 3 from list: {1, 2, 3, 4, 5, 'Hello'}\n"
     ]
    }
   ],
   "source": [
    "#Create a set\n",
    "set1={1, 2, 3, 4, 5}\n",
    "print(\"Set 1:\", set1)\n",
    "print(\"Type of set1:\", type(set1))\n",
    "#Create a set with mixed data types\n",
    "set2={1, 2, 3, 4, 5, \"Hello\", \"World\", 3.14}\n",
    "print(\"Set 2:\", set2)\n",
    "print(\"Type of set2:\", type(set2))\n",
    "\n",
    "#Convert a list to a set\n",
    "lst1=[1,2,3,5,4,1,2,3,\"Hello\"]\n",
    "set3=set(lst1)\n",
    "print(\"Set 3 from list:\", set3)#will remove duplicates"
   ]
  },
  {
   "cell_type": "code",
   "execution_count": null,
   "id": "c9ee61b3",
   "metadata": {},
   "outputs": [
    {
     "name": "stdout",
     "output_type": "stream",
     "text": [
      "Set 4: {1, 2, 3, 4, 5}\n",
      "Set 5: {4, 5, 6, 7, 8}\n",
      "Union of Set 4 and Set 5: {1, 2, 3, 4, 5, 6, 7, 8}\n",
      "Intersection of Set 4 and Set 5: {4, 5}\n",
      "Difference of Set 4 and Set 5: {1, 2, 3}\n",
      "Symmetric Difference of Set 4 and Set 5: {1, 2, 3, 6, 7, 8}\n",
      "Set 4 after adding 6: {1, 2, 3, 4, 5, 6}\n",
      "Set 4 after removing 6: {1, 2, 3, 4, 5}\n",
      "Is 3 in Set 4? True\n",
      "Is Set 4 a subset of Set 6? True\n",
      "Is Set 6 a superset of Set 4? True\n",
      "Set 4 after clearing: set()\n",
      "Set 10 (copy of Set 5): {4, 5, 6, 7, 8}\n",
      "Set 5 after discarding 6 (not present): {4, 5, 7, 8}\n",
      "Popped element from Set 5: 4\n",
      "Final state of Set 5: {5, 7, 8}\n",
      "Are Set 4 and Set 5 disjoint? True\n",
      "Are Set 4 and Set 5 equal? False\n"
     ]
    }
   ],
   "source": [
    "#Basic Set operations/Methods\n",
    "set4={1, 2, 3, 4, 5}\n",
    "set5={4, 5, 6, 7, 8}\n",
    "print(\"Set 4:\", set4)\n",
    "print(\"Set 5:\", set5)\n",
    "\n",
    "#Union of two sets\n",
    "set6=set4.union(set5)\n",
    "print(\"Union of Set 4 and Set 5:\", set6)\n",
    "\n",
    "#Intersection of two sets\n",
    "set7=set4.intersection(set5)\n",
    "print(\"Intersection of Set 4 and Set 5:\", set7)\n",
    "\n",
    "#Difference of two sets\n",
    "set8=set4.difference(set5)\n",
    "print(\"Difference of Set 4 and Set 5:\", set8)\n",
    "\n",
    "#Symmetric difference of two sets\n",
    "set9=set4.symmetric_difference(set5)\n",
    "print(\"Symmetric Difference of Set 4 and Set 5:\", set9)\n",
    "\n",
    "#Adding an element to a set\n",
    "set4.add(6)\n",
    "print(\"Set 4 after adding 6:\", set4)\n",
    "\n",
    "#Removing an element from a set\n",
    "set4.remove(6)\n",
    "print(\"Set 4 after removing 6:\", set4)\n",
    "\n",
    "#Checking if an element is in a set\n",
    "print(\"Is 3 in Set 4?\", 3 in set4)\n",
    "\n",
    "#Checking if a set is a subset of another set\n",
    "print(\"Is Set 4 a subset of Set 6?\", set4.issubset(set6))\n",
    "\n",
    "#Checking if a set is a superset of another set\n",
    "print(\"Is Set 6 a superset of Set 4?\", set6.issuperset(set4))\n",
    "\n",
    "#Clearing a set\n",
    "set4.clear()\n",
    "print(\"Set 4 after clearing:\", set4)\n",
    "\n",
    "#Copying a set\n",
    "set10=set5.copy()\n",
    "print(\"Set 10 (copy of Set 5):\", set10)\n",
    "\n",
    "#Disccard an element from a set\n",
    "set5.discard(6)  # No error if element not found\n",
    "print(\"Set 5 after discarding 6 (not present):\", set5)\n",
    "\n",
    "#Pop an element from a set\n",
    "popped_element = set5.pop()  # Removes and returns an arbitrary element\n",
    "print(\"Popped element from Set 5:\", popped_element)\n",
    "\n",
    "#Final state of Set 5\n",
    "print(\"Final state of Set 5:\", set5)\n",
    "\n",
    "#Checking if two sets are disjoint\n",
    "print(\"Are Set 4 and Set 5 disjoint?\", set4.isdisjoint(set5))\n",
    "\n",
    "#Checking if two sets are equal\n",
    "print(\"Are Set 4 and Set 5 equal?\", set4 == set5)\n",
    "\n"
   ]
  },
  {
   "cell_type": "code",
   "execution_count": 10,
   "id": "e3ca1807",
   "metadata": {},
   "outputs": [
    {
     "name": "stdout",
     "output_type": "stream",
     "text": [
      "{'n', 'h', 'g', 's', 'm', 'd', 'y', 't', 'f', 'r', 'i', 'o', 'a', 'e', ' ', 'p'}\n",
      "Unique words in the list: {'set', 'and', 'this', 'python', 'program', 'my', 'is', 'first'}\n",
      "Length of unique words set: 8\n"
     ]
    }
   ],
   "source": [
    "#Counting the unique element in a list using set\n",
    "lst2=\"this is my first python program and this is my first set\"\n",
    "unique_chars = set(lst2)\n",
    "print(unique_chars)\n",
    "unique_words=set(lst2.split())#it will split with space and then set will remove duplicates)\n",
    "print(\"Unique words in the list:\", unique_words)\n",
    "#Finding the length of a set\n",
    "print(\"Length of unique words set:\", len(unique_words))"
   ]
  },
  {
   "cell_type": "code",
   "execution_count": null,
   "id": "b20e7942",
   "metadata": {},
   "outputs": [],
   "source": []
  }
 ],
 "metadata": {
  "kernelspec": {
   "display_name": "Python 3",
   "language": "python",
   "name": "python3"
  },
  "language_info": {
   "codemirror_mode": {
    "name": "ipython",
    "version": 3
   },
   "file_extension": ".py",
   "mimetype": "text/x-python",
   "name": "python",
   "nbconvert_exporter": "python",
   "pygments_lexer": "ipython3",
   "version": "3.10.0"
  }
 },
 "nbformat": 4,
 "nbformat_minor": 5
}
