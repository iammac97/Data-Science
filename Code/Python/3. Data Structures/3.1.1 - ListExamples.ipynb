{
 "cells": [
  {
   "cell_type": "markdown",
   "id": "505dd3a4",
   "metadata": {},
   "source": [
    "# Real-world examples using Lists in Python"
   ]
  },
  {
   "cell_type": "markdown",
   "id": "f3d4c6e7",
   "metadata": {},
   "source": [
    "#Example 1. Manage a To Do List"
   ]
  },
  {
   "cell_type": "code",
   "execution_count": 9,
   "id": "d347b3ad",
   "metadata": {},
   "outputs": [
    {
     "name": "stdout",
     "output_type": "stream",
     "text": [
      "To-Do List:\n",
      "Pay bills without fail.\n",
      "Remaining items in the to-do list:\n",
      "Buy groceries\n",
      "Call mom\n",
      "Clean the house\n",
      "Finish homework\n",
      "Pay bills\n",
      "Total number of items in the to-do list: 5\n"
     ]
    }
   ],
   "source": [
    "to_do_list=[\"Buy groceries\", \"Walk the dog\", \"Finish homework\",\"Clean the house\"]\n",
    "to_do_list.append(\"Call mom\")\n",
    "to_do_list.append(\"Pay bills\")\n",
    "to_do_list.remove(\"Walk the dog\")\n",
    "to_do_list.sort()\n",
    "print(\"To-Do List:\")\n",
    "#Check if \"Pay bills\" is in the list\n",
    "if \"Pay bills\" in to_do_list:\n",
    "    print(\"Pay bills without fail.\")\n",
    "#Print remaining items in the list\n",
    "print(\"Remaining items in the to-do list:\")\n",
    "for item in to_do_list:\n",
    "    print(item)\n",
    "# Print the total number of items in the list\n",
    "print(\"Total number of items in the to-do list:\", len(to_do_list))\n"
   ]
  },
  {
   "cell_type": "markdown",
   "id": "37e1a134",
   "metadata": {},
   "source": [
    "#Example 2 : Organizing the Student Grades"
   ]
  },
  {
   "cell_type": "code",
   "execution_count": null,
   "id": "37253fb7",
   "metadata": {},
   "outputs": [
    {
     "name": "stdout",
     "output_type": "stream",
     "text": [
      "Student Grades:\n",
      "90 is in the list of student grades.\n",
      "Remaining student grades:\n",
      "83\n",
      "85\n",
      "88\n",
      "90\n",
      "92\n",
      "95\n",
      "Total number of student grades: 6\n",
      "Average grade: 88.83333333333333\n",
      "Highest grade: 95\n",
      "Lowest grade: 83\n"
     ]
    }
   ],
   "source": [
    "\n",
    "student_grades=[83, 92, 78, 85, 90]\n",
    "student_grades.append(88)\n",
    "student_grades.append(95)\n",
    "student_grades.remove(78)\n",
    "student_grades.sort()\n",
    "print(\"Student Grades:\")\n",
    "# Check if 90 is in the list\n",
    "if 90 in student_grades:\n",
    "    print(\"90 is in the list of student grades.\")\n",
    "# Print remaining grades\n",
    "print(\"Remaining student grades:\")\n",
    "for grade in student_grades:\n",
    "    print(grade)\n",
    "# Print the total number of grades\n",
    "print(\"Total number of student grades:\", len(student_grades))\n",
    "#Average of the grades\n",
    "average_grade = sum(student_grades) / len(student_grades)\n",
    "print(\"Average grade:\", average_grade)\n",
    "#Finding the highest and lowest grades\n",
    "highest_grade = max(student_grades)\n",
    "lowest_grade = min(student_grades)\n",
    "print(\"Highest grade:\", highest_grade)\n",
    "print(\"Lowest grade:\", lowest_grade)\n"
   ]
  },
  {
   "cell_type": "code",
   "execution_count": null,
   "id": "c8dd376b",
   "metadata": {},
   "outputs": [
    {
     "name": "stdout",
     "output_type": "stream",
     "text": [
      "Inventory List:\n",
      "Mangoes are available in the inventory.\n",
      "Remaining items in the inventory:\n",
      "Apples\n",
      "Grapes\n",
      "Mangoes\n",
      "Oranges\n",
      "Pineapples\n",
      "Total number of items in the inventory: 5\n",
      "Total items in inventory: 5\n"
     ]
    }
   ],
   "source": [
    "#Example 3 : Managing An Inventory List\n",
    "inventory_list = [\"Apples\", \"Bananas\", \"Oranges\", \"Grapes\"]\n",
    "inventory_list.append(\"Mangoes\")\n",
    "inventory_list.append(\"Pineapples\")\n",
    "inventory_list.remove(\"Bananas\")\n",
    "inventory_list.sort()\n",
    "print(\"Inventory List:\")\n",
    "# Check if \"Mangoes\" is in the list\n",
    "if \"Mangoes\" in inventory_list:\n",
    "    print(\"Mangoes are available in the inventory.\")\n",
    "# Print remaining items in the inventory\n",
    "print(\"Remaining items in the inventory:\")\n",
    "for item in inventory_list:\n",
    "    print(item)\n",
    "# Print the total number of items in the inventory\n",
    "print(\"Total number of items in the inventory:\", len(inventory_list))\n",
    "# Finding the total number of items in the inventory\n",
    "total_items = len(inventory_list)\n",
    "print(\"Total items in inventory: \", total_items)"
   ]
  },
  {
   "cell_type": "code",
   "execution_count": null,
   "id": "361487f0",
   "metadata": {},
   "outputs": [],
   "source": []
  }
 ],
 "metadata": {
  "kernelspec": {
   "display_name": "Python 3",
   "language": "python",
   "name": "python3"
  },
  "language_info": {
   "codemirror_mode": {
    "name": "ipython",
    "version": 3
   },
   "file_extension": ".py",
   "mimetype": "text/x-python",
   "name": "python",
   "nbconvert_exporter": "python",
   "pygments_lexer": "ipython3",
   "version": "3.10.0"
  }
 },
 "nbformat": 4,
 "nbformat_minor": 5
}
