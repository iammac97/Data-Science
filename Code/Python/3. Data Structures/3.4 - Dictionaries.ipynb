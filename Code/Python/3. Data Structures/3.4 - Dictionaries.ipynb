{
 "cells": [
  {
   "cell_type": "markdown",
   "id": "c559b68a",
   "metadata": {},
   "source": [
    "# Dictionaries\n",
    "Dictionary in python are unordered collections of items. They store the data in key-value pairs. Keys must be unique and immutable and values can be any type."
   ]
  },
  {
   "cell_type": "code",
   "execution_count": 1,
   "id": "f9b869c2",
   "metadata": {},
   "outputs": [
    {
     "name": "stdout",
     "output_type": "stream",
     "text": [
      "Original Dictionary: {'a': 1, 'b': 2, 'c': 3, 'd': 4, 'e': 5}\n",
      "Type is : <class 'dict'>\n"
     ]
    }
   ],
   "source": [
    "##Creating the dictionary\n",
    "dict1 = {'a': 1, 'b': 2, 'c': 3, 'd': 4, 'e': 5}\n",
    "print(\"Original Dictionary:\",dict1)\n",
    "print(\"Type is :\", type(dict1))"
   ]
  },
  {
   "cell_type": "code",
   "execution_count": 3,
   "id": "a66d58bb",
   "metadata": {},
   "outputs": [
    {
     "name": "stdout",
     "output_type": "stream",
     "text": [
      "Dictionary with duplicate keys: {'a': 6, 'b': 2, 'c': 3, 'd': 4, 'e': 5}\n",
      "Type is : <class 'dict'>\n"
     ]
    }
   ],
   "source": [
    "#Trying with duplicate keys\n",
    "dict2 = {'a': 1, 'b': 2, 'c': 3, 'd': 4, 'e': 5, 'a': 6} #it will overwrite the value of 'a' but not raise an error\n",
    "print(\"Dictionary with duplicate keys:\", dict2)\n",
    "print(\"Type is :\", type(dict2))\n"
   ]
  },
  {
   "cell_type": "code",
   "execution_count": null,
   "id": "ca82df7f",
   "metadata": {},
   "outputs": [
    {
     "name": "stdout",
     "output_type": "stream",
     "text": [
      "Accessing value of key 'Name': Mac\n",
      "Accessing value of key 'Age' using get(): 25\n",
      "Accessing value of key 'Country using get()': None\n"
     ]
    }
   ],
   "source": [
    "#accessing the value of a key\n",
    "dict2={'Name': 'Mac', 'Age': 25, 'City': 'Uttar Pradesh'}\n",
    "print(\"Accessing value of key 'Name':\", dict2['Name'])\n",
    "#accessing the value of a key that does not exist\n",
    "# print(\"Accessing value of key 'Country':\", dict2['Country'])#it will throw an error\n",
    "\n",
    "#Accessing the value of a key using get() method\n",
    "print(\"Accessing value of key 'Age' using get():\", dict2.get('Age'))\n",
    "print(\"Accessing value of key 'Country using get()':\", dict2.get('Country'))#will return None instead of throwing an error"
   ]
  },
  {
   "cell_type": "code",
   "execution_count": 8,
   "id": "3e9ece02",
   "metadata": {},
   "outputs": [
    {
     "name": "stdout",
     "output_type": "stream",
     "text": [
      "Modified Dictionary: {'Name': 'Mac', 'Age': 26, 'City': 'Uttar Pradesh'}\n",
      "Dictionary after adding new key-value pair: {'Name': 'Mac', 'Age': 26, 'City': 'Uttar Pradesh', 'Country': 'India'}\n",
      "Dictionary after deleting key 'City': {'Name': 'Mac', 'Age': 26, 'Country': 'India'}\n",
      "Checking if key 'Name' exists: True\n",
      "Checking if key 'City' exists: False\n"
     ]
    }
   ],
   "source": [
    "#Modifying the Dictionary\n",
    "dict2['Age'] = 26  #modifying the value of 'Age'\n",
    "print(\"Modified Dictionary:\", dict2)\n",
    "#Adding a new key-value pair\n",
    "dict2['Country'] = 'India'  #adding a new key-value pair\n",
    "print(\"Dictionary after adding new key-value pair:\", dict2)\n",
    "#Deleting a key-value pair\n",
    "del dict2['City']  #deleting the key 'City'\n",
    "print(\"Dictionary after deleting key 'City':\", dict2)\n",
    "#Checking if a key exists in the dictionary\n",
    "print(\"Checking if key 'Name' exists:\", 'Name' in dict2)  #returns True\n",
    "print(\"Checking if key 'City' exists:\", 'City' in dict2)  #returns False"
   ]
  },
  {
   "cell_type": "code",
   "execution_count": null,
   "id": "d9844d22",
   "metadata": {},
   "outputs": [
    {
     "name": "stdout",
     "output_type": "stream",
     "text": [
      "Keys in the dictionary: dict_keys(['Name', 'Age', 'Country'])\n",
      "Values in the dictionary: dict_values(['Mac', 26, 'India'])\n",
      "Items in the dictionary: dict_items([('Name', 'Mac'), ('Age', 26), ('Country', 'India')])\n",
      "Key: Name, Value: Mac\n",
      "Key: Age, Value: 26\n",
      "Key: Country, Value: India\n",
      "Copied Dictionary: {'Name': 'Mac', 'Age': 26, 'Country': 'India'}\n",
      "Cleared Dictionary: {}\n",
      "Dictionary 'dict2' deleted.\n",
      "Original Dictionary: {'x': 10, 'y': 20, 'z': 30}\n",
      "Dictionary after deleting key 'y': {'x': 10, 'z': 30}\n",
      "Removed value: 10\n",
      "Dictionary after pop operation: {'z': 30}\n",
      "Last item removed: ('z', 30)\n",
      "Dictionary after popitem operation: {}\n"
     ]
    }
   ],
   "source": [
    "#Dictionary methods\n",
    "print(\"Keys in the dictionary:\", dict2.keys())  #returns a view object of the keys\n",
    "print(\"Values in the dictionary:\", dict2.values())  #returns a view object of the values\n",
    "print(\"Items in the dictionary:\", dict2.items())  #returns a view object of the key-value pairs\n",
    "\n",
    "#Copying the dictionary\n",
    "dict3 = dict2.copy()  #creates a shallow copy of the dictionary\n",
    "print(\"Copied Dictionary:\", dict3)\n",
    "#Clearing the dictionary\n",
    "dict3.clear()  #removes all items from the dictionary\n",
    "print(\"Cleared Dictionary:\", dict3)  #should be empty now\n",
    "#deleting the dictionary\n",
    "del dict2  #deletes the dictionary\n",
    "print(\"Dictionary 'dict2' deleted.\")\n",
    "#delete  a specific key from the dictionary\n",
    "dict4 = {'x': 10, 'y': 20, 'z': 30}\n",
    "print(\"Original Dictionary:\", dict4)\n",
    "del dict4['y']  #deleting the key 'y'\n",
    "print(\"Dictionary after deleting key 'y':\", dict4)  #should not contain 'y'\n",
    "#Using pop() method to remove a key-value pair\n",
    "removed_value = dict4.pop('x')  #removes the key 'x' and returns its value\n",
    "print(\"Removed value:\", removed_value)  #should print 10\n",
    "print(\"Dictionary after pop operation:\", dict4)  #should not contain 'x'\n",
    "#Using popitem() method to remove the last inserted key-value pair\n",
    "last_item = dict4.popitem()  #removes the last inserted key-value pair and returns it\n",
    "print(\"Last item removed:\", last_item)  #should print the last key-value pair\n",
    "print(\"Dictionary after popitem operation:\", dict4)  #should be empty now\n",
    "\n"
   ]
  },
  {
   "cell_type": "code",
   "execution_count": 12,
   "id": "26f7511d",
   "metadata": {},
   "outputs": [
    {
     "name": "stdout",
     "output_type": "stream",
     "text": [
      "Key: Name, Value: Alice\n",
      "Key: Age, Value: 30\n",
      "Key: City, Value: New York\n",
      "Key: Name\n",
      "Key: Age\n",
      "Key: City\n",
      "Value: Alice\n",
      "Value: 30\n",
      "Value: New York\n"
     ]
    }
   ],
   "source": [
    "#Iterating through the dictionary\n",
    "dict3=  {'Name': 'Alice', 'Age': 30, 'City': 'New York'}\n",
    "for key, value in dict3.items():\n",
    "    print(f\"Key: {key}, Value: {value}\")\n",
    "#Iterating over keys\n",
    "for key in dict3.keys():\n",
    "    print(f\"Key: {key}\")\n",
    "\n",
    "#Iterating over values\n",
    "for value in dict3.values():\n",
    "    print(f\"Value: {value}\")\n",
    "    "
   ]
  },
  {
   "cell_type": "code",
   "execution_count": 13,
   "id": "0b712bc5",
   "metadata": {},
   "outputs": [
    {
     "name": "stdout",
     "output_type": "stream",
     "text": [
      "Nested Dictionary: {'person1': {'name': 'John', 'age': 30}, 'person2': {'name': 'Jane', 'age': 25}}\n",
      "Accessing nested value: John\n",
      "Nested Dictionary after adding person3: {'person1': {'name': 'John', 'age': 30}, 'person2': {'name': 'Jane', 'age': 25}, 'person3': {'name': 'Mike', 'age': 35}}\n",
      "Merged Dictionary: {'a': 1, 'b': 3, 'c': 4}\n"
     ]
    }
   ],
   "source": [
    "#Nesting dictionaries\n",
    "nested_dict = {\n",
    "    'person1': {'name': 'John', 'age': 30},\n",
    "    'person2': {'name': 'Jane', 'age': 25}\n",
    "}\n",
    "print(\"Nested Dictionary:\", nested_dict)\n",
    "#Accessing nested dictionary values\n",
    "print(\"Accessing nested value:\", nested_dict['person1']['name'])  #should print 'John'\n",
    "#Adding a new nested dictionary\n",
    "nested_dict['person3'] = {'name': 'Mike', 'age': 35}\n",
    "print(\"Nested Dictionary after adding person3:\", nested_dict)\n",
    "#Merging dictionaries\n",
    "dict_a = {'a': 1, 'b': 2}\n",
    "dict_b = {'b': 3, 'c': 4}\n",
    "merged_dict = {**dict_a, **dict_b}  #merging two dictionaries   \n",
    "print(\"Merged Dictionary:\", merged_dict)  #should print {'a': 1, 'b': 3, 'c': 4}\n"
   ]
  },
  {
   "cell_type": "code",
   "execution_count": 15,
   "id": "05d1334f",
   "metadata": {},
   "outputs": [
    {
     "name": "stdout",
     "output_type": "stream",
     "text": [
      "Dictionary Comprehension: {0: 0, 1: 1, 2: 4, 3: 9, 4: 16}\n",
      "Conditional Dictionary Comprehension: {0: 0, 2: 4, 4: 16, 6: 36, 8: 64}\n"
     ]
    }
   ],
   "source": [
    "#Dict comprehension\n",
    "dict_comp = {x: x**2 for x in range(5)}  #creating a dictionary with keys as numbers and values as their squares\n",
    "print(\"Dictionary Comprehension:\", dict_comp)  #should print {0: 0, 1: 1, 2: 4, 3: 9, 4: 16}\n",
    "\n",
    "#Conditional dict comprehension\n",
    "dict_cond_comp = {x: x**2 for x in range(10) if x % 2 == 0}  #creating a dictionary with even numbers and their squares \n",
    "print(\"Conditional Dictionary Comprehension:\", dict_cond_comp)  #should print {0: 0, 2: 4, 4: 16, 6: 36, 8: 64}\n",
    "\n"
   ]
  },
  {
   "cell_type": "code",
   "execution_count": 16,
   "id": "5c0a6dac",
   "metadata": {},
   "outputs": [
    {
     "name": "stdout",
     "output_type": "stream",
     "text": [
      "Count of occurrences: {1: 1, 2: 2, 3: 3, 4: 4}\n"
     ]
    }
   ],
   "source": [
    "#Practical examples\n",
    "#Example 1: Counting occurrences of elements in a list\n",
    "numbers = [1, 2, 2, 3, 3, 3, 4, 4, 4, 4]\n",
    "count_dict = {}\n",
    "for number in numbers:\n",
    "    if number in count_dict:\n",
    "        count_dict[number] += 1\n",
    "    else:\n",
    "        count_dict[number] = 1\n",
    "print(\"Count of occurrences:\", count_dict)  #should print {1: 1, 2: 2, 3: 3, 4: 4}\n"
   ]
  },
  {
   "cell_type": "code",
   "execution_count": null,
   "id": "c1906b83",
   "metadata": {},
   "outputs": [],
   "source": []
  }
 ],
 "metadata": {
  "kernelspec": {
   "display_name": "Python 3",
   "language": "python",
   "name": "python3"
  },
  "language_info": {
   "codemirror_mode": {
    "name": "ipython",
    "version": 3
   },
   "file_extension": ".py",
   "mimetype": "text/x-python",
   "name": "python",
   "nbconvert_exporter": "python",
   "pygments_lexer": "ipython3",
   "version": "3.10.0"
  }
 },
 "nbformat": 4,
 "nbformat_minor": 5
}
