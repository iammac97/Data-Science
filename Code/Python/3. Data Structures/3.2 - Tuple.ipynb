{
 "cells": [
  {
   "cell_type": "markdown",
   "id": "40692f67",
   "metadata": {},
   "source": [
    "## Tuple\n",
    "Tuple are ordered collections of items that are immutable. They are similar to lists, but their immutability makes them different."
   ]
  },
  {
   "cell_type": "code",
   "execution_count": 5,
   "id": "8858e6b3",
   "metadata": {},
   "outputs": [
    {
     "name": "stdout",
     "output_type": "stream",
     "text": [
      "Empty Tuple: ()\n",
      "Type of empty_tuple: <class 'tuple'>\n",
      "Single Element Tuple: (42,)\n",
      "Type of single_element_tuple: <class 'tuple'>\n",
      "Tuple with multiple elements: (1, 2, 3, 4, 5)\n",
      "List from Tuple: [1, 2, 3, 4, 5]\n",
      "Mixed Data Types Tuple: (1, 'Hello', 3.14, True)\n"
     ]
    }
   ],
   "source": [
    "#Creating a tuple\n",
    "empty_tuple = ()\n",
    "print(\"Empty Tuple:\", empty_tuple)\n",
    "print(\"Type of empty_tuple:\", type(empty_tuple))\n",
    "\n",
    "#Creating a tuple with single element\n",
    "single_element_tuple = (42,)#for single element tuples, a comma is necessary else it will be treated as an integer\n",
    "print(\"Single Element Tuple:\", single_element_tuple)\n",
    "print(\"Type of single_element_tuple:\", type(single_element_tuple))\n",
    "\n",
    "tu1=(1,2,3,4,5)\n",
    "print(\"Tuple with multiple elements:\", tu1)\n",
    "list_from_tuple = list(tu1)\n",
    "print(\"List from Tuple:\", list_from_tuple)\n",
    "\n",
    "#Creating a tuple with mixed data types\n",
    "mixed_tuple = (1, \"Hello\", 3.14, True)\n",
    "print(\"Mixed Data Types Tuple:\", mixed_tuple)"
   ]
  },
  {
   "cell_type": "code",
   "execution_count": 6,
   "id": "8bd300c2",
   "metadata": {},
   "outputs": [
    {
     "name": "stdout",
     "output_type": "stream",
     "text": [
      "First element of mixed_tuple: 1\n",
      "Last element of mixed_tuple: True\n",
      "Slicing mixed_tuple from index 1 to 3: ('Hello', 3.14)\n",
      "Concatenated Tuple: (1, 2, 3, 4, 5, 6)\n"
     ]
    }
   ],
   "source": [
    "#Tuple element access\n",
    "print(\"First element of mixed_tuple:\", mixed_tuple[0])\n",
    "print(\"Last element of mixed_tuple:\", mixed_tuple[-1])\n",
    "#Tuple slicing\n",
    "print(\"Slicing mixed_tuple from index 1 to 3:\", mixed_tuple[1:3])\n",
    "#Tuple concatenation\n",
    "tuple1 = (1, 2, 3)\n",
    "tuple2 = (4, 5, 6)\n",
    "concatenated_tuple = tuple1 + tuple2\n",
    "print(\"Concatenated Tuple:\", concatenated_tuple)"
   ]
  },
  {
   "cell_type": "code",
   "execution_count": 9,
   "id": "706e3863",
   "metadata": {},
   "outputs": [
    {
     "name": "stdout",
     "output_type": "stream",
     "text": [
      "Count of 1 in mixed_tuple: 2\n",
      "Index of 'Hello' in mixed_tuple: 1\n",
      "Item in mixed_tuple: 1\n",
      "Item in mixed_tuple: Hello\n",
      "Item in mixed_tuple: 3.14\n",
      "Item in mixed_tuple: True\n",
      "Is 'Hello' in mixed_tuple? True\n",
      "Length of mixed_tuple: 4\n",
      "Unpacked values: 1 Hello 3.14 True\n",
      "Nested Tuple: (1, (2, 3), (4, 5, 6), 'Hello')\n",
      "Nested element in nested_tuple: (2, 3)\n",
      "Accessing element from nested_tuple: 2\n"
     ]
    }
   ],
   "source": [
    "#Methods on tuples\n",
    "print(\"Count of 1 in mixed_tuple:\", mixed_tuple.count(1))\n",
    "print(\"Index of 'Hello' in mixed_tuple:\", mixed_tuple.index(\"Hello\"))\n",
    "#Iterating through a tuple\n",
    "for item in mixed_tuple:\n",
    "    print(\"Item in mixed_tuple:\", item) \n",
    "#Checking if an element exists in a tuple\n",
    "print(\"Is 'Hello' in mixed_tuple?\", \"Hello\" in mixed_tuple)\n",
    "#Finding the length of a tuple\n",
    "print(\"Length of mixed_tuple:\", len(mixed_tuple))\n",
    "#Unpacking a tuple\n",
    "a, b, c, d = mixed_tuple\n",
    "print(\"Unpacked values:\", a, b, c, d)\n",
    "#Nested tuples\n",
    "nested_tuple = (1, (2, 3), (4, 5, 6), \"Hello\")\n",
    "print(\"Nested Tuple:\", nested_tuple)\n",
    "print(\"Nested element in nested_tuple:\", nested_tuple[1])  # Accessing (2, 3)   \n",
    "#Accessing elements in a nested tuple\n",
    "print(\"Accessing element from nested_tuple:\", nested_tuple[1][0])  # Accessing 2 from (2, 3)\n"
   ]
  },
  {
   "cell_type": "code",
   "execution_count": 8,
   "id": "7f23405b",
   "metadata": {},
   "outputs": [
    {
     "ename": "TypeError",
     "evalue": "'tuple' object does not support item assignment",
     "output_type": "error",
     "traceback": [
      "\u001b[1;31m---------------------------------------------------------------------------\u001b[0m",
      "\u001b[1;31mTypeError\u001b[0m                                 Traceback (most recent call last)",
      "Cell \u001b[1;32mIn[8], line 4\u001b[0m\n\u001b[0;32m      1\u001b[0m \u001b[38;5;66;03m#Tuple imumutability\u001b[39;00m\n\u001b[0;32m      2\u001b[0m \u001b[38;5;66;03m# Tuples are immutable, meaning their elements cannot be changed after creation\u001b[39;00m\n\u001b[0;32m      3\u001b[0m tup1\u001b[38;5;241m=\u001b[39m (\u001b[38;5;241m1\u001b[39m, \u001b[38;5;241m2\u001b[39m, \u001b[38;5;241m3\u001b[39m)\n\u001b[1;32m----> 4\u001b[0m \u001b[43mtup1\u001b[49m\u001b[43m[\u001b[49m\u001b[38;5;241;43m1\u001b[39;49m\u001b[43m]\u001b[49m\u001b[38;5;241m=\u001b[39m\u001b[38;5;241m4\u001b[39m  \u001b[38;5;66;03m# This will raise a TypeError\u001b[39;00m\n",
      "\u001b[1;31mTypeError\u001b[0m: 'tuple' object does not support item assignment"
     ]
    }
   ],
   "source": [
    "#Tuple imumutability\n",
    "# Tuples are immutable, meaning their elements cannot be changed after creation\n",
    "tup1= (1, 2, 3)\n",
    "tup1[1]=4  # This will raise a TypeError\n"
   ]
  },
  {
   "cell_type": "code",
   "execution_count": null,
   "id": "a8b23818",
   "metadata": {},
   "outputs": [],
   "source": []
  }
 ],
 "metadata": {
  "kernelspec": {
   "display_name": "Python 3",
   "language": "python",
   "name": "python3"
  },
  "language_info": {
   "codemirror_mode": {
    "name": "ipython",
    "version": 3
   },
   "file_extension": ".py",
   "mimetype": "text/x-python",
   "name": "python",
   "nbconvert_exporter": "python",
   "pygments_lexer": "ipython3",
   "version": "3.10.0"
  }
 },
 "nbformat": 4,
 "nbformat_minor": 5
}
