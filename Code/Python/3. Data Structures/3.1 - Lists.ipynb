{
 "cells": [
  {
   "cell_type": "markdown",
   "id": "595f02e3",
   "metadata": {},
   "source": [
    "## List in Python : List are ordered, mutable collections of items. They can contain items of different data types."
   ]
  },
  {
   "cell_type": "code",
   "execution_count": 20,
   "id": "d1a7d050",
   "metadata": {},
   "outputs": [
    {
     "name": "stdout",
     "output_type": "stream",
     "text": [
      "<class 'list'>\n",
      "[1, 2, 3, 4, 5]\n",
      "1\n",
      "3\n",
      "[20, 'Hello', True]\n",
      "Python\n",
      "[1, 'Mac', 'w', 'h', 'a', 'l', 'e']\n"
     ]
    }
   ],
   "source": [
    "#List\n",
    "lst=[]\n",
    "print(type(lst))\n",
    "#List with values\n",
    "lst1=[1,2,3,4,5]\n",
    "print(lst1)\n",
    "#List with mixed data types\n",
    "lst2=[1,20,\"Hello\",True,[1,2,3],2.5,\"Python\"]\n",
    "# Access the list Elements\n",
    "print(lst2[0])#Accessing first element\n",
    "print(lst2[4][2])#Accessing nested element of last element\n",
    "# Slicing the list\n",
    "print(lst2[1:4])#Accessing elements from index 1 to 3 \n",
    "print(lst2[-1])#Accessing last element\n",
    "lst2[1]=\"Mac\"\n",
    "lst2[2:]=\"whale\"#It will treat string  as char because String is not mutable in Python\n",
    "print(lst2)\n",
    "\n"
   ]
  },
  {
   "cell_type": "code",
   "execution_count": null,
   "id": "280cdce1",
   "metadata": {},
   "outputs": [
    {
     "name": "stdout",
     "output_type": "stream",
     "text": [
      "After appending 'Python': [1, 'Java', 'Java', 'Mac', 'w', 'h', 'a', 'l', 'e', 'Python', 6, 7, 8, 'Python', 6, 7, 8, 'X', 'Python']\n",
      "Length of lst2: 19\n",
      "Index of 'Python': 9\n",
      "Count of 'Mac': 1\n",
      "After inserting 'Java' at index 1: [1, 'Java', 'Java', 'Java', 'Mac', 'w', 'h', 'a', 'l', 'e', 'Python', 6, 7, 8, 'Python', 6, 7, 8, 'X', 'Python']\n",
      "After extending with [6, 7, 8]: [1, 'Java', 'Java', 'Java', 'Mac', 'w', 'h', 'a', 'l', 'e', 'Python', 6, 7, 8, 'Python', 6, 7, 8, 'X', 'Python', 6, 7, 8, 'X', 'Hello']\n",
      "After removing 'Hello': [1, 'Java', 'Java', 'Java', 'Mac', 'w', 'h', 'a', 'l', 'e', 'Python', 6, 7, 8, 'Python', 6, 7, 8, 'X', 'Python', 6, 7, 8, 'X']\n",
      "Popped Element: X\n",
      "After popping the last element: [1, 'Java', 'Java', 'Java', 'Mac', 'w', 'h', 'a', 'l', 'e', 'Python', 6, 7, 8, 'Python', 6, 7, 8, 'X', 'Python', 6, 7, 8]\n",
      "Reversed List: [8, 7, 6, 'Python', 'X', 8, 7, 6, 'Python', 8, 7, 6, 'Python', 'e', 'l', 'a', 'h', 'w', 'Mac', 'Java', 'Java', 'Java', 1]\n"
     ]
    },
    {
     "ename": "TypeError",
     "evalue": "'<' not supported between instances of 'str' and 'int'",
     "output_type": "error",
     "traceback": [
      "\u001b[1;31m---------------------------------------------------------------------------\u001b[0m",
      "\u001b[1;31mTypeError\u001b[0m                                 Traceback (most recent call last)",
      "Cell \u001b[1;32mIn[24], line 26\u001b[0m\n\u001b[0;32m     24\u001b[0m \u001b[38;5;28mprint\u001b[39m(\u001b[38;5;124m\"\u001b[39m\u001b[38;5;124mReversed List:\u001b[39m\u001b[38;5;124m\"\u001b[39m, lst2)\n\u001b[0;32m     25\u001b[0m \u001b[38;5;66;03m# Sorting the list\u001b[39;00m\n\u001b[1;32m---> 26\u001b[0m \u001b[43mlst2\u001b[49m\u001b[38;5;241;43m.\u001b[39;49m\u001b[43msort\u001b[49m\u001b[43m(\u001b[49m\u001b[43m)\u001b[49m  \u001b[38;5;66;03m# Sorts the list in ascending order\u001b[39;00m\n\u001b[0;32m     27\u001b[0m \u001b[38;5;28mprint\u001b[39m(\u001b[38;5;124m\"\u001b[39m\u001b[38;5;124mSorted List:\u001b[39m\u001b[38;5;124m\"\u001b[39m, lst2)  \u001b[38;5;66;03m# Note: This will raise an error if the list contains mixed data types\u001b[39;00m\n\u001b[0;32m     28\u001b[0m \u001b[38;5;66;03m# Copying a list\u001b[39;00m\n",
      "\u001b[1;31mTypeError\u001b[0m: '<' not supported between instances of 'str' and 'int'"
     ]
    }
   ],
   "source": [
    "\n",
    "#List methods\n",
    "\n",
    "# Adding elements to the list\n",
    "lst2.append(\"Python\")  # Adds 'Python' to the end of the list\n",
    "print(\"After appending 'Python':\", lst2)\n",
    "print(\"Length of lst2:\", len(lst2))  # Length of the list\n",
    "print(\"Index of 'Python':\", lst2.index(\"Python\"))  # Index of the first occurrence of 'Python'\n",
    "print(\"Count of 'Mac':\", lst2.count(\"Mac\"))  # Count of occurrences of 'Mac'\n",
    "# Inserting an element at a specific position\n",
    "lst2.insert(1, \"Java\")  # Inserts 'Java' at index 1\n",
    "print(\"After inserting 'Java' at index 1:\", lst2)\n",
    "# Extending the list with another list\n",
    "lst2.extend([6, 7, 8,\"X\",\"Hello\"])  # Adds elements 6, 7, and 8 to the end of the list\n",
    "print(\"After extending with [6, 7, 8]:\", lst2)\n",
    "# Removing elements from the list   \n",
    "lst2.remove(\"Hello\")  # Removes the first occurrence of 'Hello'\n",
    "print(\"After removing 'Hello':\", lst2)\n",
    "# Popping an element from the list\n",
    "popped_element = lst2.pop()  # Removes and returns the last element\n",
    "print(\"Popped Element:\", popped_element)  # Should be the last element\n",
    "print(\"After popping the last element:\", lst2)\n",
    "# Reversing the list    \n",
    "lst2.reverse()  # Reverses the order of elements in the list\n",
    "print(\"Reversed List:\", lst2)\n",
    "# Sorting the list\n",
    "lst2.sort()  # Sorts the list in ascending order\n",
    "print(\"Sorted List:\", lst2)  # Note: This will raise an error if the list contains mixed data types\n",
    "# Copying a list\n",
    "lst_copy = lst2.copy()  # Creates a shallow copy of lst2\n",
    "print(\"Copied List:\", lst_copy)\n",
    "# Clearing the list\n",
    "lst2.clear()  # Removes all elements from the list\n",
    "print(\"Cleared List:\", lst2)  # Should be empty now\n",
    "\n"
   ]
  },
  {
   "cell_type": "code",
   "execution_count": 4,
   "id": "48f37973",
   "metadata": {},
   "outputs": [
    {
     "name": "stdout",
     "output_type": "stream",
     "text": [
      "1 2 3 4 5 \n",
      "Index: 0, Item: 1\n",
      "Index: 1, Item: 2\n",
      "Index: 2, Item: 3\n",
      "Index: 3, Item: 4\n",
      "Index: 4, Item: 5\n"
     ]
    }
   ],
   "source": [
    "# Iteration over a list\n",
    "lst1 = [1, 2, 3, 4, 5]\n",
    "for item in lst1:\n",
    "    print(item, end=\" \",)  # Prints each item in lst1 on the same line\n",
    "print()  # New line after the loop\n",
    "\n",
    "#Iteraring with index\n",
    "for index, item in enumerate(lst1):\n",
    "    print(f\"Index: {index}, Item: {item}\")  # Prints index and item from lst1"
   ]
  },
  {
   "cell_type": "markdown",
   "id": "890dc91d",
   "metadata": {},
   "source": [
    "## List Comprehension :\n",
    "Basics syntax [exp. for item in iterable],\n",
    "And with conditional logic [Exp. for item in iterable if condition]"
   ]
  },
  {
   "cell_type": "code",
   "execution_count": 7,
   "id": "85d35731",
   "metadata": {},
   "outputs": [
    {
     "name": "stdout",
     "output_type": "stream",
     "text": [
      "List of squares using loop: [1, 4, 9, 16, 25, 36, 49, 64, 81, 100]\n"
     ]
    },
    {
     "data": {
      "text/plain": [
       "[1, 4, 9, 16, 25, 36, 49, 64, 81, 100]"
      ]
     },
     "execution_count": 7,
     "metadata": {},
     "output_type": "execute_result"
    }
   ],
   "source": [
    "#List comprehension\n",
    "lst3=[]\n",
    "for i in range(1,11):\n",
    "    lst3.append(i**2)\n",
    "print(\"List of squares using loop:\", lst3)\n",
    "\n",
    "[i**2 for i in range(1,11)]  # List comprehension to create a list of squares\n"
   ]
  },
  {
   "cell_type": "code",
   "execution_count": 13,
   "id": "1a3e4358",
   "metadata": {},
   "outputs": [
    {
     "name": "stdout",
     "output_type": "stream",
     "text": [
      "List of even numbers from 1 to 20: [2, 4, 6, 8, 10, 12, 14, 16, 18, 20]\n"
     ]
    }
   ],
   "source": [
    "#List comprehension with condition\n",
    "lst4 = [i for i in range(1,21) if i % 2 == 0]  # List of even numbers from 1 to 20\n",
    "print(\"List of even numbers from 1 to 20:\", lst4)"
   ]
  },
  {
   "cell_type": "code",
   "execution_count": 14,
   "id": "288fae1a",
   "metadata": {},
   "outputs": [
    {
     "name": "stdout",
     "output_type": "stream",
     "text": [
      "Nested List Comprehension (pairs of i and j): [[1, 1], [1, 2], [1, 3], [2, 1], [2, 2], [2, 3], [3, 1], [3, 2], [3, 3]]\n"
     ]
    }
   ],
   "source": [
    "#Nested List Comprehension\n",
    "lst5 = [[i, j] for i in range(1, 4) for j in range(1, 4)]  # Creates a list of pairs (i, j)\n",
    "print(\"Nested List Comprehension (pairs of i and j):\", lst5)"
   ]
  }
 ],
 "metadata": {
  "kernelspec": {
   "display_name": "Python 3",
   "language": "python",
   "name": "python3"
  },
  "language_info": {
   "codemirror_mode": {
    "name": "ipython",
    "version": 3
   },
   "file_extension": ".py",
   "mimetype": "text/x-python",
   "name": "python",
   "nbconvert_exporter": "python",
   "pygments_lexer": "ipython3",
   "version": "3.10.0"
  }
 },
 "nbformat": 4,
 "nbformat_minor": 5
}
