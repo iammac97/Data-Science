{
 "cells": [
  {
   "cell_type": "markdown",
   "id": "469b2879",
   "metadata": {},
   "source": [
    "# DS Practice Questions"
   ]
  },
  {
   "cell_type": "code",
   "execution_count": 4,
   "id": "bc0b122a",
   "metadata": {},
   "outputs": [
    {
     "name": "stdout",
     "output_type": "stream",
     "text": [
      "Sum of all elements: 148\n"
     ]
    }
   ],
   "source": [
    "#Sum of list elements\n",
    "def sum_list(lst1):\n",
    "    s=0\n",
    "    for i in lst1:\n",
    "        s+=i\n",
    "    return s\n",
    "\n",
    "lst1=[1,3,4,21,34,67,8,10]\n",
    "print(f\"Sum of all elements: {sum_list(lst1)}\")\n"
   ]
  },
  {
   "cell_type": "code",
   "execution_count": 6,
   "id": "b39e9c2c",
   "metadata": {},
   "outputs": [
    {
     "name": "stdout",
     "output_type": "stream",
     "text": [
      "After duplicate removed: [1, 2, 3, 4, 5, 7, 8]\n"
     ]
    }
   ],
   "source": [
    "#Remove duplicate in a list\n",
    "def uniqList(lst2):\n",
    "    return list(set(lst2))\n",
    "    # unq=[]\n",
    "    # for i in lst2:\n",
    "    #     if i not in unq:\n",
    "    #         unq.append(i)\n",
    "    # return unq\n",
    "\n",
    "lst2=[1,3,2,1,2,5,4,8,7,4,7]\n",
    "print(f\"After duplicate removed: {uniqList(lst2)}\")"
   ]
  },
  {
   "cell_type": "code",
   "execution_count": 9,
   "id": "7b006b64",
   "metadata": {},
   "outputs": [
    {
     "name": "stdout",
     "output_type": "stream",
     "text": [
      "True\n"
     ]
    }
   ],
   "source": [
    "#Check if all the elements are unique in the list\n",
    "def checkUnq(lst1):\n",
    "    lst2=list(set(lst1))\n",
    "    if len(lst2)!=len(lst1):\n",
    "        return False\n",
    "    return True\n",
    "\n",
    "lst3=[3,4,5,6,7,8]\n",
    "print(checkUnq(lst3))"
   ]
  },
  {
   "cell_type": "code",
   "execution_count": 10,
   "id": "4a1e0ce4",
   "metadata": {},
   "outputs": [
    {
     "name": "stdout",
     "output_type": "stream",
     "text": [
      "Reversed of the given list: [3, 8, 67, 5, 4, 2]\n"
     ]
    }
   ],
   "source": [
    "#Reverse the list without slicing\n",
    "def reverse(lst):\n",
    "    s,e=0,len(lst)-1\n",
    "    while(s<e):\n",
    "        lst[s],lst[e]=lst[e],lst[s]\n",
    "        s+=1\n",
    "        e-=1\n",
    "    return lst\n",
    "\n",
    "lst4=[2,4,5,67,8,3]\n",
    "print(f\"Reversed of the given list: {reverse(lst4)}\")"
   ]
  },
  {
   "cell_type": "code",
   "execution_count": 15,
   "id": "0bf853a1",
   "metadata": {},
   "outputs": [
    {
     "name": "stdout",
     "output_type": "stream",
     "text": [
      "(3, 3)\n"
     ]
    }
   ],
   "source": [
    "#Number of even and odd elements in the given list\n",
    "def EvenOdd(lst):\n",
    "    e,o=0,0\n",
    "    for i in lst:\n",
    "        if i % 2==0:\n",
    "            e+=1\n",
    "        else:\n",
    "            o+=1\n",
    "    return e,o\n",
    "print(EvenOdd(lst4))"
   ]
  },
  {
   "cell_type": "code",
   "execution_count": 22,
   "id": "8ab7db45",
   "metadata": {},
   "outputs": [
    {
     "name": "stdout",
     "output_type": "stream",
     "text": [
      "Is Lst1 is subset of lst2:True\n"
     ]
    }
   ],
   "source": [
    "#Check if a list is the subset of the another list\n",
    "def checkSubset(lst1,lst2):\n",
    "    set1=set(lst1)\n",
    "    set2=set(lst2)\n",
    "    return set1.issuperset(set2)\n",
    "lst1=[1,2,4,5,3,6,5,4]\n",
    "lst2=[2,3,4,5]\n",
    "print(f\"Is Lst1 is subset of lst2:{checkSubset(lst1,lst2)}\")\n"
   ]
  },
  {
   "cell_type": "code",
   "execution_count": 26,
   "id": "8ddf043e",
   "metadata": {},
   "outputs": [
    {
     "name": "stdout",
     "output_type": "stream",
     "text": [
      "Maximum consecutive difference is: 68\n"
     ]
    }
   ],
   "source": [
    "#Maximum difference between 2 consecutive elements in a list\n",
    "def maxDiff(lst):\n",
    "    n=len(lst)\n",
    "    mx=-999\n",
    "    st=0\n",
    "    if n>2:\n",
    "        while(st<n-1):\n",
    "            sm=abs(lst[st]-lst[st+1])\n",
    "            if mx<sm:\n",
    "                mx=sm\n",
    "            st+=1\n",
    "        return mx\n",
    "    else:\n",
    "        return 0\n",
    "lst1=[3,4,7,12,45,78,10,5,50]\n",
    "print(f\"Maximum consecutive difference is: {maxDiff(lst1)}\")"
   ]
  },
  {
   "cell_type": "code",
   "execution_count": 34,
   "id": "ea7d438b",
   "metadata": {},
   "outputs": [
    {
     "name": "stdout",
     "output_type": "stream",
     "text": [
      "[1, 2, 3, 4, 5, 6, 6, 7, 8, 9]\n"
     ]
    }
   ],
   "source": [
    "#Merge two sorted list\n",
    "def mergeList(lst1,lst2):\n",
    "    merged = lst1 + lst2      \n",
    "    merged.sort()         \n",
    "    return merged\n",
    "\n",
    "lst1=[1,3,2,4,5,8]\n",
    "lst2=[6,7,9,6]\n",
    "print(mergeList(lst1,lst2))"
   ]
  },
  {
   "cell_type": "code",
   "execution_count": 42,
   "id": "a1276079",
   "metadata": {},
   "outputs": [
    {
     "name": "stdout",
     "output_type": "stream",
     "text": [
      "[4, 5, 1, 2, 3]\n"
     ]
    }
   ],
   "source": [
    "#Rotate a list with the K times\n",
    "def rotKtime(lst,k):\n",
    "    n=len(lst)\n",
    "    if n==0:\n",
    "        return lst\n",
    "    k%=n#If k is greater the n\n",
    "    rvs(lst,0,n-1)\n",
    "    rvs(lst,0,k-1)\n",
    "    rvs(lst,k,n-1)\n",
    "    return lst\n",
    "\n",
    "def rvs(lst,s,e):\n",
    "    while(s<e):\n",
    "        lst[s],lst[e]=lst[e],lst[s]\n",
    "        s+=1\n",
    "        e-=1\n",
    "    return lst\n",
    "lst=[1,2,3,4,5]\n",
    "k=12\n",
    "print(rotKtime(lst,k))\n"
   ]
  },
  {
   "cell_type": "code",
   "execution_count": 48,
   "id": "65a2cfa5",
   "metadata": {},
   "outputs": [
    {
     "name": "stdout",
     "output_type": "stream",
     "text": [
      "Dictionary is: {1: 'a', 2: 'b', 3: 'c', 4: 'd', 5: 'e', 6: 'Hello'}\n"
     ]
    }
   ],
   "source": [
    "#Merge two lists into a  dictionary\n",
    "def list2Dict(keys,values):\n",
    "    if len(keys)!=len(values):\n",
    "        return False\n",
    "    else:\n",
    "        # dict1={}\n",
    "        # for i in range(len(keys)):\n",
    "        #     dict1[keys[i]]=values[i]\n",
    "        # return dict1\n",
    "        dict1=dict(zip(keys,values))#We can use zip function also\n",
    "        return dict1\n",
    "keys=[1,2,3,4,5,6]\n",
    "values=['a','b','c','d','e',\"Hello\"]\n",
    "print(f\"Dictionary is: {list2Dict(keys,values)}\")"
   ]
  },
  {
   "cell_type": "code",
   "execution_count": 56,
   "id": "8227ca60",
   "metadata": {},
   "outputs": [
    {
     "name": "stdout",
     "output_type": "stream",
     "text": [
      "{'a': 1, 'b': 2, 'c': 4, 'd': 5, 'e': 6, 'f': 6, 'g': 8}\n"
     ]
    }
   ],
   "source": [
    "#Merge three dictionary\n",
    "def mergeDict(dict1,dict2,dict3):\n",
    "    # #by using OR operator\n",
    "    # return dict1 | dict2 | dict3\n",
    "\n",
    "    # #By using dictionary unpacking operator **\n",
    "    # mrgDict={**dict1, **dict2, **dict3}\n",
    "    # return mrgDict\n",
    "\n",
    "    #merging all 2 dictionaries into first dictionary\n",
    "    for key, value in dict2.items():\n",
    "        dict1[key]=value\n",
    "    for key, value in dict3.items():\n",
    "        dict1[key]=value\n",
    "    return dict1\n",
    "\n",
    "dict1={'a':1,'b':2}\n",
    "dict2={'c':4,'d':5}\n",
    "dict3={'e':6,'f':6,'g':8}\n",
    "print(mergeDict(dict1,dict2,dict3))"
   ]
  },
  {
   "cell_type": "code",
   "execution_count": null,
   "id": "d3ddaca0",
   "metadata": {},
   "outputs": [
    {
     "name": "stdout",
     "output_type": "stream",
     "text": [
      "Frequency of the words are: {'the': 2, 'quick': 1, 'brown': 1, 'fox': 1, 'jumps': 1, 'over': 1, 'lazy': 1, 'dog': 1}\n"
     ]
    }
   ],
   "source": [
    "#Word frequency in a sentence(string)\n",
    "def wordFreq(s):\n",
    "    words=s.split()\n",
    "    frq={}\n",
    "    for i in words:\n",
    "        frq[i]=frq.get(i,0)+1 #Basically it will check if key 'i' is there in dict so it will return 0 and value will increment by 1\n",
    "    return frq\n",
    "s='the quick brown fox jumps over the lazy dog'\n",
    "print(f\"Frequency of the words are: {wordFreq(s)}\")"
   ]
  },
  {
   "cell_type": "code",
   "execution_count": 67,
   "id": "62f51518",
   "metadata": {},
   "outputs": [
    {
     "name": "stdout",
     "output_type": "stream",
     "text": [
      "Is polindrome: True\n"
     ]
    }
   ],
   "source": [
    "#Check the polindromic tuple\n",
    "def poliTuple(tpl):\n",
    "    #by using two pointer\n",
    "    # s=0\n",
    "    # e=len(tpl)-1\n",
    "    # while(s<e):\n",
    "    #     if tpl[s]!=tpl[e]:\n",
    "    #         return False\n",
    "    #     s+=1\n",
    "    #     e-=1\n",
    "    # return True\n",
    "    #By using list slicing\n",
    "    lst=list(tpl)\n",
    "    if lst==lst[::-1]:\n",
    "        return True\n",
    "    else:\n",
    "        return False\n",
    "\n",
    "tpl=(8,2,3,4,5,4,3,2,8)\n",
    "print(f\"Is polindrome: {poliTuple(tpl)}\")"
   ]
  },
  {
   "cell_type": "code",
   "execution_count": 77,
   "id": "e64c81fd",
   "metadata": {},
   "outputs": [
    {
     "name": "stdout",
     "output_type": "stream",
     "text": [
      "{'a': 1, 'b': 7, 'c': 15, 'd': 9, 'e': 12, 'f': 10}\n"
     ]
    }
   ],
   "source": [
    "#Merge dictionaries with common/overlapping keys if the key appears more than once so values so sum up theis values\n",
    "def mergeDictOvrlp(dict1):\n",
    "    res={}\n",
    "    for i in dict1:\n",
    "        for key, value in i.items():  \n",
    "            if key in res:\n",
    "                res[key]+=value\n",
    "            else:\n",
    "                res[key]=value\n",
    "    return res\n",
    "\n",
    "dict1=[{'a':1,'b':2},{'b':5,'c':6,'d':7},{'c':9,'d':2,'e':12,'f':10}]\n",
    "print(mergeDictOvrlp(dict1))\n",
    "\n",
    "\n"
   ]
  },
  {
   "cell_type": "code",
   "execution_count": null,
   "id": "b0597ec7",
   "metadata": {},
   "outputs": [],
   "source": []
  }
 ],
 "metadata": {
  "kernelspec": {
   "display_name": "Python 3",
   "language": "python",
   "name": "python3"
  },
  "language_info": {
   "codemirror_mode": {
    "name": "ipython",
    "version": 3
   },
   "file_extension": ".py",
   "mimetype": "text/x-python",
   "name": "python",
   "nbconvert_exporter": "python",
   "pygments_lexer": "ipython3",
   "version": "3.10.0"
  }
 },
 "nbformat": 4,
 "nbformat_minor": 5
}
