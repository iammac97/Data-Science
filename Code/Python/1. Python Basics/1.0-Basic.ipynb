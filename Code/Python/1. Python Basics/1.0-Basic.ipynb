{
 "cells": [
  {
   "cell_type": "code",
   "execution_count": 1,
   "id": "26cecffc",
   "metadata": {},
   "outputs": [
    {
     "name": "stdout",
     "output_type": "stream",
     "text": [
      "Mac\n",
      "Mukesh\n"
     ]
    }
   ],
   "source": [
    "#Python are case sensitive\n",
    "Name=\"Mac\"\n",
    "name=\"Mukesh\"\n",
    "print(Name)\n",
    "print(name)"
   ]
  },
  {
   "cell_type": "code",
   "execution_count": 1,
   "id": "4b7651e5",
   "metadata": {},
   "outputs": [
    {
     "name": "stdout",
     "output_type": "stream",
     "text": [
      "5\n"
     ]
    }
   ],
   "source": [
    "#Identation is important in Python\n",
    "def add(a, b):\n",
    "    return a + b  \n",
    "print(add(2, 3))  \n",
    "\n",
    "#It will throw and identation error\n",
    "# def add(a, b):\n",
    "# return a + b  \n",
    "# print(add(2, 3))  "
   ]
  },
  {
   "cell_type": "code",
   "execution_count": 7,
   "id": "44f8f0e4",
   "metadata": {},
   "outputs": [
    {
     "name": "stdout",
     "output_type": "stream",
     "text": [
      "55\n",
      "This is a multiline string\n",
      "and it can span multiple lines.\n",
      "Hello, world!\n"
     ]
    }
   ],
   "source": [
    "#Line continuation\n",
    "a = 1 + 2 + 3 + 4 + 5 + \\\n",
    "    6 + 7 + 8 + 9 + 10  \n",
    "print(a)\n",
    "#Multiline strings\n",
    "b = \"\"\"This is a multiline string\n",
    "and it can span multiple lines.\"\"\"  \n",
    "print(b)\n",
    "#String concatenation  \n",
    "c = \"Hello, \" + \"world!\"\n",
    "print(c)\n"
   ]
  },
  {
   "cell_type": "code",
   "execution_count": 11,
   "id": "6f3a0e8c",
   "metadata": {},
   "outputs": [
    {
     "name": "stdout",
     "output_type": "stream",
     "text": [
      "1 2 3\n"
     ]
    },
    {
     "data": {
      "text/plain": [
       "'\\nThis is a multi-line comment\\nIt can span multiple lines.\\n'"
      ]
     },
     "execution_count": 11,
     "metadata": {},
     "output_type": "execute_result"
    }
   ],
   "source": [
    "#Multiple statements on a single line\n",
    "x = 1; y = 2; z = x+y\n",
    "print(x, y, z)\n",
    "\n",
    "#Using comments\n",
    "# This is a single-line comment\n",
    "\"\"\"\n",
    "This is a multi-line comment\n",
    "It can span multiple lines.\n",
    "\"\"\"\n"
   ]
  },
  {
   "cell_type": "code",
   "execution_count": 16,
   "id": "1649c8be",
   "metadata": {},
   "outputs": [
    {
     "name": "stdout",
     "output_type": "stream",
     "text": [
      "5\n",
      "3.14\n",
      "Hello\n",
      "<class 'int'>\n",
      "<class 'float'>\n",
      "<class 'str'>\n",
      "Now I'm a string\n",
      "Now I'm a string and I can be concatenated with other strings.\n",
      "10\n",
      "20\n"
     ]
    }
   ],
   "source": [
    "#Variable assignment\n",
    "x = 5  # Assigning an integer  \n",
    "y = 3.14  # Assigning a float\n",
    "z = \"Hello\"  # Assigning a string\n",
    "#Printing variables\n",
    "print(x)  # Output: 5\n",
    "print(y)  # Output: 3.14\n",
    "print(z)  # Output: Hello\n",
    "#Variable types\n",
    "print(type(x))  # Output: <class 'int'>\n",
    "print(type(y))  # Output: <class 'float'>\n",
    "print(type(z))  # Output: <class 'str'>\n",
    "#Reassigning variables\n",
    "x = \"Now I'm a string\"  # Reassigning x to a string\n",
    "print(x)  # Output: Now I'm a string\n",
    "#Using variables in expressions\n",
    "result = x + \" and I can be concatenated with other strings.\"\n",
    "print(result)  # Output: Now I'm a string and I can be concatenated with other strings.\n",
    "#Variable naming rules\n",
    "# Valid variable names\n",
    "valid_name = 10\n",
    "anotherValidName = 20\n",
    "print(valid_name)  # Output: 10\n",
    "print(anotherValidName)  # Output: 20\n",
    "# Invalid variable names (uncommenting these will raise a SyntaxError)\n",
    "# 1invalidName = 30  # Cannot start with a digit   \n",
    "# invalid-name = 40  # Cannot contain hyphens\n",
    "# Using underscores"
   ]
  },
  {
   "cell_type": "code",
   "execution_count": null,
   "id": "55aa5b21",
   "metadata": {},
   "outputs": [],
   "source": []
  }
 ],
 "metadata": {
  "kernelspec": {
   "display_name": "Python 3",
   "language": "python",
   "name": "python3"
  },
  "language_info": {
   "codemirror_mode": {
    "name": "ipython",
    "version": 3
   },
   "file_extension": ".py",
   "mimetype": "text/x-python",
   "name": "python",
   "nbconvert_exporter": "python",
   "pygments_lexer": "ipython3",
   "version": "3.10.0"
  }
 },
 "nbformat": 4,
 "nbformat_minor": 5
}
