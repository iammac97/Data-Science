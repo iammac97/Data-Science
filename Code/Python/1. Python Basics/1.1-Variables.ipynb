{
 "cells": [
  {
   "cell_type": "markdown",
   "id": "1eb585cd",
   "metadata": {},
   "source": [
    "Variables in Python"
   ]
  },
  {
   "cell_type": "code",
   "execution_count": 3,
   "id": "5e788efb",
   "metadata": {},
   "outputs": [
    {
     "name": "stdout",
     "output_type": "stream",
     "text": [
      "The value of my_variable is: 10\n",
      "The new value of my_variable is: 20\n"
     ]
    }
   ],
   "source": [
    "#Decalre and assigning a variable\n",
    "my_variable = 10\n",
    "#Print the variable\n",
    "print(\"The value of my_variable is:\", my_variable)\n",
    "#Change the value of the variable\n",
    "my_variable = 20\n",
    "#Print the new value of the variable\n",
    "print(\"The new value of my_variable is:\", my_variable)"
   ]
  },
  {
   "cell_type": "code",
   "execution_count": null,
   "id": "d09c166d",
   "metadata": {},
   "outputs": [
    {
     "name": "stdout",
     "output_type": "stream",
     "text": [
      "30\n",
      "40\n"
     ]
    }
   ],
   "source": [
    "#Naming conventions\n",
    "# Using a variable name that starts with an underscore (valid)\n",
    "_first_variable = 30  # Valid, starts with an underscore\n",
    "print(_first_variable)  # Output: 30\n",
    "# Using a variable name that starts with a letter (valid)\n",
    "first_variable = 40  # Valid, starts with a letter\n",
    "print(first_variable)  # Output: 40\n",
    "# Using a variable name that contains letters and numbers (valid)\n",
    "second_variable1 = 50  # Valid, contains letters and numbers\n",
    "\n",
    "#List of invalid variable names\n",
    "# 1st_variable = 60  # Invalid, starts with a digit\n",
    "# 1st-variable = 70  # Invalid, contains a hyphen\n",
    "# 1st variable = 80  # Invalid, contains a space\n",
    "# Using a variable name that contains special characters (invalid)\n",
    "# first@variable = 90  # Invalid, contains a special character (@)\n",
    "# Using a variable name that is a Python keyword (invalid)\n",
    "# def = 100  # Invalid, 'def' is a Python keyword\n",
    "# Using a variable name that is a built-in function (invalid)\n",
    "# print = 110  # Invalid, 'print' is a built-in function\n"
   ]
  },
  {
   "cell_type": "code",
   "execution_count": null,
   "id": "80cb2fd6",
   "metadata": {},
   "outputs": [
    {
     "name": "stdout",
     "output_type": "stream",
     "text": [
      "Type of my_integer: <class 'int'>\n",
      "Type of my_float: <class 'float'>\n",
      "Type of my_string: <class 'str'>\n",
      "Type of my_boolean: <class 'bool'>\n",
      "Type of my_list: <class 'list'>\n",
      "Type of my_tuple: <class 'tuple'>\n",
      "Type of my_dict: <class 'dict'>\n",
      "Type of my_set: <class 'set'>\n",
      "Type of my_none: <class 'NoneType'>\n"
     ]
    }
   ],
   "source": [
    "#Python is dynamically typed, meaning you don't need to declare the type of a variable when you create it.\n",
    "# You can change the type of a variable at any time.\n",
    "\n",
    "#Variable types\n",
    "# Integer variable  \n",
    "my_integer = 5\n",
    "# Float variable\n",
    "my_float = 3.14\n",
    "# String variable\n",
    "my_string = \"Hello, World!\"\n",
    "# Boolean variable\n",
    "my_boolean = True\n",
    "# List variable\n",
    "my_list = [1, 2, 3, 4, 5]\n",
    "# Tuple variable\n",
    "my_tuple = (1, 2, 3)\n",
    "# Dictionary variable\n",
    "my_dict = {\"key1\": \"value1\", \"key2\": \"value2\"}\n",
    "# Set variable\n",
    "my_set = {1, 2, 3, 4, 5}\n",
    "# None variable\n",
    "my_none = None\n",
    "# Print the types of the variables\n",
    "print(\"Type of my_integer:\", type(my_integer))\n",
    "print(\"Type of my_float:\", type(my_float))\n",
    "print(\"Type of my_string:\", type(my_string))\n",
    "print(\"Type of my_boolean:\", type(my_boolean))\n",
    "print(\"Type of my_list:\", type(my_list))\n",
    "print(\"Type of my_tuple:\", type(my_tuple))\n",
    "print(\"Type of my_dict:\", type(my_dict))\n",
    "print(\"Type of my_set:\", type(my_set))\n",
    "print(\"Type of my_none:\", type(my_none))"
   ]
  },
  {
   "cell_type": "code",
   "execution_count": 10,
   "id": "a66cb551",
   "metadata": {},
   "outputs": [
    {
     "name": "stdout",
     "output_type": "stream",
     "text": [
      "Converted integer to float: 5.0\n",
      "Converted float to integer: 3\n",
      "Converted string to integer: 123\n",
      "Converted integer to string: 5\n"
     ]
    }
   ],
   "source": [
    "#Type conversion\n",
    "# Converting an integer to a float\n",
    "my_int_to_float = float(my_integer)\n",
    "print(\"Converted integer to float:\", my_int_to_float)\n",
    "# Converting a float to an integer\n",
    "my_float_to_int = int(my_float)\n",
    "print(\"Converted float to integer:\", my_float_to_int)\n",
    "# Converting a string to an integer\n",
    "my_string_to_int = int(\"123\")\n",
    "print(\"Converted string to integer:\", my_string_to_int)\n",
    "# Converting an integer to a string\n",
    "my_int_to_string = str(my_integer)\n",
    "print(\"Converted integer to string:\", my_int_to_string)\n",
    "#Converting sreing to int\n",
    "name=\"Mac\"\n",
    "# print(type(int(name)))  # This will raise an error because \"Mac\" cannot be converted to an integer\n"
   ]
  },
  {
   "cell_type": "code",
   "execution_count": 2,
   "id": "79d701e4",
   "metadata": {},
   "outputs": [
    {
     "name": "stdout",
     "output_type": "stream",
     "text": [
      "Addition: 15\n",
      "Subtraction: 5\n",
      "Multiplication: 50\n",
      "Division: 2.0\n",
      "Modulus: 0\n"
     ]
    }
   ],
   "source": [
    "#Simple calculator without using functions\n",
    "\n",
    "num1 = 10\n",
    "num2 = 5\n",
    "# Addition\n",
    "addition = num1 + num2\n",
    "print(\"Addition:\", addition)\n",
    "# Subtraction\n",
    "subtraction = num1 - num2\n",
    "print(\"Subtraction:\", subtraction)\n",
    "# Multiplication\n",
    "multiplication = num1 * num2\n",
    "print(\"Multiplication:\", multiplication)\n",
    "# Division\n",
    "division = num1 / num2\n",
    "print(\"Division:\", division)\n",
    "# Modulus\n",
    "modulus = num1 % num2\n",
    "print(\"Modulus:\", modulus)\n"
   ]
  },
  {
   "cell_type": "code",
   "execution_count": null,
   "id": "6f42bba9",
   "metadata": {},
   "outputs": [],
   "source": []
  }
 ],
 "metadata": {
  "kernelspec": {
   "display_name": "Python 3",
   "language": "python",
   "name": "python3"
  },
  "language_info": {
   "codemirror_mode": {
    "name": "ipython",
    "version": 3
   },
   "file_extension": ".py",
   "mimetype": "text/x-python",
   "name": "python",
   "nbconvert_exporter": "python",
   "pygments_lexer": "ipython3",
   "version": "3.12.0"
  }
 },
 "nbformat": 4,
 "nbformat_minor": 5
}
