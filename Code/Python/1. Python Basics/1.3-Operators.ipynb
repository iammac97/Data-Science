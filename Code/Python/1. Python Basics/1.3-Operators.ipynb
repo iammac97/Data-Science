{
 "cells": [
  {
   "cell_type": "markdown",
   "id": "266fcf55",
   "metadata": {},
   "source": [
    "# Operators in Python"
   ]
  },
  {
   "cell_type": "code",
   "execution_count": 2,
   "id": "952caeca",
   "metadata": {},
   "outputs": [
    {
     "name": "stdout",
     "output_type": "stream",
     "text": [
      "Addition: 30\n",
      "Subtraction: -10\n",
      "Multiplication: 200\n",
      "Division: 0.5\n",
      "Modulus: 10\n"
     ]
    }
   ],
   "source": [
    "#Arithmetic oprtaions\n",
    "a=10\n",
    "b=20\n",
    "#Addition\n",
    "c=a+b\n",
    "#Subtraction\n",
    "d=a-b\n",
    "#Multiplication\n",
    "e=a*b\n",
    "#Division\n",
    "f=a/b\n",
    "#Modulus\n",
    "g=a%b\n",
    "\n",
    "print(\"Addition:\", c)\n",
    "print(\"Subtraction:\", d)\n",
    "print(\"Multiplication:\", e)\n",
    "print(\"Division:\", f)\n",
    "print(\"Modulus:\", g)\n",
    "\n"
   ]
  },
  {
   "cell_type": "code",
   "execution_count": 3,
   "id": "89f478af",
   "metadata": {},
   "outputs": [
    {
     "name": "stdout",
     "output_type": "stream",
     "text": [
      "Exponentiation: 100\n",
      "Floor Division: 3\n"
     ]
    }
   ],
   "source": [
    "#Exponentiation\n",
    "h = a ** 2  # a raised to the power of 2\n",
    "# Floor Division\n",
    "i = a // 3  # integer division of a by 3\n",
    "print(\"Exponentiation:\", h)\n",
    "print(\"Floor Division:\", i)"
   ]
  },
  {
   "cell_type": "code",
   "execution_count": 4,
   "id": "b236d2fb",
   "metadata": {},
   "outputs": [
    {
     "name": "stdout",
     "output_type": "stream",
     "text": [
      "Greater than: False\n",
      "Less than: True\n",
      "Equal to: False\n",
      "Not equal to: True\n",
      "Greater than or equal to: False\n",
      "Less than or equal to: True\n"
     ]
    }
   ],
   "source": [
    "#Comparison operations\n",
    "x = 10\n",
    "y = 20\n",
    "# Greater than\n",
    "greater_than = x > y\n",
    "# Less than\n",
    "less_than = x < y\n",
    "# Equal to\n",
    "equal_to = x == y\n",
    "# Not equal to\n",
    "not_equal_to = x != y\n",
    "# Greater than or equal to\n",
    "greater_than_or_equal = x >= y\n",
    "# Less than or equal to\n",
    "less_than_or_equal = x <= y\n",
    "print(\"Greater than:\", greater_than)\n",
    "print(\"Less than:\", less_than)\n",
    "print(\"Equal to:\", equal_to)\n",
    "print(\"Not equal to:\", not_equal_to)\n",
    "print(\"Greater than or equal to:\", greater_than_or_equal)\n",
    "print(\"Less than or equal to:\", less_than_or_equal)\n",
    "\n",
    "\n"
   ]
  },
  {
   "cell_type": "code",
   "execution_count": 5,
   "id": "800a47f2",
   "metadata": {},
   "outputs": [
    {
     "name": "stdout",
     "output_type": "stream",
     "text": [
      "Logical AND: False\n",
      "Logical OR: True\n",
      "Logical NOT: False\n"
     ]
    }
   ],
   "source": [
    "#Logical operations\n",
    "a = True\n",
    "b = False\n",
    "# Logical AND\n",
    "logical_and = a and b\n",
    "# Logical OR\n",
    "logical_or = a or b\n",
    "# Logical NOT\n",
    "logical_not = not a\n",
    "print(\"Logical AND:\", logical_and)\n",
    "print(\"Logical OR:\", logical_or)\n",
    "print(\"Logical NOT:\", logical_not)\n"
   ]
  },
  {
   "cell_type": "code",
   "execution_count": 6,
   "id": "5757ab73",
   "metadata": {},
   "outputs": [
    {
     "name": "stdout",
     "output_type": "stream",
     "text": [
      "Bitwise AND: 0\n",
      "Bitwise OR: 14\n",
      "Bitwise XOR: 14\n",
      "Bitwise NOT: -11\n",
      "Left Shift: 40\n",
      "Right Shift: 2\n"
     ]
    }
   ],
   "source": [
    "#Bitwise operations\n",
    "x = 10  # 1010 in binary\n",
    "y = 4   # 0100 in binary\n",
    "# Bitwise AND\n",
    "bitwise_and = x & y\n",
    "# Bitwise OR\n",
    "bitwise_or = x | y\n",
    "# Bitwise XOR\n",
    "bitwise_xor = x ^ y\n",
    "# Bitwise NOT\n",
    "bitwise_not = ~x\n",
    "# Left Shift\n",
    "left_shift = x << 2  # Shift bits of x to the left by 2 positions\n",
    "# Right Shift\n",
    "right_shift = x >> 2  # Shift bits of x to the right by 2 positions\n",
    "print(\"Bitwise AND:\", bitwise_and)\n",
    "print(\"Bitwise OR:\", bitwise_or)\n",
    "print(\"Bitwise XOR:\", bitwise_xor)\n",
    "print(\"Bitwise NOT:\", bitwise_not)\n",
    "print(\"Left Shift:\", left_shift)\n",
    "print(\"Right Shift:\", right_shift)"
   ]
  },
  {
   "cell_type": "code",
   "execution_count": 7,
   "id": "39f801f6",
   "metadata": {},
   "outputs": [
    {
     "name": "stdout",
     "output_type": "stream",
     "text": [
      "Simple assignment: 0.0\n"
     ]
    }
   ],
   "source": [
    "#Assignment operations\n",
    "x = 10\n",
    "# Simple assignment\n",
    "y = x\n",
    "# Add and assign\n",
    "y += 5  # y = y + 5\n",
    "# Subtract and assign\n",
    "y -= 3  # y = y - 3\n",
    "# Multiply and assign\n",
    "y *= 2  # y = y * 2\n",
    "# Divide and assign\n",
    "y /= 4  # y = y / 4\n",
    "# Modulus and assign\n",
    "y %= 3  # y = y % 3\n",
    "# Exponentiation and assign\n",
    "y **= 2  # y = y ** 2\n",
    "# Floor division and assign\n",
    "y //= 2  # y = y // 2\n",
    "print(\"Simple assignment:\", y)\n",
    "\n"
   ]
  }
 ],
 "metadata": {
  "kernelspec": {
   "display_name": "Python 3",
   "language": "python",
   "name": "python3"
  },
  "language_info": {
   "codemirror_mode": {
    "name": "ipython",
    "version": 3
   },
   "file_extension": ".py",
   "mimetype": "text/x-python",
   "name": "python",
   "nbconvert_exporter": "python",
   "pygments_lexer": "ipython3",
   "version": "3.10.0"
  }
 },
 "nbformat": 4,
 "nbformat_minor": 5
}
