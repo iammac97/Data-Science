{
 "cells": [
  {
   "cell_type": "markdown",
   "id": "5d6cf066",
   "metadata": {},
   "source": [
    "# Generators"
   ]
  },
  {
   "cell_type": "markdown",
   "id": "7ce87642",
   "metadata": {},
   "source": [
    "A generator in Python is a special type of iterator that lets you iterate over data without storing the entire sequence in memory. It's defined using the yield keyword and is especially useful when working with large datasets or infinite sequences."
   ]
  },
  {
   "cell_type": "markdown",
   "id": "8e31e9b0",
   "metadata": {},
   "source": [
    "Why Use Generators?\n",
    "\n",
    "Memory Efficient: Generates items on the fly.\n",
    "\n",
    "Infinite Sequences: Easily model things like streams, Fibonacci, etc.\n",
    "\n",
    "Pipeline Processing: Chain multiple generators to process data step-by-step.\n",
    "\n"
   ]
  },
  {
   "cell_type": "code",
   "execution_count": 1,
   "id": "6dbb73da",
   "metadata": {},
   "outputs": [
    {
     "name": "stdout",
     "output_type": "stream",
     "text": [
      "5\n",
      "4\n",
      "3\n",
      "2\n",
      "1\n"
     ]
    }
   ],
   "source": [
    "#Simple generator example\n",
    "def countdown(n):\n",
    "    while n > 0:\n",
    "        yield n\n",
    "        n -= 1\n",
    "\n",
    "# Usage\n",
    "for number in countdown(5):\n",
    "    print(number)\n"
   ]
  },
  {
   "cell_type": "code",
   "execution_count": 2,
   "id": "eb573f27",
   "metadata": {},
   "outputs": [
    {
     "name": "stdout",
     "output_type": "stream",
     "text": [
      "0\n",
      "1\n",
      "4\n",
      "9\n",
      "16\n",
      "25\n",
      "36\n",
      "49\n",
      "64\n",
      "81\n"
     ]
    }
   ],
   "source": [
    "# Generator Expression (Short-form) : Similar to list comprehensions but with lazy evaluation\n",
    "squares = (x*x for x in range(10))\n",
    "\n",
    "for sq in squares:\n",
    "    print(sq)\n"
   ]
  },
  {
   "cell_type": "markdown",
   "id": "79068c1e",
   "metadata": {},
   "source": [
    "Generator-Based Reading (Lazy Evaluation)\n",
    "\n",
    "How it works:\n",
    "\n",
    "Reads one line at a time.\n",
    "\n",
    "Doesn't load the entire file into memory.\n",
    "\n",
    "Ideal for very large files (e.g., log files, big CSVs, data streams).\n",
    "\n",
    "Returns a generator object; lines are read on-demand."
   ]
  },
  {
   "cell_type": "code",
   "execution_count": 4,
   "id": "ea890e95",
   "metadata": {},
   "outputs": [],
   "source": [
    "# Practical Example: Reading large file\n",
    "def read_large_file(path):\n",
    "    with open(path,'r') as file:\n",
    "        for line in file:\n",
    "            yield line"
   ]
  },
  {
   "cell_type": "code",
   "execution_count": 6,
   "id": "33b4a073",
   "metadata": {},
   "outputs": [
    {
     "name": "stdout",
     "output_type": "stream",
     "text": [
      "In a distant land where silence echoed louder than sound,\n",
      "a curious fox wandered through fields of shimmering lavender.\n",
      "Mountains loomed like ancient guardians, cloaked in mist.\n",
      "The sky, painted with hues of gold and sapphire, whispered\n",
      "forgotten stories to those who dared to listen. Trees hummed secrets,\n",
      "and rivers laughed in silver ripples. Time danced slowly there,\n",
      "unbothered by clocks. Villagers spoke in riddles, their eyes knowing more\n",
      "than words revealed. Dreams bloomed like wildflowers, and even shadows  had personalities.\n",
      "Nothing was quite ordinary, yet everything felt deeply familiar.\n",
      "It was a place not found on maps—only within the heart.\n"
     ]
    }
   ],
   "source": [
    "path='large_file.txt'\n",
    "for line in read_large_file(path):\n",
    "    print(line.strip())"
   ]
  },
  {
   "cell_type": "code",
   "execution_count": null,
   "id": "a7d888ad",
   "metadata": {},
   "outputs": [],
   "source": []
  }
 ],
 "metadata": {
  "kernelspec": {
   "display_name": "Python 3",
   "language": "python",
   "name": "python3"
  },
  "language_info": {
   "codemirror_mode": {
    "name": "ipython",
    "version": 3
   },
   "file_extension": ".py",
   "mimetype": "text/x-python",
   "name": "python",
   "nbconvert_exporter": "python",
   "pygments_lexer": "ipython3",
   "version": "3.10.0"
  }
 },
 "nbformat": 4,
 "nbformat_minor": 5
}
