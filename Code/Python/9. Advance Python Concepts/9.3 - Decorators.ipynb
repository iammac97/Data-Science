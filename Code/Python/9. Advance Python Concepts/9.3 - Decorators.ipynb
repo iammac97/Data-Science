{
 "cells": [
  {
   "cell_type": "markdown",
   "id": "ff606631",
   "metadata": {},
   "source": [
    "# Decorators"
   ]
  },
  {
   "cell_type": "markdown",
   "id": "676812f3",
   "metadata": {},
   "source": [
    "A decorator in Python is a function that wraps another function (or method), allowing you to add functionality before and/or after the original function runs—without modifying its code.\n"
   ]
  },
  {
   "cell_type": "code",
   "execution_count": 12,
   "id": "756f1b96",
   "metadata": {},
   "outputs": [
    {
     "data": {
      "text/plain": [
       "'This a example of the function you called!'"
      ]
     },
     "execution_count": 12,
     "metadata": {},
     "output_type": "execute_result"
    }
   ],
   "source": [
    "#first see the example of function copy\n",
    "def fun1():\n",
    "    return \"This a example of the function you called!\"\n",
    "\n",
    "fun1() #Calling the function\n",
    "\n",
    "test=fun1\n",
    "type(test)#now the type of the test is a function\n",
    "\n",
    "#Printing the copied function\n",
    "test #it will return a object of the function\n",
    "test()#It means it's a copied function\n",
    "\n",
    "#deleting the above fun1 function\n",
    "del fun1\n",
    " #After deleting the original function will not impact on copied variable\n",
    "test()"
   ]
  },
  {
   "cell_type": "code",
   "execution_count": 20,
   "id": "df2714f7",
   "metadata": {},
   "outputs": [
    {
     "name": "stdout",
     "output_type": "stream",
     "text": [
      "Message: Welcome to the closure\n",
      "This is the inner function...\n"
     ]
    }
   ],
   "source": [
    "#Closures : A closure is a function that remembers the environment in which it was created, even after the outer function has finished executing.\n",
    "\n",
    "def outer_function():\n",
    "    msg=\"Welcome to the closure\"\n",
    "    def inner_function():\n",
    "        print(f\"Message: {msg}\")\n",
    "        print(\"This is the inner function...\")\n",
    "    return inner_function()\n",
    "\n",
    "outer_function()"
   ]
  },
  {
   "cell_type": "code",
   "execution_count": 21,
   "id": "29800df9",
   "metadata": {},
   "outputs": [
    {
     "name": "stdout",
     "output_type": "stream",
     "text": [
      "Something is happening *before* the function is called.\n",
      "Hello!\n",
      "Something is happening *after* the function is called.\n"
     ]
    }
   ],
   "source": [
    "#Decorator Example\n",
    "# Step 1: Define the decorator\n",
    "def my_decorator(func):\n",
    "    def wrapper():\n",
    "        print(\"Something is happening *before* the function is called.\")\n",
    "        func()\n",
    "        print(\"Something is happening *after* the function is called.\")\n",
    "    return wrapper\n",
    "\n",
    "# Step 2: Use the decorator\n",
    "@my_decorator\n",
    "def say_hello():\n",
    "    print(\"Hello!\")\n",
    "\n",
    "# Step 3: Call the decorated function\n",
    "say_hello()\n"
   ]
  },
  {
   "cell_type": "code",
   "execution_count": 22,
   "id": "c6ad9010",
   "metadata": {},
   "outputs": [
    {
     "name": "stdout",
     "output_type": "stream",
     "text": [
      "[LOG] Calling add with args=(5, 7), kwargs={}\n",
      "[LOG] add returned 12\n"
     ]
    },
    {
     "data": {
      "text/plain": [
       "12"
      ]
     },
     "execution_count": 22,
     "metadata": {},
     "output_type": "execute_result"
    }
   ],
   "source": [
    "# Real-world Use Case: Logging Decorator\n",
    "def log_function_call(func):\n",
    "    def wrapper(*args, **kwargs):\n",
    "        print(f\"[LOG] Calling {func.__name__} with args={args}, kwargs={kwargs}\")\n",
    "        result = func(*args, **kwargs)\n",
    "        print(f\"[LOG] {func.__name__} returned {result}\")\n",
    "        return result\n",
    "    return wrapper\n",
    "\n",
    "@log_function_call\n",
    "def add(a, b):\n",
    "    return a + b\n",
    "\n",
    "add(5, 7)\n"
   ]
  },
  {
   "cell_type": "code",
   "execution_count": 23,
   "id": "6f9ef54f",
   "metadata": {},
   "outputs": [
    {
     "name": "stdout",
     "output_type": "stream",
     "text": [
      "Hi there!\n",
      "Hi there!\n",
      "Hi there!\n"
     ]
    }
   ],
   "source": [
    "# Bonus: Decorator with Parameters\n",
    "def repeat(n):\n",
    "    def decorator(func):\n",
    "        def wrapper(*args, **kwargs):\n",
    "            for _ in range(n):\n",
    "                func(*args, **kwargs)\n",
    "        return wrapper\n",
    "    return decorator\n",
    "\n",
    "@repeat(3)\n",
    "def greet():\n",
    "    print(\"Hi there!\")\n",
    "\n",
    "greet()\n"
   ]
  },
  {
   "cell_type": "code",
   "execution_count": null,
   "id": "8f5b7f85",
   "metadata": {},
   "outputs": [],
   "source": []
  }
 ],
 "metadata": {
  "kernelspec": {
   "display_name": "Python 3",
   "language": "python",
   "name": "python3"
  },
  "language_info": {
   "codemirror_mode": {
    "name": "ipython",
    "version": 3
   },
   "file_extension": ".py",
   "mimetype": "text/x-python",
   "name": "python",
   "nbconvert_exporter": "python",
   "pygments_lexer": "ipython3",
   "version": "3.10.0"
  }
 },
 "nbformat": 4,
 "nbformat_minor": 5
}
