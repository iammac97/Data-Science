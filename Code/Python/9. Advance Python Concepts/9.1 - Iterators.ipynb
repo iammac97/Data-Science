{
 "cells": [
  {
   "cell_type": "markdown",
   "id": "a37f0c83",
   "metadata": {},
   "source": [
    "# Iterator"
   ]
  },
  {
   "cell_type": "markdown",
   "id": "3a1f948d",
   "metadata": {},
   "source": [
    "An iterator in Python is an object that allows you to traverse through all the elements of a collection (like a list, tuple, dictionary, etc.), one at a time, without needing to use indexing."
   ]
  },
  {
   "cell_type": "code",
   "execution_count": null,
   "id": "d2012fa1",
   "metadata": {},
   "outputs": [],
   "source": []
  }
 ],
 "metadata": {
  "kernelspec": {
   "display_name": "Python 3",
   "language": "python",
   "name": "python3"
  },
  "language_info": {
   "name": "python",
   "version": "3.10.0"
  }
 },
 "nbformat": 4,
 "nbformat_minor": 5
}
