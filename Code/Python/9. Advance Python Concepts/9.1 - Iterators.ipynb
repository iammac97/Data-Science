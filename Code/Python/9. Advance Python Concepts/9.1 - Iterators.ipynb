{
 "cells": [
  {
   "cell_type": "markdown",
   "id": "a37f0c83",
   "metadata": {},
   "source": [
    "# Iterator"
   ]
  },
  {
   "cell_type": "markdown",
   "id": "3a1f948d",
   "metadata": {},
   "source": [
    "An iterator in Python is an object that allows you to traverse through all the elements of a collection (like a list, tuple, dictionary, etc.), one at a time, without needing to use indexing."
   ]
  },
  {
   "cell_type": "code",
   "execution_count": 4,
   "id": "d2012fa1",
   "metadata": {},
   "outputs": [
    {
     "name": "stdout",
     "output_type": "stream",
     "text": [
      "1\n",
      "2\n",
      "3\n",
      "4\n",
      "5\n",
      "6\n",
      "7\n",
      "[1, 2, 3, 4, 5, 6, 7]\n"
     ]
    },
    {
     "data": {
      "text/plain": [
       "list"
      ]
     },
     "execution_count": 4,
     "metadata": {},
     "output_type": "execute_result"
    }
   ],
   "source": [
    "list2=[1,2,3,4,5,6,7]\n",
    "# normal fetching the list element\n",
    "for i in list2:\n",
    "    print(i)\n",
    "\n",
    "# or we can print all list element at a time\n",
    "print(list2)\n",
    "\n",
    "type(list2)"
   ]
  },
  {
   "cell_type": "code",
   "execution_count": 7,
   "id": "8110a229",
   "metadata": {},
   "outputs": [
    {
     "name": "stdout",
     "output_type": "stream",
     "text": [
      "<class 'list_iterator'>\n",
      "<list_iterator object at 0x000002017A52EBF0>\n"
     ]
    }
   ],
   "source": [
    "#Iterator\n",
    "iterator=iter(list2)\n",
    "#see the type of the iterator var\n",
    "print(type(iterator))\n",
    "#print the iterator\n",
    "print(iterator)"
   ]
  },
  {
   "cell_type": "code",
   "execution_count": 14,
   "id": "0f405f72",
   "metadata": {},
   "outputs": [
    {
     "data": {
      "text/plain": [
       "7"
      ]
     },
     "execution_count": 14,
     "metadata": {},
     "output_type": "execute_result"
    }
   ],
   "source": [
    "#Iteratie through all the element but it will return a element in a sequence and will return next element in next execution\n",
    "#And after the last element will through an error\n",
    "next(iterator)"
   ]
  },
  {
   "cell_type": "code",
   "execution_count": 15,
   "id": "e4f27416",
   "metadata": {},
   "outputs": [
    {
     "name": "stdout",
     "output_type": "stream",
     "text": [
      "10\n",
      "20\n",
      "30\n"
     ]
    }
   ],
   "source": [
    "# Example: Using an Iterato\n",
    "numbers = [10, 20, 30]\n",
    "iterator = iter(numbers)  # Get an iterator from the list\n",
    "\n",
    "print(next(iterator))  # 10\n",
    "print(next(iterator))  # 20\n",
    "print(next(iterator))  # 30\n",
    "# print(next(iterator))  # Raises StopIteration"
   ]
  },
  {
   "cell_type": "code",
   "execution_count": 16,
   "id": "380ba3a0",
   "metadata": {},
   "outputs": [
    {
     "name": "stdout",
     "output_type": "stream",
     "text": [
      "3\n",
      "2\n",
      "1\n"
     ]
    }
   ],
   "source": [
    "#Creating a custom iterator\n",
    "class CountDown:\n",
    "    def __init__(self, start):\n",
    "        self.num = start\n",
    "\n",
    "    def __iter__(self):\n",
    "        return self\n",
    "\n",
    "    def __next__(self):\n",
    "        if self.num <= 0:\n",
    "            raise StopIteration\n",
    "        current = self.num\n",
    "        self.num -= 1\n",
    "        return current\n",
    "\n",
    "for i in CountDown(3):\n",
    "    print(i)\n"
   ]
  },
  {
   "cell_type": "code",
   "execution_count": null,
   "id": "e5b3c5ac",
   "metadata": {},
   "outputs": [],
   "source": []
  }
 ],
 "metadata": {
  "kernelspec": {
   "display_name": "Python 3",
   "language": "python",
   "name": "python3"
  },
  "language_info": {
   "codemirror_mode": {
    "name": "ipython",
    "version": 3
   },
   "file_extension": ".py",
   "mimetype": "text/x-python",
   "name": "python",
   "nbconvert_exporter": "python",
   "pygments_lexer": "ipython3",
   "version": "3.10.0"
  }
 },
 "nbformat": 4,
 "nbformat_minor": 5
}
