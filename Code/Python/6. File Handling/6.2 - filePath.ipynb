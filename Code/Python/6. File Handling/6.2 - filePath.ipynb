{
 "cells": [
  {
   "cell_type": "markdown",
   "id": "aad9c25f",
   "metadata": {},
   "source": [
    "The os module in Python is part of the standard library and provides a way to interact with the operating system. It allows you to perform tasks like navigating the file system, running system commands, handling paths, managing processes, and more."
   ]
  },
  {
   "cell_type": "code",
   "execution_count": 1,
   "id": "6effdf83",
   "metadata": {},
   "outputs": [
    {
     "name": "stdout",
     "output_type": "stream",
     "text": [
      "New Directory is: package created!\n"
     ]
    }
   ],
   "source": [
    "#Create a new directory\n",
    "import os\n",
    "new_dir='package'\n",
    "os.mkdir(new_dir)\n",
    "print(f\"New Directory is: {new_dir} created!\")"
   ]
  },
  {
   "cell_type": "code",
   "execution_count": null,
   "id": "81945be0",
   "metadata": {},
   "outputs": [
    {
     "name": "stdout",
     "output_type": "stream",
     "text": [
      "['6.1 - fileOperations.ipynb', '6.2 - filePath.ipynb', 'dest.txt', 'example.txt', 'package', 'test.bin']\n"
     ]
    }
   ],
   "source": [
    "#Listing all the files and directory in current directory\n",
    "items=os.listdir('.')\n",
    "print(items)"
   ]
  },
  {
   "cell_type": "code",
   "execution_count": 4,
   "id": "86499e96",
   "metadata": {},
   "outputs": [
    {
     "name": "stdout",
     "output_type": "stream",
     "text": [
      "folder\\file.txt\n"
     ]
    }
   ],
   "source": [
    "#joining the path\n",
    "dir_name=\"folder\"\n",
    "file_name=\"file.txt\"\n",
    "full_path=os.path.join(dir_name,file_name)\n",
    "print(full_path)"
   ]
  },
  {
   "cell_type": "code",
   "execution_count": null,
   "id": "7b06ac42",
   "metadata": {},
   "outputs": [
    {
     "name": "stdout",
     "output_type": "stream",
     "text": [
      "d:\\Practice\\Data-Science\\Code\\Python\\6. File Handling\\folder\\file.txt\n"
     ]
    }
   ],
   "source": [
    "#joining the path\n",
    "dir_name=\"folder\"\n",
    "file_name=\"file.txt\"\n",
    "full_path=os.path.join(os.getcwd(),dir_name,file_name)#to get full path use os.getcwd()\n",
    "print(full_path)"
   ]
  },
  {
   "cell_type": "code",
   "execution_count": 6,
   "id": "6651787c",
   "metadata": {},
   "outputs": [
    {
     "name": "stdout",
     "output_type": "stream",
     "text": [
      "The path 'example.txt' does not exists\n"
     ]
    }
   ],
   "source": [
    "#Check if the file path exists or not\n",
    "path='example.txt'\n",
    "if os.path.exists(path):\n",
    "    print(f\"The path '{path}' does not exists\")\n",
    "else:\n",
    "    rint(f\"The path '{path}' exists\")"
   ]
  },
  {
   "cell_type": "code",
   "execution_count": null,
   "id": "7cce5825",
   "metadata": {},
   "outputs": [
    {
     "name": "stdout",
     "output_type": "stream",
     "text": [
      "The path 'd:\\Practice\\Data-Science\\Code\\Python\\,' is neighter a file nor a directory.\n"
     ]
    }
   ],
   "source": [
    "#Check if the given path is a file or a directory?\n",
    "path='example.txt'\n",
    "if os.path.isfile(path):\n",
    "    print(f\"The path '{path}' is a file.\")\n",
    "elif os.path.isdir(path):\n",
    "    print(f\"The path '{path}' is a directory.\")\n",
    "else:\n",
    "    print(f\"The path '{path}' is neighter a file nor a directory.\")"
   ]
  },
  {
   "cell_type": "code",
   "execution_count": null,
   "id": "e916e2e4",
   "metadata": {},
   "outputs": [
    {
     "name": "stdout",
     "output_type": "stream",
     "text": [
      "d:\\Practice\\Data-Science\\Code\\Python\\6. File Handling\\example.txt\n"
     ]
    }
   ],
   "source": [
    "#Getting the absolute path\n",
    "relative_path='example.txt'#it's relative path\n",
    "absolute_path=os.path.abspath(relative_path)#it's absolute path\n",
    "print(absolute_path)"
   ]
  },
  {
   "cell_type": "code",
   "execution_count": null,
   "id": "050a004b",
   "metadata": {},
   "outputs": [],
   "source": [
    "#Cheat sheet\n",
    "os.getcwd()  # Returns the current working directory as a string\n",
    "\n",
    "os.listdir('.')  # Lists all files and directories in the given path\n",
    "\n",
    "os.mkdir('new_folder')         # Creates a single directory\n",
    "os.makedirs('a/b/c')           # Recursively creates directories\n",
    "\n",
    "os.rmdir('folder_name')        # Removes a single empty directory\n",
    "os.removedirs('a/b/c')         # Recursively removes directories\n",
    "\n",
    "os.path.exists('some_file.txt') #Check if path exists\n",
    "\n",
    "os.path.join('folder', 'file.txt')  # Correctly forms path for OS\n",
    "\n",
    "os.path.basename('/path/to/file.txt')  # Returns 'file.txt'\n",
    "os.path.dirname('/path/to/file.txt')   # Returns '/path/to'\n",
    "\n",
    "os.path.splitext('file.txt')  # Returns ('file', '.txt')\n",
    "\n",
    "\n"
   ]
  }
 ],
 "metadata": {
  "kernelspec": {
   "display_name": "Python 3",
   "language": "python",
   "name": "python3"
  },
  "language_info": {
   "codemirror_mode": {
    "name": "ipython",
    "version": 3
   },
   "file_extension": ".py",
   "mimetype": "text/x-python",
   "name": "python",
   "nbconvert_exporter": "python",
   "pygments_lexer": "ipython3",
   "version": "3.10.0"
  }
 },
 "nbformat": 4,
 "nbformat_minor": 5
}
