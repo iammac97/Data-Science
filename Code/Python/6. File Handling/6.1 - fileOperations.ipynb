{
 "cells": [
  {
   "cell_type": "markdown",
   "id": "29d8d9ee",
   "metadata": {},
   "source": [
    "# File Operation - Read and Write Files"
   ]
  },
  {
   "cell_type": "markdown",
   "id": "29035c89",
   "metadata": {},
   "source": [
    "File handling is a crucial part of any programming language. Python provides built-in functions and methods to read from and write the files, both text and binary. This session will cover the basics of the file handling, including reading and writing text files and binary files."
   ]
  },
  {
   "cell_type": "code",
   "execution_count": 2,
   "id": "75eab750",
   "metadata": {},
   "outputs": [
    {
     "name": "stdout",
     "output_type": "stream",
     "text": [
      "hello , how are you man?\n",
      "my name is Mac and you?\n",
      "currently what are you doing?\n"
     ]
    }
   ],
   "source": [
    "#Read a file\n",
    "with open('example.txt','r') as file:#it will throw an error if file is not exists because we want to read file that doesn't  exists \n",
    "    content=file.read()\n",
    "    print(content)"
   ]
  },
  {
   "cell_type": "code",
   "execution_count": 25,
   "id": "178946d4",
   "metadata": {},
   "outputs": [
    {
     "name": "stdout",
     "output_type": "stream",
     "text": [
      "Overwrite startare John right?\n",
      "This is the new line\n",
      "This is recently appended!first line\n",
      "second line\n",
      "third line\n"
     ]
    }
   ],
   "source": [
    "# Read the file line by line\n",
    "with open('example.txt','r') as file:\n",
    "    for line in file:\n",
    "        # print(line)\n",
    "        print(line.strip())#strip() will remove the newline character"
   ]
  },
  {
   "cell_type": "code",
   "execution_count": 18,
   "id": "26db1503",
   "metadata": {},
   "outputs": [],
   "source": [
    "#Overwriting the existing file\n",
    "with open(\"example.txt\",'w') as file:\n",
    "    file.write(\"Ohh got it you are John right?\\n\")\n",
    "    file.write(\"This is the new line\")"
   ]
  },
  {
   "cell_type": "code",
   "execution_count": null,
   "id": "55543d58",
   "metadata": {},
   "outputs": [],
   "source": [
    "#Write without Overwriting a file\n",
    "with open(\"example.txt\",'a') as file:#'a' mode: Opens the file for appending. If the file does not exist, it will be created\n",
    "    file.write(\"\\nThis is recently appended!\")"
   ]
  },
  {
   "cell_type": "code",
   "execution_count": 22,
   "id": "c254fe61",
   "metadata": {},
   "outputs": [],
   "source": [
    "#Append a list of line to a file\n",
    "lines=['first line\\n','second line\\n','third line']\n",
    "with open('example.txt','a') as file:\n",
    "    file.writelines(lines)"
   ]
  },
  {
   "cell_type": "code",
   "execution_count": null,
   "id": "7b54ccaa",
   "metadata": {},
   "outputs": [],
   "source": [
    "#'r+' is used when you want to read and also update the file without truncating it, but the file must already exist.\n",
    "# r+\n",
    "with open('example.txt', 'r+') as f:\n",
    "    content = f.read()\n",
    "    f.seek(0)#\n",
    "    f.write(\"Overwrite start\")"
   ]
  },
  {
   "cell_type": "code",
   "execution_count": 31,
   "id": "4d46161e",
   "metadata": {},
   "outputs": [
    {
     "name": "stdout",
     "output_type": "stream",
     "text": [
      "Reset content\n"
     ]
    }
   ],
   "source": [
    "#'w+' gives you full control (read/write), but still erases all contents when opened.\n",
    "# w+\n",
    "with open('example.txt', 'w+') as f:\n",
    "    f.write(\"Reset content\")\n",
    "    f.seek(0)\n",
    "    print(f.read())  # Will read what was just written"
   ]
  },
  {
   "cell_type": "code",
   "execution_count": 34,
   "id": "657ed736",
   "metadata": {},
   "outputs": [
    {
     "name": "stdout",
     "output_type": "stream",
     "text": [
      "Hello world\n",
      "This is new line\n",
      "\n"
     ]
    }
   ],
   "source": [
    "#Writing and then reading the file\n",
    "with open('example.txt','w+') as file:\n",
    "    file.write(\"Hello world\\n\")\n",
    "    file.write(\"This is new line\\n\")\n",
    "    #move the file curser to the begining of the file\n",
    "    file.seek(0)\n",
    "    #read the content of the file\n",
    "    content=file.read()\n",
    "    print(content)"
   ]
  },
  {
   "cell_type": "markdown",
   "id": "26aa6425",
   "metadata": {},
   "source": [
    "seek() syntax : file.seek(offset, whence)\n",
    "\n",
    "offset (int): Number of bytes to move the cursor.\n",
    "\n",
    "whence (optional, int):\n",
    "\n",
    "0 – from the start of the file (default).\n",
    "1 – from the current position.\n",
    "2 – from the end of the file."
   ]
  },
  {
   "cell_type": "code",
   "execution_count": 26,
   "id": "e1ab6586",
   "metadata": {},
   "outputs": [],
   "source": [
    "#Read binary files\n",
    "data=b'\\x00\\x01\\x02\\x03\\x04'\n",
    "with open('test.bin','wb') as file:\n",
    "    file.write(data)\n"
   ]
  },
  {
   "cell_type": "code",
   "execution_count": 27,
   "id": "526ea85b",
   "metadata": {},
   "outputs": [
    {
     "name": "stdout",
     "output_type": "stream",
     "text": [
      "b'\\x00\\x01\\x02\\x03\\x04'\n"
     ]
    }
   ],
   "source": [
    "#Reading the binary file \n",
    "with open('test.bin','rb') as file:\n",
    "    cont=file.read()\n",
    "    print(cont)"
   ]
  },
  {
   "cell_type": "code",
   "execution_count": null,
   "id": "8259237f",
   "metadata": {},
   "outputs": [],
   "source": [
    "#read the content from a source text file and write to a destination text file\n",
    "with open('example.txt','r') as file:#here jst copying the content into cont var\n",
    "    cont=file.read()\n",
    "\n",
    "with open('dest.txt','w') as dest_file:#it will create the dest.txt with same content as examle.txt\n",
    "    dest_file.write(cont)"
   ]
  },
  {
   "cell_type": "markdown",
   "id": "d8bc8045",
   "metadata": {},
   "source": [
    "Use *open()* for: The built-in open() function is used to work with the contents of a file — reading, writing, appending, seeking, etc.\n",
    "\n",
    "*Task*\t                        *Example* \n",
    "Reading content\t                file.read() \n",
    "Writing content\t                file.write(\"data\") \n",
    "Moving file cursor\t            file.seek(0) \n",
    "Appending to file\t            'a' mode \n",
    "Creating a file\t                'w' or 'x' modes \n",
    "Checking file position\t        file.tell() \n",
    "\n",
    "open() ka kaam hai us notebook ko kholna aur usme likhna ya padhna."
   ]
  },
  {
   "cell_type": "markdown",
   "id": "e3c21d35",
   "metadata": {},
   "source": [
    "Use *os* for: The os module is used to interact with the operating system and file system — checking for files, removing, renaming, moving, and inspecting paths or directories.\n",
    "*Task*\t                                *Example*\n",
    "Check if file exists\t                os.path.exists(\"file.txt\")\n",
    "Delete file\t                            os.remove(\"file.txt\")\n",
    "Rename/move file\t                    os.rename(\"old.txt\", \"new.txt\")\n",
    "Create directories\t                    os.mkdir(\"folder\")\n",
    "List files in a folder\t                os.listdir(\".\")\n",
    "\n",
    "Os ka kaam hai file ko dhoondhna, hatana, naam badalna ya folder banana."
   ]
  },
  {
   "cell_type": "code",
   "execution_count": 30,
   "id": "2878dd9b",
   "metadata": {},
   "outputs": [
    {
     "name": "stdout",
     "output_type": "stream",
     "text": [
      "Lines:5, Words:18, Characters:111\n"
     ]
    }
   ],
   "source": [
    "#Read the text file count the number of lines, word, and characters.\n",
    "#counting lines, words, and characters in the text file\n",
    "def count_file_text(file_path):\n",
    "    with open(file_path,'r') as file:\n",
    "        lines=file.readlines()\n",
    "        line_count=len(lines)\n",
    "        word_count=sum(len(line.split()) for line in lines)\n",
    "        char_count=sum(len(line) for line in lines)\n",
    "    return line_count,word_count,char_count\n",
    "file_path='example.txt'\n",
    "lines, words,characters=count_file_text(file_path)\n",
    "print(f\"Lines:{lines}, Words:{words}, Characters:{characters}\")"
   ]
  },
  {
   "cell_type": "code",
   "execution_count": null,
   "id": "0ef34a99",
   "metadata": {},
   "outputs": [],
   "source": []
  }
 ],
 "metadata": {
  "kernelspec": {
   "display_name": "Python 3",
   "language": "python",
   "name": "python3"
  },
  "language_info": {
   "codemirror_mode": {
    "name": "ipython",
    "version": 3
   },
   "file_extension": ".py",
   "mimetype": "text/x-python",
   "name": "python",
   "nbconvert_exporter": "python",
   "pygments_lexer": "ipython3",
   "version": "3.10.0"
  }
 },
 "nbformat": 4,
 "nbformat_minor": 5
}
