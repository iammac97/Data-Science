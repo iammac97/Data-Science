{
 "cells": [
  {
   "cell_type": "markdown",
   "id": "310574b4",
   "metadata": {},
   "source": [
    "# NumPy"
   ]
  },
  {
   "cell_type": "markdown",
   "id": "1993bda3",
   "metadata": {},
   "source": [
    "NumPy is the foundational library for numerical computing in Python. Think of it as Python's math powerhouse—fast, compact, and essential for data science, machine learning, simulations, and more."
   ]
  },
  {
   "cell_type": "code",
   "execution_count": 1,
   "id": "209ce2d2",
   "metadata": {},
   "outputs": [],
   "source": [
    "import numpy as np\n"
   ]
  },
  {
   "cell_type": "markdown",
   "id": "f9a87062",
   "metadata": {},
   "source": [
    "| Method / Function            | Description                            | Example                  |\n",
    "| ---------------------------- | -------------------------------------- | ------------------------ |\n",
    "| `np.shape()`                 | Returns dimensions of array            | `a.shape`                |\n",
    "| `np.reshape()`               | Changes shape without changing data    | `a.reshape(2,3)`         |\n",
    "| `np.flatten()`               | Converts multi-dimensional array to 1D | `a.flatten()`            |\n",
    "| `np.transpose()`             | Swaps rows with columns                | `a.T`                    |\n",
    "| `np.sum()`                   | Sum of array elements                  | `np.sum(a)`              |\n",
    "| `np.mean()`                  | Mean of elements                       | `np.mean(a)`             |\n",
    "| `np.std()`                   | Standard deviation                     | `np.std(a)`              |\n",
    "| `np.min()`, `np.max()`       | Min or Max value                       | `np.min(a)`              |\n",
    "| `np.argmin()`, `np.argmax()` | Index of Min/Max value                 | `np.argmax(a)`           |\n",
    "| `np.concatenate()`           | Joins arrays                           | `np.concatenate([a, b])` |\n",
    "| `np.split()`                 | Splits arrays into sub-arrays          | `np.split(a, 2)`         |\n"
   ]
  },
  {
   "cell_type": "code",
   "execution_count": 4,
   "id": "ec89dcb0",
   "metadata": {},
   "outputs": [
    {
     "name": "stdout",
     "output_type": "stream",
     "text": [
      "[1 2 3]\n",
      "<class 'numpy.ndarray'>\n",
      "(3,)\n"
     ]
    }
   ],
   "source": [
    "# 1D Array\n",
    "a = np.array([1, 2, 3])\n",
    "print(a)\n",
    "print(type(a))\n",
    "print(a.shape)"
   ]
  },
  {
   "cell_type": "code",
   "execution_count": 24,
   "id": "97db8ace",
   "metadata": {},
   "outputs": [
    {
     "name": "stdout",
     "output_type": "stream",
     "text": [
      "[[1 2 3]]\n",
      "2\n"
     ]
    }
   ],
   "source": [
    "#Convert 1d array to 2d by using Reshape()\n",
    "b=a.reshape(1,3)#but the dimensions should be clear\n",
    "print(b)\n",
    "print(b.ndim)"
   ]
  },
  {
   "cell_type": "code",
   "execution_count": 11,
   "id": "1c8e2055",
   "metadata": {},
   "outputs": [
    {
     "name": "stdout",
     "output_type": "stream",
     "text": [
      "<class 'numpy.ndarray'>\n",
      "[[1 2]\n",
      " [3 4]]\n"
     ]
    }
   ],
   "source": [
    "# 2D Array\n",
    "c = np.array([[1, 2], [3, 4]])\n",
    "print(type(c))\n",
    "print(c)"
   ]
  },
  {
   "cell_type": "code",
   "execution_count": 13,
   "id": "a06cc005",
   "metadata": {},
   "outputs": [
    {
     "name": "stdout",
     "output_type": "stream",
     "text": [
      "[[0. 0. 0.]\n",
      " [0. 0. 0.]]\n"
     ]
    }
   ],
   "source": [
    "# Array of zeros\n",
    "zeros = np.zeros((2, 3))\n",
    "print(zeros)"
   ]
  },
  {
   "cell_type": "code",
   "execution_count": null,
   "id": "02e997d2",
   "metadata": {},
   "outputs": [
    {
     "name": "stdout",
     "output_type": "stream",
     "text": [
      "[[1. 1.]\n",
      " [1. 1.]\n",
      " [1. 1.]]\n"
     ]
    }
   ],
   "source": [
    "# Array of ones\n",
    "ones = np.ones((3, 2))\n",
    "print(ones)"
   ]
  },
  {
   "cell_type": "code",
   "execution_count": 15,
   "id": "f1f9353c",
   "metadata": {},
   "outputs": [
    {
     "name": "stdout",
     "output_type": "stream",
     "text": [
      "[[1. 0. 0.]\n",
      " [0. 1. 0.]\n",
      " [0. 0. 1.]]\n"
     ]
    }
   ],
   "source": [
    "# Identity matrix\n",
    "identity = np.eye(3)\n",
    "print(identity)"
   ]
  },
  {
   "cell_type": "code",
   "execution_count": null,
   "id": "c2edf78c",
   "metadata": {},
   "outputs": [
    {
     "name": "stdout",
     "output_type": "stream",
     "text": [
      "[ 0  2  4  6  8 10]\n"
     ]
    }
   ],
   "source": [
    "# Array with range\n",
    "arange = np.arange(0, 11, 2)#syntax  np.arange(start,end,step)\n",
    "print(arange)"
   ]
  },
  {
   "cell_type": "code",
   "execution_count": 22,
   "id": "03303080",
   "metadata": {},
   "outputs": [
    {
     "name": "stdout",
     "output_type": "stream",
     "text": [
      "[0.   0.25 0.5  0.75 1.  ]\n"
     ]
    }
   ],
   "source": [
    "# Linearly spaced array\n",
    "linspace = np.linspace(0, 1, 5)\n",
    "print(linspace)"
   ]
  },
  {
   "cell_type": "code",
   "execution_count": null,
   "id": "11cc4afb",
   "metadata": {},
   "outputs": [
    {
     "name": "stdout",
     "output_type": "stream",
     "text": [
      "Array:\n",
      " [[1 2 3]\n",
      " [4 5 6]]\n",
      "ArrayShape: (2, 3)\n",
      "ArrayDimensions: 2\n",
      "ArraySize: 6\n",
      "ArrayDataType: int64\n",
      "ItemSize(in bytes): 8\n"
     ]
    }
   ],
   "source": [
    "#Attributes of NumPy array\n",
    "ar1=np.array([[1,2,3],[4,5,6]])\n",
    "print(\"Array:\\n\",ar1)\n",
    "print(\"ArrayShape:\",ar1.shape)\n",
    "print(\"ArrayDimensions:\",ar1.ndim)\n",
    "print(\"ArraySize:\",ar1.size)\n",
    "print(\"ArrayDataType:\",ar1.dtype)\n",
    "print(\"ItemSize(in bytes):\",ar1.itemsize)"
   ]
  },
  {
   "cell_type": "code",
   "execution_count": 26,
   "id": "476bbebc",
   "metadata": {},
   "outputs": [
    {
     "name": "stdout",
     "output_type": "stream",
     "text": [
      "Addition is: [5 7 9]\n",
      "Substraction is: [-3 -3 -3]\n",
      "Multiplication is: [ 4 10 18]\n",
      "Division is: [0.25 0.4  0.5 ]\n",
      "Dot Product is: 32\n",
      "Matrix Multiplication: [[ 4  6]\n",
      " [10 12]]\n"
     ]
    }
   ],
   "source": [
    "#Array Operations\n",
    "x = np.array([1, 2, 3])\n",
    "y = np.array([4, 5, 6])\n",
    "\n",
    "# Element-wise operations\n",
    "add = x + y\n",
    "print(\"Addition is:\",add)\n",
    "sub = x - y\n",
    "print(\"Substraction is:\",sub)\n",
    "mul = x * y\n",
    "print(\"Multiplication is:\",mul)\n",
    "div = x / y\n",
    "print(\"Division is:\",div)\n",
    "\n",
    "# Dot product\n",
    "dot = np.dot(x, y)\n",
    "print(\"Dot Product is:\",dot)\n",
    "\n",
    "# Matrix multiplication\n",
    "a = np.array([[1, 2], [3, 4]])\n",
    "b = np.array([[2, 0], [1, 3]])\n",
    "matmul = np.matmul(a, b)\n",
    "print(\"Matrix Multiplication:\",matmul)\n"
   ]
  },
  {
   "cell_type": "code",
   "execution_count": 28,
   "id": "433fa5ab",
   "metadata": {},
   "outputs": [
    {
     "name": "stdout",
     "output_type": "stream",
     "text": [
      "[1.41421356 2.         2.23606798 2.64575131 2.82842712]\n",
      "[   7.3890561    54.59815003  148.4131591  1096.63315843 2980.95798704]\n",
      "[ 0.90929743 -0.7568025  -0.95892427  0.6569866   0.98935825]\n",
      "<ufunc 'log'>\n"
     ]
    }
   ],
   "source": [
    "#Universal function\n",
    "ar2=np.array([2,4,5,7,8])\n",
    "\n",
    "# square root\n",
    "print(np.sqrt(ar2))\n",
    "\n",
    "#Exponential\n",
    "print(np.exp(ar2))\n",
    "\n",
    "#sine\n",
    "print(np.sin(ar2))\n",
    "\n",
    "#natural log\n",
    "print(np.log)"
   ]
  },
  {
   "cell_type": "code",
   "execution_count": null,
   "id": "29c1cce4",
   "metadata": {},
   "outputs": [
    {
     "data": {
      "text/plain": [
       "array([[11, 21, 31],\n",
       "       [12, 22, 32],\n",
       "       [13, 23, 33]])"
      ]
     },
     "execution_count": 29,
     "metadata": {},
     "output_type": "execute_result"
    }
   ],
   "source": [
    "#Broadcasting Example\n",
    "# Add scalar to each element\n",
    "a = np.array([1, 2, 3])\n",
    "a + 5  # Output: [6 7 8]\n",
    "\n",
    "# Adding arrays of different shapes\n",
    "a = np.array([[1], [2], [3]])\n",
    "b = np.array([10, 20, 30])\n",
    "a + b  # Broadcasts b to each row of a\n"
   ]
  },
  {
   "cell_type": "code",
   "execution_count": 33,
   "id": "aea5d37e",
   "metadata": {},
   "outputs": [
    {
     "name": "stdout",
     "output_type": "stream",
     "text": [
      "2\n",
      "(3, 4)\n",
      "[[12  4  5  6]\n",
      " [ 1  7  8 10]\n",
      " [ 4  3  8  9]]\n"
     ]
    }
   ],
   "source": [
    "#Array slicing and indexing\n",
    "ar3=np.array([[12,4,5,6],[1,7,8,10],[4,3,8,9]])\n",
    "print(ar3.ndim)\n",
    "print(ar3.shape)\n",
    "print(ar3)"
   ]
  },
  {
   "cell_type": "code",
   "execution_count": 35,
   "id": "494239e1",
   "metadata": {},
   "outputs": [
    {
     "name": "stdout",
     "output_type": "stream",
     "text": [
      "6\n"
     ]
    }
   ],
   "source": [
    "print(ar3[0][3])"
   ]
  },
  {
   "cell_type": "code",
   "execution_count": 42,
   "id": "a77458c9",
   "metadata": {},
   "outputs": [
    {
     "data": {
      "text/plain": [
       "array([[ 1,  7,  8, 10]])"
      ]
     },
     "execution_count": 42,
     "metadata": {},
     "output_type": "execute_result"
    }
   ],
   "source": [
    "#Print elements in 2nd row\n",
    "ar3[1:2]"
   ]
  },
  {
   "cell_type": "code",
   "execution_count": 48,
   "id": "aad31244",
   "metadata": {},
   "outputs": [
    {
     "name": "stdout",
     "output_type": "stream",
     "text": [
      "[[ 6]\n",
      " [10]\n",
      " [ 9]]\n"
     ]
    }
   ],
   "source": [
    "#Print the elements in 4th column\n",
    "print(ar3[0:,3:])"
   ]
  },
  {
   "cell_type": "code",
   "execution_count": 52,
   "id": "e6199f8d",
   "metadata": {},
   "outputs": [
    {
     "name": "stdout",
     "output_type": "stream",
     "text": [
      "[[7 8]\n",
      " [3 8]]\n"
     ]
    }
   ],
   "source": [
    "#for example we need to print 7 8 and 3 8\n",
    "print(ar3[1:,1:3])"
   ]
  },
  {
   "cell_type": "code",
   "execution_count": 53,
   "id": "2c9f85c4",
   "metadata": {},
   "outputs": [
    {
     "name": "stdout",
     "output_type": "stream",
     "text": [
      "[[12  4  5  6]\n",
      " [ 1  7  8 10]\n",
      " [ 4  3 20  9]]\n"
     ]
    }
   ],
   "source": [
    "#Modify an array\n",
    "ar3[2,2]=20\n",
    "print(ar3)"
   ]
  },
  {
   "cell_type": "code",
   "execution_count": 55,
   "id": "95a7d09b",
   "metadata": {},
   "outputs": [
    {
     "name": "stdout",
     "output_type": "stream",
     "text": [
      "[4 5]\n"
     ]
    }
   ],
   "source": [
    "#Masking and filtering\n",
    "a = np.array([1, 2, 3, 4, 5])\n",
    "\n",
    "# Get elements > 3\n",
    "mask = a > 3\n",
    "filtered = a[mask]  # Output: [4 5]\n",
    "print(filtered)\n"
   ]
  },
  {
   "cell_type": "code",
   "execution_count": 57,
   "id": "59a846c3",
   "metadata": {},
   "outputs": [
    {
     "name": "stdout",
     "output_type": "stream",
     "text": [
      "0.3745401188473625\n",
      "[[0.95071431 0.73199394 0.59865848]\n",
      " [0.15601864 0.15599452 0.05808361]]\n",
      "[[8 5]\n",
      " [4 8]]\n"
     ]
    }
   ],
   "source": [
    "#Random number\n",
    "np.random.seed(42)  # For reproducibility\n",
    "\n",
    "# Random float between 0 and 1\n",
    "r1 = np.random.rand()\n",
    "print(r1)\n",
    "\n",
    "# Random array\n",
    "r2 = np.random.rand(2, 3)\n",
    "print(r2)\n",
    "\n",
    "# Random integers\n",
    "r3 = np.random.randint(1, 10, size=(2, 2))\n",
    "print(r3)\n"
   ]
  },
  {
   "cell_type": "code",
   "execution_count": 58,
   "id": "2a4af352",
   "metadata": {},
   "outputs": [
    {
     "name": "stdout",
     "output_type": "stream",
     "text": [
      "Normalized data: [-1.46385011 -0.87831007 -0.29277002  0.29277002  0.87831007  1.46385011]\n"
     ]
    }
   ],
   "source": [
    "#statistical concepts : Normalization\n",
    "#To have a mean pf 0 and standard deviation of 1\n",
    "data=np.array([1,2,3,4,5,6])\n",
    "\n",
    "#Calculate the mean and standard deviation\n",
    "mean = np.mean(data)\n",
    "std_dev = np.std(data)\n",
    "#Normalize the data\n",
    "normalized_data=(data-mean)/std_dev\n",
    "print(\"Normalized data:\",normalized_data)\n"
   ]
  },
  {
   "cell_type": "code",
   "execution_count": 59,
   "id": "2e1d495b",
   "metadata": {},
   "outputs": [
    {
     "name": "stdout",
     "output_type": "stream",
     "text": [
      "6.555555555555555\n",
      "6.0\n",
      "3.201080064641763\n",
      "10.246913580246915\n"
     ]
    }
   ],
   "source": [
    "data=np.array([2,3,4,5,6,8,9,10,12])\n",
    "\n",
    "#Mean\n",
    "mean=np.mean(data)\n",
    "print(mean)\n",
    "\n",
    "#Median\n",
    "median=np.median(data)\n",
    "print(median)\n",
    "\n",
    "#standard deviation\n",
    "std_dev=np.std(data)\n",
    "print(std_dev)\n",
    "\n",
    "#Varience\n",
    "varience=np.var(data)\n",
    "print(varience)\n"
   ]
  },
  {
   "cell_type": "code",
   "execution_count": 63,
   "id": "388a01ad",
   "metadata": {},
   "outputs": [
    {
     "name": "stdout",
     "output_type": "stream",
     "text": [
      "[12 24 18]\n"
     ]
    }
   ],
   "source": [
    "#Logical Operation\n",
    "data=np.array([4,5,3,7,8,12,24,18])\n",
    "print(data[(data>10) & (data<=30)])\n"
   ]
  },
  {
   "cell_type": "markdown",
   "id": "e6bfa1d2",
   "metadata": {},
   "source": [
    "Conclusions : NumPy arrays are faster and more memory-efficient than Python lists. Use NumPy for any numerical computation involving vectors, matrices, or large datasets."
   ]
  },
  {
   "cell_type": "markdown",
   "id": "bec03ff1",
   "metadata": {},
   "source": []
  }
 ],
 "metadata": {
  "kernelspec": {
   "display_name": "Python 3",
   "language": "python",
   "name": "python3"
  },
  "language_info": {
   "codemirror_mode": {
    "name": "ipython",
    "version": 3
   },
   "file_extension": ".py",
   "mimetype": "text/x-python",
   "name": "python",
   "nbconvert_exporter": "python",
   "pygments_lexer": "ipython3",
   "version": "3.10.0"
  }
 },
 "nbformat": 4,
 "nbformat_minor": 5
}
