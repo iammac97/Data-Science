{
 "cells": [
  {
   "cell_type": "markdown",
   "id": "310574b4",
   "metadata": {},
   "source": [
    "# NumPy"
   ]
  },
  {
   "cell_type": "markdown",
   "id": "1993bda3",
   "metadata": {},
   "source": [
    "NumPy is the foundational library for numerical computing in Python. Think of it as Python's math powerhouse—fast, compact, and essential for data science, machine learning, simulations, and more."
   ]
  },
  {
   "cell_type": "code",
   "execution_count": null,
   "id": "209ce2d2",
   "metadata": {},
   "outputs": [],
   "source": []
  }
 ],
 "metadata": {
  "kernelspec": {
   "display_name": "Python 3",
   "language": "python",
   "name": "python3"
  },
  "language_info": {
   "name": "python",
   "version": "3.10.0"
  }
 },
 "nbformat": 4,
 "nbformat_minor": 5
}
