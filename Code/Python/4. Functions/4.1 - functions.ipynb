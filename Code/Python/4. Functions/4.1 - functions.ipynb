{
 "cells": [
  {
   "cell_type": "markdown",
   "id": "0aad0c5e",
   "metadata": {},
   "source": [
    "# Functions\n",
    "A block of code that performs aspecific task. Function help in organizeing code, reusing code, and improving readability."
   ]
  },
  {
   "cell_type": "code",
   "execution_count": 1,
   "id": "61675dc4",
   "metadata": {},
   "outputs": [],
   "source": [
    "#Function syntax\n",
    "def function_name(parameters):\n",
    "    #function body\n",
    "    return expression\n",
    "\n",
    "#Example function\n",
    "def add_numbers(a, b):\n",
    "    \"\"\"Returns the sum of two numbers.\"\"\"\n",
    "    return a + b"
   ]
  },
  {
   "cell_type": "code",
   "execution_count": 7,
   "id": "1b8694e1",
   "metadata": {},
   "outputs": [
    {
     "name": "stdout",
     "output_type": "stream",
     "text": [
      "The sum of the numbers is: 8\n",
      "The number you have given is: odd\n"
     ]
    }
   ],
   "source": [
    "def even_or_odd(number):\n",
    "    \"\"\"Returns 'even' if the number is even, otherwise returns 'odd'.\"\"\"\n",
    "    if number % 2 == 0:\n",
    "        return \"even\"\n",
    "    else:\n",
    "        return \"odd\"\n",
    "#Example usage\n",
    "result = even_or_odd(7)#Calling the function with an argument\n",
    "result1 = add_numbers(5, 3)  # Calling the function with two arguments\n",
    "print(f\"The sum of the numbers is: {result1}\")\n",
    "print(f\"The number you have given is: {result}\")"
   ]
  },
  {
   "cell_type": "code",
   "execution_count": 8,
   "id": "43259ce4",
   "metadata": {},
   "outputs": [
    {
     "name": "stdout",
     "output_type": "stream",
     "text": [
      "Hello Mac, welcome to the green world!\n"
     ]
    }
   ],
   "source": [
    "#Default parameters\n",
    "def green(name):\n",
    "    print(f\"Hello {name}, welcome to the green world!\")\n",
    "#Calling the function with default parameter\n",
    "green(\"Mac\")"
   ]
  },
  {
   "cell_type": "code",
   "execution_count": 13,
   "id": "454791f0",
   "metadata": {},
   "outputs": [
    {
     "name": "stdout",
     "output_type": "stream",
     "text": [
      "apple\n",
      "banana\n",
      "cherry\n",
      "2\n",
      "34\n",
      "21\n",
      "5.5\n"
     ]
    }
   ],
   "source": [
    "#variable length arguments\n",
    "def variable_length_args(*argts):\n",
    "    \"\"\"Prints all arguments passed to the function.\"\"\"\n",
    "    for arg in argts:\n",
    "        print(arg)\n",
    "#Calling the function with variable length arguments\n",
    "variable_length_args(\"apple\", \"banana\", \"cherry\",2,34,21,5.5)"
   ]
  },
  {
   "cell_type": "code",
   "execution_count": null,
   "id": "97707195",
   "metadata": {},
   "outputs": [
    {
     "name": "stdout",
     "output_type": "stream",
     "text": [
      "Jaunpur is 26 years old and lives in Mac! \n"
     ]
    }
   ],
   "source": [
    "#Positional arguments\n",
    "def positional_args(name, age, city):\n",
    "    \"\"\"Prints the three positional arguments.\"\"\"\n",
    "    print(f\"{name} is {age} years old and lives in {city}! \")\n",
    "#Calling the function with positional arguments\n",
    "positional_args(\"Jaunpur\",26, \"Mac\")#here the order matters"
   ]
  },
  {
   "cell_type": "code",
   "execution_count": null,
   "id": "2f6815e1",
   "metadata": {},
   "outputs": [
    {
     "name": "stdout",
     "output_type": "stream",
     "text": [
      "Mac is 26 years old and lives in Jaunpur! \n"
     ]
    }
   ],
   "source": [
    "#Keyword arguments\n",
    "def keyword_args(name, age, city):\n",
    "    print(f\"{name} is {age} years old and lives in {city}! \")\n",
    "#Calling the function with keyword arguments\n",
    "keyword_args( age=26, city=\"Jaunpur\",name=\"Mac\")#while using keyword arguments, the order of arguments does not matter"
   ]
  },
  {
   "cell_type": "code",
   "execution_count": 20,
   "id": "ebd3e2c0",
   "metadata": {},
   "outputs": [
    {
     "name": "stdout",
     "output_type": "stream",
     "text": [
      "Mac is 26 years old and lives in Jaunpur.\n",
      "Additional info: Loves Python\n",
      "Additional info: Enjoys hiking\n"
     ]
    }
   ],
   "source": [
    "#Positional and keyword arguments with variable length arguments\n",
    "def mixed_args(name, age, *args, city=\"Unknown\"):\n",
    "    \"\"\"Prints the name, age, and any additional arguments.\"\"\"\n",
    "    print(f\"{name} is {age} years old and lives in {city}.\")\n",
    "    for arg in args:\n",
    "        print(f\"Additional info: {arg}\")\n",
    "#Calling the function with mixed arguments\n",
    "mixed_args(\"Mac\", 26, \"Loves Python\", \"Enjoys hiking\", city=\"Jaunpur\")"
   ]
  },
  {
   "cell_type": "code",
   "execution_count": 21,
   "id": "da923b19",
   "metadata": {},
   "outputs": [
    {
     "name": "stdout",
     "output_type": "stream",
     "text": [
      "The square of the number is: 25\n"
     ]
    }
   ],
   "source": [
    "#function with return statement\n",
    "def square(number):\n",
    "    \"\"\"Returns the square of the given number.\"\"\"\n",
    "    return number * number\n",
    "#Calling the function and printing the result\n",
    "result_square = square(5)\n",
    "print(f\"The square of the number is: {result_square}\")"
   ]
  }
 ],
 "metadata": {
  "kernelspec": {
   "display_name": "Python 3",
   "language": "python",
   "name": "python3"
  },
  "language_info": {
   "codemirror_mode": {
    "name": "ipython",
    "version": 3
   },
   "file_extension": ".py",
   "mimetype": "text/x-python",
   "name": "python",
   "nbconvert_exporter": "python",
   "pygments_lexer": "ipython3",
   "version": "3.10.0"
  }
 },
 "nbformat": 4,
 "nbformat_minor": 5
}
