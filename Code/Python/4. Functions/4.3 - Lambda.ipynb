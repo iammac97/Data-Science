{
 "cells": [
  {
   "cell_type": "markdown",
   "id": "0f3a8a0d",
   "metadata": {},
   "source": [
    "# Lambda Function"
   ]
  },
  {
   "cell_type": "markdown",
   "id": "acbc3988",
   "metadata": {},
   "source": [
    "Lambda funtions are small anonymous functions defined using the *lambda* keyword. They can have any number of arguments but only oe expression. They are commonly used for short operations or as arguments to higher-order functions."
   ]
  },
  {
   "cell_type": "markdown",
   "id": "dceaca02",
   "metadata": {},
   "source": [
    "#syntax\n",
    "lambda argument: expression\n"
   ]
  },
  {
   "cell_type": "code",
   "execution_count": 1,
   "id": "6f10bd39",
   "metadata": {},
   "outputs": [
    {
     "name": "stdout",
     "output_type": "stream",
     "text": [
      "11\n"
     ]
    }
   ],
   "source": [
    "addition = lambda a,b:a+b\n",
    "type(addition)\n",
    "print(addition(5,6))"
   ]
  },
  {
   "cell_type": "code",
   "execution_count": 3,
   "id": "6c57ebfc",
   "metadata": {},
   "outputs": [
    {
     "name": "stdout",
     "output_type": "stream",
     "text": [
      "Odd\n"
     ]
    }
   ],
   "source": [
    "#Normal function\n",
    "def evenOdd(n):\n",
    "    if n%2==0:\n",
    "        return \"Even\"\n",
    "    else:\n",
    "        return \"Odd\"\n",
    "print(evenOdd(7))"
   ]
  },
  {
   "cell_type": "code",
   "execution_count": 8,
   "id": "34eacd27",
   "metadata": {},
   "outputs": [
    {
     "name": "stdout",
     "output_type": "stream",
     "text": [
      "Even\n"
     ]
    }
   ],
   "source": [
    "#Lambda function\n",
    "evenOddl=lambda n:\"Even\" if n%2==0 else \"Odd\"\n",
    "print(evenOddl(8))"
   ]
  },
  {
   "cell_type": "code",
   "execution_count": 10,
   "id": "dc199092",
   "metadata": {},
   "outputs": [
    {
     "data": {
      "text/plain": [
       "[4, 9, 16, 25, 100, 36, 49, 64, 1156, 4225, 81]"
      ]
     },
     "execution_count": 10,
     "metadata": {},
     "output_type": "execute_result"
    }
   ],
   "source": [
    "#map() - applies a function to all item in a list --with lambda \n",
    "l1=[2,3,4,5,10,6,7,8,34,65,9]\n",
    "list(map(lambda x : x**2,l1))"
   ]
  },
  {
   "cell_type": "code",
   "execution_count": null,
   "id": "28969875",
   "metadata": {},
   "outputs": [],
   "source": []
  }
 ],
 "metadata": {
  "kernelspec": {
   "display_name": "Python 3",
   "language": "python",
   "name": "python3"
  },
  "language_info": {
   "codemirror_mode": {
    "name": "ipython",
    "version": 3
   },
   "file_extension": ".py",
   "mimetype": "text/x-python",
   "name": "python",
   "nbconvert_exporter": "python",
   "pygments_lexer": "ipython3",
   "version": "3.10.0"
  }
 },
 "nbformat": 4,
 "nbformat_minor": 5
}
