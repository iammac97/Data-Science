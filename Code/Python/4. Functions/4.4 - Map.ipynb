{
 "cells": [
  {
   "cell_type": "markdown",
   "id": "2d146e36",
   "metadata": {},
   "source": [
    "# map() Function in Python"
   ]
  },
  {
   "cell_type": "markdown",
   "id": "11e27758",
   "metadata": {},
   "source": [
    "The map() function applies a given function to all items in an input list (or any other iterable) and returns a map object(an iterator). This is particularly useful for transforming data in a list comprehensively."
   ]
  },
  {
   "cell_type": "code",
   "execution_count": 3,
   "id": "97be7a67",
   "metadata": {},
   "outputs": [
    {
     "name": "stdout",
     "output_type": "stream",
     "text": [
      "36\n"
     ]
    }
   ],
   "source": [
    "def sq(n):\n",
    "    return n**2\n",
    "print(sq(6))\n",
    "#But by using function e need to call each time with iteration for list of number\n",
    "#so for this issues we can use map() function"
   ]
  },
  {
   "cell_type": "code",
   "execution_count": 5,
   "id": "026440e9",
   "metadata": {},
   "outputs": [
    {
     "data": {
      "text/plain": [
       "[9, 16, 25, 49, 36, 64, 529, 1764, 3600]"
      ]
     },
     "execution_count": 5,
     "metadata": {},
     "output_type": "execute_result"
    }
   ],
   "source": [
    "#so we will use same above example for map function\n",
    "l1=[3,4,5,7,6,8,23,42,60]\n",
    "list(map(sq,l1))"
   ]
  },
  {
   "cell_type": "code",
   "execution_count": 11,
   "id": "e2d52d24",
   "metadata": {},
   "outputs": [
    {
     "name": "stdout",
     "output_type": "stream",
     "text": [
      "[9, 16, 25, 49, 36, 64, 529, 1764, 3600]\n"
     ]
    }
   ],
   "source": [
    "#Now Lambda function with map function for same list\n",
    "sq1=list(map(lambda x :x**2, l1))\n",
    "print(sq1)"
   ]
  },
  {
   "cell_type": "code",
   "execution_count": 12,
   "id": "af932277",
   "metadata": {},
   "outputs": [
    {
     "data": {
      "text/plain": [
       "[7, 9, 11, 13, 15]"
      ]
     },
     "execution_count": 12,
     "metadata": {},
     "output_type": "execute_result"
    }
   ],
   "source": [
    "#Map function with multiple iterables\n",
    "n1=[1,2,3,4,5]\n",
    "n2=[6,7,8,9,10]\n",
    "list(map(lambda x,y:x+y,n1,n2))"
   ]
  },
  {
   "cell_type": "code",
   "execution_count": 17,
   "id": "c96634ad",
   "metadata": {},
   "outputs": [
    {
     "name": "stdout",
     "output_type": "stream",
     "text": [
      "[1, 3, 5, 9, 7]\n"
     ]
    },
    {
     "data": {
      "text/plain": [
       "int"
      ]
     },
     "execution_count": 17,
     "metadata": {},
     "output_type": "execute_result"
    }
   ],
   "source": [
    "#Map to convert list string to integer\n",
    "l3=['1','3','5','9','7']\n",
    "intNum=list(map(int,l3))\n",
    "print(intNum)\n",
    "type(intNum[0])"
   ]
  },
  {
   "cell_type": "code",
   "execution_count": 19,
   "id": "828ea7e9",
   "metadata": {},
   "outputs": [
    {
     "name": "stdout",
     "output_type": "stream",
     "text": [
      "['APPLE', 'MAC', 'RAJ', 'TOM', 'BANANA']\n"
     ]
    }
   ],
   "source": [
    "#Convert lowercase to uppercase string\n",
    "l4=['apple','mac','raj','tom','banana']\n",
    "upstring=list(map(str.upper,l4))\n",
    "print(upstring)"
   ]
  },
  {
   "cell_type": "code",
   "execution_count": null,
   "id": "4213edc1",
   "metadata": {},
   "outputs": [],
   "source": []
  }
 ],
 "metadata": {
  "kernelspec": {
   "display_name": "Python 3",
   "language": "python",
   "name": "python3"
  },
  "language_info": {
   "codemirror_mode": {
    "name": "ipython",
    "version": 3
   },
   "file_extension": ".py",
   "mimetype": "text/x-python",
   "name": "python",
   "nbconvert_exporter": "python",
   "pygments_lexer": "ipython3",
   "version": "3.10.0"
  }
 },
 "nbformat": 4,
 "nbformat_minor": 5
}
