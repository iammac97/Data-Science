{
 "cells": [
  {
   "cell_type": "markdown",
   "id": "e6268e85",
   "metadata": {},
   "source": [
    "# Function examples"
   ]
  },
  {
   "cell_type": "code",
   "execution_count": 11,
   "id": "a3f2dd40",
   "metadata": {},
   "outputs": [
    {
     "name": "stdout",
     "output_type": "stream",
     "text": [
      "38.888888888888886 C\n",
      "356.0 F\n",
      "Pls enter a valid unit!\n"
     ]
    }
   ],
   "source": [
    "#Temperature Conversion\n",
    "def conv_temp(tmp,unt):\n",
    "    if unt==\"C\":\n",
    "        return tmp* 9/5+32  #Celcius to Fahrenheit\n",
    "    elif unt==\"F\":\n",
    "        return (tmp-32)* 5/9 #Fahrenheit to celcius\n",
    "    else:\n",
    "        return \"Pls enter a valid unit!\"\n",
    "print(conv_temp(102,'F'),\"C\")\n",
    "print(conv_temp(180,'C'),\"F\")\n",
    "print(conv_temp(102,'M'))"
   ]
  },
  {
   "cell_type": "code",
   "execution_count": null,
   "id": "17b37502",
   "metadata": {},
   "outputs": [
    {
     "name": "stdout",
     "output_type": "stream",
     "text": [
      "False\n",
      "True\n"
     ]
    }
   ],
   "source": [
    "#To check a password strong or not\n",
    "def is_strong(password):\n",
    "    if len(password)<8:\n",
    "        return False\n",
    "    if not any (char.isdigit() for char in password):\n",
    "        return False\n",
    "    if not any(char.islower() for char in password):\n",
    "        return False\n",
    "    if not any(char.isupper() for char in password):\n",
    "        return False\n",
    "    if not any(char in(\"!@#$%^&*()_+\") for char in password):\n",
    "        return False\n",
    "    else:\n",
    "        return True\n",
    "print(is_strong(\"thisismac\"))\n",
    "print(is_strong(\"Rrong@123\"))\n"
   ]
  },
  {
   "cell_type": "code",
   "execution_count": null,
   "id": "9362d905",
   "metadata": {},
   "outputs": [
    {
     "name": "stdout",
     "output_type": "stream",
     "text": [
      "Factorial of the 5 is: 120\n"
     ]
    }
   ],
   "source": [
    "#WAP to calculate the factorial of the number by using recursion\n",
    "def fact(n):\n",
    "    if n==0:\n",
    "        return 1\n",
    "    return n*fact(n-1)\n",
    "    \n",
    "n=int(input(\"Enter any number:\"))\n",
    "print(f\"Factorial of the {n} is:\",fact(n))"
   ]
  },
  {
   "cell_type": "code",
   "execution_count": 28,
   "id": "9417e422",
   "metadata": {},
   "outputs": [
    {
     "name": "stdout",
     "output_type": "stream",
     "text": [
      "{'hi': 2, 'mac': 1, 'how': 2, 'are': 3, 'you': 4, 'can': 1, 'we': 1, 'go': 1, 'for': 1, 'a': 3, 'break': 1, 'if': 1, 'available': 1, 'not': 1, 'bad': 1, 'guy': 1, 'and': 1, 'one': 1, 'more': 1, 'thing': 1, 'was': 1, 'your': 1, 'day': 2, 'today': 1, 'nice': 1, 'to': 1, 'meet': 1, 'have': 1, 'great': 1}\n"
     ]
    }
   ],
   "source": [
    "#function to read a file and count the frequency of the word\n",
    "def count_word(fpath):\n",
    "    word_cnt={}\n",
    "    with open(fpath, 'r') as file:\n",
    "        for line in file:\n",
    "            words=line.split()\n",
    "            for word in words:\n",
    "                word=word.lower().strip('.,!?:;\"\\'')\n",
    "                word_cnt[word]=word_cnt.get(word,0)+1\n",
    "    return word_cnt\n",
    "fpath=\"test.txt\"\n",
    "word_frequency=count_word(fpath)\n",
    "print(word_frequency)"
   ]
  },
  {
   "cell_type": "code",
   "execution_count": null,
   "id": "aaae6f15",
   "metadata": {},
   "outputs": [],
   "source": []
  }
 ],
 "metadata": {
  "kernelspec": {
   "display_name": "Python 3",
   "language": "python",
   "name": "python3"
  },
  "language_info": {
   "codemirror_mode": {
    "name": "ipython",
    "version": 3
   },
   "file_extension": ".py",
   "mimetype": "text/x-python",
   "name": "python",
   "nbconvert_exporter": "python",
   "pygments_lexer": "ipython3",
   "version": "3.10.0"
  }
 },
 "nbformat": 4,
 "nbformat_minor": 5
}
