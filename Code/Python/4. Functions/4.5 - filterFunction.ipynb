{
 "cells": [
  {
   "cell_type": "markdown",
   "id": "8246b4e9",
   "metadata": {},
   "source": [
    "# Filter function in Python"
   ]
  },
  {
   "cell_type": "markdown",
   "id": "62d5b88d",
   "metadata": {},
   "source": [
    "The filter() constructs an iterator from elemens of an iterable for which a function returns True. It is used to filter out items from a list based on the conditions."
   ]
  },
  {
   "cell_type": "markdown",
   "id": "aa63ade0",
   "metadata": {},
   "source": [
    "#syntax\n",
    "\n",
    "filter(function, iterable)\n"
   ]
  },
  {
   "cell_type": "code",
   "execution_count": 6,
   "id": "9ddde6c3",
   "metadata": {},
   "outputs": [
    {
     "name": "stdout",
     "output_type": "stream",
     "text": [
      "Even\n"
     ]
    }
   ],
   "source": [
    "#function for even number\n",
    "def even(n):\n",
    "    if n%2==0:\n",
    "        return 'Even'\n",
    "print(even(36)) "
   ]
  },
  {
   "cell_type": "code",
   "execution_count": 9,
   "id": "125a984b",
   "metadata": {},
   "outputs": [
    {
     "data": {
      "text/plain": [
       "[2, 4, 6, 16, 78, 24]"
      ]
     },
     "execution_count": 9,
     "metadata": {},
     "output_type": "execute_result"
    }
   ],
   "source": [
    "#above even function with filter function\n",
    "lst=[2,1,4,13,6,23,16,78,24]\n",
    "list(filter(even,lst))"
   ]
  },
  {
   "cell_type": "code",
   "execution_count": 19,
   "id": "b0083ad6",
   "metadata": {},
   "outputs": [
    {
     "name": "stdout",
     "output_type": "stream",
     "text": [
      "Even numbers are: [2, 14, 18, 62]\n",
      "Numbers which are greater than 10: [14, 18, 29, 62, 19]\n"
     ]
    }
   ],
   "source": [
    "#Filter with lambda function\n",
    "lst1=[2,14,5,18,29,62,19]\n",
    "even=list(filter(lambda n:n%2==0 ,lst1))\n",
    "greatFive=list(filter(lambda n:n>10,lst1))\n",
    "print(f\"Even numbers are: {even}\")\n",
    "print(f\"Numbers which are greater than 10: {greatFive}\")\n"
   ]
  },
  {
   "cell_type": "code",
   "execution_count": null,
   "id": "09a66634",
   "metadata": {},
   "outputs": [
    {
     "name": "stdout",
     "output_type": "stream",
     "text": [
      "The number which are greater than 10 and Even number: [12, 34, 56, 46, 50, 62]\n"
     ]
    }
   ],
   "source": [
    "#Filter the number which are even as well as greater that 10 by using Lambda function\n",
    "lst2=[3,12,34,56,23,27,87,19,10,46,50,75,62]\n",
    "evenNGreat=list(filter(lambda e:e%2==0 and e>10,lst2))\n",
    "print(f\"The numbers which are greater than 10 and Even number: {evenNGreat}\")"
   ]
  },
  {
   "cell_type": "code",
   "execution_count": 32,
   "id": "f8310f41",
   "metadata": {},
   "outputs": [
    {
     "name": "stdout",
     "output_type": "stream",
     "text": [
      "True\n"
     ]
    },
    {
     "data": {
      "text/plain": [
       "[{'name': 'Mac', 'age': 26},\n",
       " {'name': 'Mahesh', 'age': 32},\n",
       " {'name': 'John', 'age': 28}]"
      ]
     },
     "execution_count": 32,
     "metadata": {},
     "output_type": "execute_result"
    }
   ],
   "source": [
    "#Filter to check if the age is greater then 25 in the dictionaries\n",
    "people=[\n",
    "    {'name':'Mac', 'age':26},\n",
    "    {'name':'Raj', 'age':24},\n",
    "    {'name':'Mahesh', 'age':32},\n",
    "    {'name':'John', 'age':28}\n",
    "]\n",
    "def eligible(person):\n",
    "    return person['age']>25\n",
    "print(eligible({'age':27}))\n",
    "\n",
    "list(filter(eligible,people))"
   ]
  },
  {
   "cell_type": "code",
   "execution_count": null,
   "id": "4258ace3",
   "metadata": {},
   "outputs": [],
   "source": []
  }
 ],
 "metadata": {
  "kernelspec": {
   "display_name": "Python 3",
   "language": "python",
   "name": "python3"
  },
  "language_info": {
   "codemirror_mode": {
    "name": "ipython",
    "version": 3
   },
   "file_extension": ".py",
   "mimetype": "text/x-python",
   "name": "python",
   "nbconvert_exporter": "python",
   "pygments_lexer": "ipython3",
   "version": "3.10.0"
  }
 },
 "nbformat": 4,
 "nbformat_minor": 5
}
