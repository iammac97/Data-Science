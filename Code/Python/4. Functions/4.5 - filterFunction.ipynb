{
 "cells": [
  {
   "cell_type": "markdown",
   "id": "8246b4e9",
   "metadata": {},
   "source": [
    "# Filter function in Python"
   ]
  },
  {
   "cell_type": "markdown",
   "id": "62d5b88d",
   "metadata": {},
   "source": [
    "The filter() constructs an iterator from elemens of an iterable for which a function returns True. It is used to filter out items from a list based on the conditions."
   ]
  },
  {
   "cell_type": "markdown",
   "id": "aa63ade0",
   "metadata": {},
   "source": [
    "#"
   ]
  }
 ],
 "metadata": {
  "language_info": {
   "name": "python"
  }
 },
 "nbformat": 4,
 "nbformat_minor": 5
}
