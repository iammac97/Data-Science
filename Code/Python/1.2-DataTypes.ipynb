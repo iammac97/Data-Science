{
 "cells": [
  {
   "cell_type": "markdown",
   "id": "32ac1392",
   "metadata": {},
   "source": [
    "DataTypes In Python"
   ]
  },
  {
   "cell_type": "code",
   "execution_count": 1,
   "id": "211d383d",
   "metadata": {},
   "outputs": [
    {
     "name": "stdout",
     "output_type": "stream",
     "text": [
      "Age: 30\n",
      "Type of age: <class 'int'>\n",
      "Height: 5.9\n",
      "Type of height: <class 'float'>\n",
      "Name: Alice\n",
      "Type of name: <class 'str'>\n",
      "Is student: True\n",
      "Type of is_student: <class 'bool'>\n"
     ]
    }
   ],
   "source": [
    "#Integer example\n",
    "age= 30\n",
    "print(\"Age:\", age)\n",
    "print(\"Type of age:\", type(age))\n",
    "#Float example\n",
    "height = 5.9\n",
    "print(\"Height:\", height)\n",
    "print(\"Type of height:\", type(height))\n",
    "#String example\n",
    "name = \"Alice\"\n",
    "print(\"Name:\", name)\n",
    "print(\"Type of name:\", type(name))\n",
    "#Boolean example\n",
    "is_student = True\n",
    "print(\"Is student:\", is_student)\n",
    "print(\"Type of is_student:\", type(is_student))\n"
   ]
  },
  {
   "cell_type": "code",
   "execution_count": null,
   "id": "aa00f9b4",
   "metadata": {},
   "outputs": [],
   "source": []
  }
 ],
 "metadata": {
  "kernelspec": {
   "display_name": "Python 3",
   "language": "python",
   "name": "python3"
  },
  "language_info": {
   "codemirror_mode": {
    "name": "ipython",
    "version": 3
   },
   "file_extension": ".py",
   "mimetype": "text/x-python",
   "name": "python",
   "nbconvert_exporter": "python",
   "pygments_lexer": "ipython3",
   "version": "3.12.0"
  }
 },
 "nbformat": 4,
 "nbformat_minor": 5
}
