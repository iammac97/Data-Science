{
 "cells": [
  {
   "cell_type": "markdown",
   "id": "32ac1392",
   "metadata": {},
   "source": [
    "DataTypes In Python"
   ]
  },
  {
   "cell_type": "code",
   "execution_count": 1,
   "id": "211d383d",
   "metadata": {},
   "outputs": [
    {
     "name": "stdout",
     "output_type": "stream",
     "text": [
      "Age: 30\n",
      "Type of age: <class 'int'>\n",
      "Height: 5.9\n",
      "Type of height: <class 'float'>\n",
      "Name: Alice\n",
      "Type of name: <class 'str'>\n",
      "Is student: True\n",
      "Type of is_student: <class 'bool'>\n"
     ]
    }
   ],
   "source": [
    "#Integer example\n",
    "age= 30\n",
    "print(\"Age:\", age)\n",
    "print(\"Type of age:\", type(age))\n",
    "#Float example\n",
    "height = 5.9\n",
    "print(\"Height:\", height)\n",
    "print(\"Type of height:\", type(height))\n",
    "#String example\n",
    "name = \"Alice\"\n",
    "print(\"Name:\", name)\n",
    "print(\"Type of name:\", type(name))\n",
    "#Boolean example\n",
    "is_student = True\n",
    "print(\"Is student:\", is_student)\n",
    "print(\"Type of is_student:\", type(is_student))\n"
   ]
  },
  {
   "cell_type": "code",
   "execution_count": 3,
   "id": "aa00f9b4",
   "metadata": {},
   "outputs": [],
   "source": [
    "#Common errors\n",
    "# result=\"hello\" + 5  # TypeError: can only concatenate str (not \"int\") to str\n",
    "# Uncommenting the line below will raise a TypeError\n",
    "# result = \"hello\" + 5\n",
    "# Uncommenting the line below will raise a TypeError\n",
    "# result = 10 + \"20\"  # TypeError: unsupported operand type(s) for +: 'int' and 'str'"
   ]
  },
  {
   "cell_type": "code",
   "execution_count": null,
   "id": "6f70bb13",
   "metadata": {},
   "outputs": [],
   "source": [
    "#Advanced data types\n",
    "# List example\n",
    "fruits = [\"apple\", \"banana\", \"cherry\"]\n",
    "print(\"Fruits:\", fruits)\n",
    "print(\"Type of fruits:\", type(fruits))\n",
    "# Tuple example\n",
    "vegetables = (\"carrot\", \"broccoli\", \"spinach\")\n",
    "print(\"Vegetables:\", vegetables)\n",
    "print(\"Type of vegetables:\", type(vegetables))\n",
    "# Dictionary example\n",
    "person = {\n",
    "    \"name\": \"Alice\",\n",
    "    \"age\": 30,\n",
    "    \"is_student\": True\n",
    "}\n",
    "print(\"Person:\", person)\n",
    "print(\"Type of person:\", type(person))\n",
    "# Set example\n",
    "colors = {\"red\", \"green\", \"blue\"}\n",
    "print(\"Colors:\", colors)\n",
    "print(\"Type of colors:\", type(colors))\n",
    "# NoneType example\n",
    "nothing = None\n",
    "print(\"Nothing:\", nothing)\n",
    "print(\"Type of nothing:\", type(nothing))\n",
    "\n",
    "# Common errors with advanced data types\n",
    "# Uncommenting the line below will raise a TypeError\n",
    "# result = fruits + vegetables  # TypeError: can only concatenate list (not \"tuple\") to list\n",
    "# Uncommenting the line below will raise a TypeError\n",
    "# result = person + colors  # TypeError: unsupported operand type(s) for +: 'dict' and 'set'\n",
    "# Uncommenting the line below will raise a TypeError\n",
    "# result = fruits * 2.5  # TypeError: can't multiply sequence by non-int of type 'float'\n",
    "# Uncommenting the line below will raise a TypeError\n"
   ]
  }
 ],
 "metadata": {
  "kernelspec": {
   "display_name": "Python 3",
   "language": "python",
   "name": "python3"
  },
  "language_info": {
   "codemirror_mode": {
    "name": "ipython",
    "version": 3
   },
   "file_extension": ".py",
   "mimetype": "text/x-python",
   "name": "python",
   "nbconvert_exporter": "python",
   "pygments_lexer": "ipython3",
   "version": "3.12.0"
  }
 },
 "nbformat": 4,
 "nbformat_minor": 5
}
