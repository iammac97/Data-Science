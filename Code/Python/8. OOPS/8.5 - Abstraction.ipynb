{
 "cells": [
  {
   "cell_type": "markdown",
   "id": "9dadd88f",
   "metadata": {},
   "source": [
    "# Abstraction"
   ]
  },
  {
   "cell_type": "markdown",
   "id": "12c93537",
   "metadata": {},
   "source": [
    "#Abstraction : Abstraction is the process of hiding implementation details and showing only the essential features of an object. It allows you to focus on what an object does instead of how it does it."
   ]
  },
  {
   "cell_type": "code",
   "execution_count": 1,
   "id": "3483fdcc",
   "metadata": {},
   "outputs": [
    {
     "name": "stdout",
     "output_type": "stream",
     "text": [
      "Bark!\n",
      "Sleeping...\n"
     ]
    }
   ],
   "source": [
    "#  Abstract Base Class (ABC) – Template for Subclasses\n",
    "from abc import ABC, abstractmethod\n",
    "\n",
    "class Animal(ABC):\n",
    "    @abstractmethod\n",
    "    def make_sound(self):\n",
    "        \"\"\"Abstract method - must be implemented by subclass\"\"\"\n",
    "        pass\n",
    "\n",
    "    def sleep(self):\n",
    "        \"\"\"Concrete method - common behavior\"\"\"\n",
    "        print(\"Sleeping...\")\n",
    "\n",
    "# Concrete class implementing the abstract method\n",
    "class Dog(Animal):\n",
    "    def make_sound(self):\n",
    "        print(\"Bark!\")\n",
    "\n",
    "# Usage\n",
    "d = Dog()\n",
    "d.make_sound()    # ✅ Bark!\n",
    "d.sleep()         # ✅ Sleeping...\n",
    "# a = Animal()    ❌ Error: Can't instantiate abstract class\n"
   ]
  },
  {
   "cell_type": "code",
   "execution_count": 2,
   "id": "bcc34472",
   "metadata": {},
   "outputs": [
    {
     "name": "stdout",
     "output_type": "stream",
     "text": [
      "Area: 50\n",
      "Perimeter: 30\n"
     ]
    }
   ],
   "source": [
    "# Abstract Class as an Interface (All Methods Abstract)\n",
    "from abc import ABC, abstractmethod\n",
    "\n",
    "class Shape(ABC):\n",
    "    @abstractmethod\n",
    "    def area(self):\n",
    "        pass\n",
    "\n",
    "    @abstractmethod\n",
    "    def perimeter(self):\n",
    "        pass\n",
    "\n",
    "class Rectangle(Shape):\n",
    "    def __init__(self, w, h):\n",
    "        self.width = w\n",
    "        self.height = h\n",
    "\n",
    "    def area(self):\n",
    "        return self.width * self.height\n",
    "\n",
    "    def perimeter(self):\n",
    "        return 2 * (self.width + self.height)\n",
    "\n",
    "# Usage\n",
    "r = Rectangle(5, 10)\n",
    "print(\"Area:\", r.area())             # ✅ Area: 50\n",
    "print(\"Perimeter:\", r.perimeter())   # ✅ Perimeter: 30\n"
   ]
  },
  {
   "cell_type": "code",
   "execution_count": 3,
   "id": "fcd99c6d",
   "metadata": {},
   "outputs": [
    {
     "name": "stdout",
     "output_type": "stream",
     "text": [
      "Vehicle started.\n",
      "15 km/l\n"
     ]
    }
   ],
   "source": [
    "# Abstract Method with Default Behavior\n",
    "from abc import ABC, abstractmethod\n",
    "\n",
    "class Vehicle(ABC):\n",
    "    @abstractmethod\n",
    "    def fuel_efficiency(self):\n",
    "        pass\n",
    "\n",
    "    def start(self):\n",
    "        print(\"Vehicle started.\")\n",
    "\n",
    "class Car(Vehicle):\n",
    "    def fuel_efficiency(self):\n",
    "        return \"15 km/l\"\n",
    "\n",
    "# Usage\n",
    "car = Car()\n",
    "car.start()                  # ✅ Vehicle started.\n",
    "print(car.fuel_efficiency()) # ✅ 15 km/l\n"
   ]
  },
  {
   "cell_type": "code",
   "execution_count": 4,
   "id": "b633ae0f",
   "metadata": {},
   "outputs": [
    {
     "name": "stdout",
     "output_type": "stream",
     "text": [
      "Connecting to database...\n",
      "MySQL executing: SELECT * FROM users\n"
     ]
    }
   ],
   "source": [
    "# Partial Implementation in Abstract Class\n",
    "from abc import ABC, abstractmethod\n",
    "\n",
    "class Database(ABC):\n",
    "    def connect(self):\n",
    "        print(\"Connecting to database...\")\n",
    "\n",
    "    @abstractmethod\n",
    "    def query(self, sql):\n",
    "        pass\n",
    "\n",
    "class MySQLDatabase(Database):\n",
    "    def query(self, sql):\n",
    "        print(f\"MySQL executing: {sql}\")\n",
    "\n",
    "# Usage\n",
    "db = MySQLDatabase()\n",
    "db.connect()                 # ✅ Connecting to database...\n",
    "db.query(\"SELECT * FROM users\")\n"
   ]
  },
  {
   "cell_type": "code",
   "execution_count": 5,
   "id": "2c27078a",
   "metadata": {},
   "outputs": [
    {
     "name": "stdout",
     "output_type": "stream",
     "text": [
      "Paid $100 using credit card.\n",
      "Paid $200 using PayPal.\n"
     ]
    }
   ],
   "source": [
    "# Abstracting with Multiple Subclasses (Polymorphism + Abstraction)\n",
    "from abc import ABC, abstractmethod\n",
    "\n",
    "class PaymentMethod(ABC):\n",
    "    @abstractmethod\n",
    "    def pay(self, amount):\n",
    "        pass\n",
    "\n",
    "class CreditCard(PaymentMethod):\n",
    "    def pay(self, amount):\n",
    "        print(f\"Paid ${amount} using credit card.\")\n",
    "\n",
    "class PayPal(PaymentMethod):\n",
    "    def pay(self, amount):\n",
    "        print(f\"Paid ${amount} using PayPal.\")\n",
    "\n",
    "# Usage\n",
    "def checkout(payment: PaymentMethod, amount):\n",
    "    payment.pay(amount)\n",
    "\n",
    "checkout(CreditCard(), 100)  # ✅ Paid $100 using credit card.\n",
    "checkout(PayPal(), 200)      # ✅ Paid $200 using PayPal.\n"
   ]
  },
  {
   "cell_type": "code",
   "execution_count": null,
   "id": "d64a901f",
   "metadata": {},
   "outputs": [],
   "source": [
    "# Abstract Class with Abstract + Concrete Attributes\n",
    "from abc import ABC, abstractmethod\n",
    "\n",
    "class FileProcessor(ABC):\n",
    "    def __init__(self, file_path):\n",
    "        self.file_path = file_path     # concrete attribute\n",
    "\n",
    "    @abstractmethod\n",
    "    def process(self):\n",
    "        pass\n",
    "\n",
    "class CSVProcessor(FileProcessor):\n",
    "    def process(self):\n",
    "        print(f\"Processing CSV: {self.file_path}\")\n",
    "\n",
    "# Usage\n",
    "csv = CSVProcessor(\"data.csv\")\n",
    "csv.process()  # ✅ Processing CSV: data.csv\n",
    "\n"
   ]
  }
 ],
 "metadata": {
  "kernelspec": {
   "display_name": "Python 3",
   "language": "python",
   "name": "python3"
  },
  "language_info": {
   "codemirror_mode": {
    "name": "ipython",
    "version": 3
   },
   "file_extension": ".py",
   "mimetype": "text/x-python",
   "name": "python",
   "nbconvert_exporter": "python",
   "pygments_lexer": "ipython3",
   "version": "3.10.0"
  }
 },
 "nbformat": 4,
 "nbformat_minor": 5
}
