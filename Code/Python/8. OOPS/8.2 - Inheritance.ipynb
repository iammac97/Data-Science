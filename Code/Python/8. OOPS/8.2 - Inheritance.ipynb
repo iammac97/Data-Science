{
 "cells": [
  {
   "cell_type": "markdown",
   "id": "7fe834af",
   "metadata": {},
   "source": [
    "# Inheritance in Python"
   ]
  },
  {
   "cell_type": "markdown",
   "id": "e950f8d1",
   "metadata": {},
   "source": [
    "Inheritance in Python is a powerful object-oriented programming feature that allows you to define a class (called a child or derived class) that inherits attributes and methods from another class (called a parent or base class).\n",
    "\n"
   ]
  },
  {
   "cell_type": "raw",
   "id": "1ec12949",
   "metadata": {
    "vscode": {
     "languageId": "raw"
    }
   },
   "source": [
    "Type                  \t                Description     \t                    Example Classes\n",
    "Single\t                                1 parent → 1 child\t                        A → B\n",
    "Multiple\t                            Multiple parents → 1 child\t                A + B → C\n",
    "Multilevel\t                            Chain of inheritance\t                    A → B → C\n",
    "Hierarchical\t                        1 parent → multiple children\t            A → B, A → C\n",
    "Hybrid\t                                Mix of above types\t                        A → B, C → D(B, C)"
   ]
  },
  {
   "cell_type": "code",
   "execution_count": null,
   "id": "6534733c",
   "metadata": {},
   "outputs": [
    {
     "name": "stdout",
     "output_type": "stream",
     "text": [
      "Hello from Parent\n",
      "Hello from Child\n"
     ]
    }
   ],
   "source": [
    "##Example\n",
    "#parent class\n",
    "class Parent:\n",
    "    def greet(self):\n",
    "        print(\"Hello from Parent\")\n",
    "#child class\n",
    "class Child(Parent):\n",
    "    def greet_child(self):\n",
    "        print(\"Hello from Child\")\n",
    "\n",
    "# Example usage created instance of child class and with the help of child instance accessing parents properties\n",
    "c = Child()\n",
    "c.greet()         # Inherited from Parent\n",
    "c.greet_child()   # Defined in Child"
   ]
  },
  {
   "cell_type": "code",
   "execution_count": null,
   "id": "813f4bc0",
   "metadata": {},
   "outputs": [
    {
     "name": "stdout",
     "output_type": "stream",
     "text": [
      "The person will drive the electric car.\n",
      "This Tesla model supports self-driving: True\n"
     ]
    }
   ],
   "source": [
    "# Parent class\n",
    "class Car:\n",
    "    def __init__(self, windows, doors, enginetype):\n",
    "        self.windows = windows\n",
    "        self.doors = doors\n",
    "        self.enginetype = enginetype\n",
    "\n",
    "    def drive(self):\n",
    "        print(f\"The person will drive the {self.enginetype} car.\")\n",
    "\n",
    "# Child class\n",
    "class Tesla(Car):\n",
    "    def __init__(self, windows, doors, enginetype, is_selfdrive):\n",
    "        super().__init__(windows, doors, enginetype)  # Call parent constructor\n",
    "        self.is_selfdrive = is_selfdrive  # Tesla's own attribute\n",
    "\n",
    "    def selfdriving(self):\n",
    "        print(f\"This Tesla model supports self-driving: {self.is_selfdrive}\")\n",
    "\n",
    "# Creating an object of Tesla\n",
    "my_tesla = Tesla(4, 2, \"electric\", True)\n",
    "\n",
    "# Calling methods\n",
    "my_tesla.drive()         # Inherited from Car\n",
    "my_tesla.selfdriving()   # Tesla's own method\n",
    "\n",
    "\n"
   ]
  },
  {
   "cell_type": "code",
   "execution_count": null,
   "id": "8148d62d",
   "metadata": {},
   "outputs": [
    {
     "name": "stdout",
     "output_type": "stream",
     "text": [
      "This is Parent class\n",
      "This is Child class\n"
     ]
    }
   ],
   "source": [
    "#Single Inheritance: One child class inherits from one parent class.\n",
    "class Parent:\n",
    "    def show(self):\n",
    "        print(\"This is Parent class\")\n",
    "\n",
    "class Child(Parent):\n",
    "    def display(self):\n",
    "        print(\"This is Child class\")\n",
    "\n",
    "obj = Child()\n",
    "obj.show()     # Inherited method\n",
    "obj.display()  # Child's own method\n"
   ]
  },
  {
   "cell_type": "code",
   "execution_count": 4,
   "id": "2ab8b263",
   "metadata": {},
   "outputs": [
    {
     "name": "stdout",
     "output_type": "stream",
     "text": [
      "Mother's side traits\n",
      "Father's side traits\n",
      "Child's own identity\n"
     ]
    }
   ],
   "source": [
    "#Multiple Inheritance: A class inherits from multiple parent classes.\n",
    "class Mother:\n",
    "    def mother_info(self):\n",
    "        print(\"Mother's side traits\")\n",
    "\n",
    "class Father:\n",
    "    def father_info(self):\n",
    "        print(\"Father's side traits\")\n",
    "\n",
    "class Child(Mother, Father):\n",
    "    def child_info(self):\n",
    "        print(\"Child's own identity\")\n",
    "\n",
    "c = Child()\n",
    "c.mother_info()\n",
    "c.father_info()\n",
    "c.child_info()\n"
   ]
  },
  {
   "cell_type": "code",
   "execution_count": 5,
   "id": "ab1ffb8c",
   "metadata": {},
   "outputs": [
    {
     "name": "stdout",
     "output_type": "stream",
     "text": [
      "Grandparent's generation\n",
      "Parent's generation\n",
      "Child's generation\n"
     ]
    }
   ],
   "source": [
    "#Multilevel Inheritance : A class inherits from a child class which itself inherits from another class.\n",
    "class Grandparent:\n",
    "    def grandparent_info(self):\n",
    "        print(\"Grandparent's generation\")\n",
    "\n",
    "class Parent(Grandparent):\n",
    "    def parent_info(self):\n",
    "        print(\"Parent's generation\")\n",
    "\n",
    "class Child(Parent):\n",
    "    def child_info(self):\n",
    "        print(\"Child's generation\")\n",
    "\n",
    "c = Child()\n",
    "c.grandparent_info()\n",
    "c.parent_info()\n",
    "c.child_info()\n"
   ]
  },
  {
   "cell_type": "code",
   "execution_count": 9,
   "id": "fb9b52c9",
   "metadata": {},
   "outputs": [
    {
     "name": "stdout",
     "output_type": "stream",
     "text": [
      "Parent class\n",
      "Child1 class\n",
      "Parent class\n",
      "Child2 class\n"
     ]
    }
   ],
   "source": [
    "#Hierarchical Inheritance : Multiple child classes inherit from the same parent class.\n",
    "class Parent:\n",
    "    def show(self):\n",
    "        print(\"Parent class\")\n",
    "\n",
    "class Child1(Parent):\n",
    "    def child1_func(self):\n",
    "        print(\"Child1 class\")\n",
    "\n",
    "class Child2(Parent):\n",
    "    def child2_func(self):\n",
    "        print(\"Child2 class\")\n",
    "\n",
    "# Creating objects\n",
    "c1 = Child1()\n",
    "c2 = Child2()\n",
    "\n",
    "# Calling inherited method\n",
    "c1.show()        # from Parent\n",
    "c1.child1_func() # Child1-specific\n",
    "\n",
    "c2.show()        # from Parent\n",
    "c2.child2_func() # Child2-specific\n",
    "\n"
   ]
  },
  {
   "cell_type": "code",
   "execution_count": 7,
   "id": "b0888238",
   "metadata": {},
   "outputs": [
    {
     "name": "stdout",
     "output_type": "stream",
     "text": [
      "Class A\n",
      "Class C\n",
      "Class D\n"
     ]
    }
   ],
   "source": [
    "# Hybrid Inheritance:A mix of more than one type of inheritance (like multiple + multilevel).\n",
    "class A:\n",
    "    def methodA(self):\n",
    "        print(\"Class A\")\n",
    "\n",
    "class B(A):\n",
    "    def methodB(self):\n",
    "        print(\"Class B\")\n",
    "\n",
    "class C:\n",
    "    def methodC(self):\n",
    "        print(\"Class C\")\n",
    "\n",
    "class D(B, C):  # Inherits from B (which inherits A) and C\n",
    "    def methodD(self):\n",
    "        print(\"Class D\")\n",
    "\n",
    "obj = D()\n",
    "obj.methodA()\n",
    "obj.methodC()\n",
    "obj.methodD()\n",
    "\n"
   ]
  },
  {
   "cell_type": "code",
   "execution_count": 8,
   "id": "645ef420",
   "metadata": {},
   "outputs": [
    {
     "name": "stdout",
     "output_type": "stream",
     "text": [
      "Tommy says Woof!\n"
     ]
    }
   ],
   "source": [
    "#super() keyword used to call the parent class’s constructor or methods from the child class.\n",
    "class Animal:\n",
    "    def __init__(self, name):\n",
    "        self.name = name\n",
    "\n",
    "    def sound(self):\n",
    "        print(\"Some generic sound\")\n",
    "\n",
    "class Dog(Animal):\n",
    "    def __init__(self, name):\n",
    "        super().__init__(name)  # calling Animal's __init__\n",
    "    \n",
    "    def sound(self):\n",
    "        print(f\"{self.name} says Woof!\")\n",
    "\n",
    "d = Dog(\"Tommy\")\n",
    "d.sound()\n",
    "\n"
   ]
  },
  {
   "cell_type": "code",
   "execution_count": null,
   "id": "531ff007",
   "metadata": {},
   "outputs": [],
   "source": []
  }
 ],
 "metadata": {
  "kernelspec": {
   "display_name": "Python 3",
   "language": "python",
   "name": "python3"
  },
  "language_info": {
   "codemirror_mode": {
    "name": "ipython",
    "version": 3
   },
   "file_extension": ".py",
   "mimetype": "text/x-python",
   "name": "python",
   "nbconvert_exporter": "python",
   "pygments_lexer": "ipython3",
   "version": "3.10.0"
  }
 },
 "nbformat": 4,
 "nbformat_minor": 5
}
