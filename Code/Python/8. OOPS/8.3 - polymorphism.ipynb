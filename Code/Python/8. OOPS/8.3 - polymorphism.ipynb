{
 "cells": [
  {
   "cell_type": "markdown",
   "id": "3ed8a9cc",
   "metadata": {},
   "source": [
    "# Polymorphism"
   ]
  },
  {
   "cell_type": "markdown",
   "id": "2131b75c",
   "metadata": {},
   "source": [
    "Polymorphism means the same interface or method can behave differently depending on the object that’s using it.It's typically achieved through method overriding and interfaces."
   ]
  },
  {
   "cell_type": "markdown",
   "id": "c62c6d1c",
   "metadata": {},
   "source": [
    "##Method overriding(Run-Time polymorphism): When a child class provides a specific implementation of a method already defined in the parent class.\n"
   ]
  },
  {
   "cell_type": "code",
   "execution_count": null,
   "id": "47331465",
   "metadata": {},
   "outputs": [
    {
     "name": "stdout",
     "output_type": "stream",
     "text": [
      "0\n",
      "78.5\n"
     ]
    }
   ],
   "source": [
    "#Example of Method overriding(Inheritance Polymorphism)\n",
    "class Shape:\n",
    "    def area(self):\n",
    "        return 0\n",
    "\n",
    "class Circle(Shape):\n",
    "    def area(self):\n",
    "        return 3.14 * 5 * 5\n",
    "\n",
    "# Same method name (area()), different behavior depending on object type.\n",
    "print(Shape().area())   # 0\n",
    "print(Circle().area())  # 78.5\n"
   ]
  },
  {
   "cell_type": "markdown",
   "id": "49407ea6",
   "metadata": {},
   "source": [
    "##Duck Typing (Dynamic Polymorphism): Python is dynamically typed, so if two different classes have the same method name, they can be used interchangeably — no inheritance needed."
   ]
  },
  {
   "cell_type": "code",
   "execution_count": 2,
   "id": "0763edc7",
   "metadata": {},
   "outputs": [
    {
     "name": "stdout",
     "output_type": "stream",
     "text": [
      "Woof!\n",
      "Meow!\n"
     ]
    }
   ],
   "source": [
    "#Exampe of Polymorphic behavior based on method presence — not class hierarchy.\n",
    "class Dog:\n",
    "    def speak(self):\n",
    "        return \"Woof!\"\n",
    "\n",
    "class Cat:\n",
    "    def speak(self):\n",
    "        return \"Meow!\"\n",
    "\n",
    "def animal_sound(animal):\n",
    "    print(animal.speak())\n",
    "\n",
    "animal_sound(Dog())  # Woof!\n",
    "animal_sound(Cat())  # Meow!\n"
   ]
  },
  {
   "cell_type": "markdown",
   "id": "93527542",
   "metadata": {},
   "source": [
    "##Operator Overloading (Compile-Time Polymorphism) : Python allows you to define how operators behave for your custom classes using magic methods like __add__, __eq__, etc."
   ]
  },
  {
   "cell_type": "code",
   "execution_count": 3,
   "id": "6a907fef",
   "metadata": {},
   "outputs": [
    {
     "name": "stdout",
     "output_type": "stream",
     "text": [
      "(5, 3)\n"
     ]
    }
   ],
   "source": [
    "class Vector:\n",
    "    def __init__(self, x, y):\n",
    "        self.x = x\n",
    "        self.y = y\n",
    "\n",
    "    def __add__(self, other):\n",
    "        return Vector(self.x + other.x, self.y + other.y)\n",
    "\n",
    "    def __str__(self):\n",
    "        return f\"({self.x}, {self.y})\"\n",
    "\n",
    "v1 = Vector(2, 4)\n",
    "v2 = Vector(3, -1)\n",
    "print(v1 + v2)  # (5, 3)\n"
   ]
  },
  {
   "cell_type": "markdown",
   "id": "a4f85a5e",
   "metadata": {},
   "source": [
    "#Ploymorphism with Abstract Base Classes : Python doesn’t have “interfaces” like Java or C#, but it achieves the same thing using abstract base classes (ABCs) via the abc module.\n",
    "That is \"from abc import ABC, abstractmethod\"."
   ]
  },
  {
   "cell_type": "code",
   "execution_count": 5,
   "id": "9e7c717e",
   "metadata": {},
   "outputs": [
    {
     "name": "stdout",
     "output_type": "stream",
     "text": [
      "Area: 78.5 | Perimeter: 31.400000000000002\n",
      "Area: 24 | Perimeter: 20\n"
     ]
    }
   ],
   "source": [
    "#Example of Polymorphism with Interface (ABC)\n",
    "\n",
    "from abc import ABC, abstractmethod\n",
    "\n",
    "# Interface / Abstract Base Class\n",
    "class Shape(ABC):\n",
    "    \n",
    "    @abstractmethod\n",
    "    def area(self):\n",
    "        pass\n",
    "    \n",
    "    @abstractmethod\n",
    "    def perimeter(self):\n",
    "        pass\n",
    "\n",
    "# Concrete implementation\n",
    "class Circle(Shape):\n",
    "    def __init__(self, radius):\n",
    "        self.radius = radius\n",
    "    \n",
    "    def area(self):\n",
    "        return 3.14 * self.radius ** 2\n",
    "\n",
    "    def perimeter(self):\n",
    "        return 2 * 3.14 * self.radius\n",
    "\n",
    "class Rectangle(Shape):\n",
    "    def __init__(self, width, height):\n",
    "        self.width = width\n",
    "        self.height = height\n",
    "\n",
    "    def area(self):\n",
    "        return self.width * self.height\n",
    "\n",
    "    def perimeter(self):\n",
    "        return 2 * (self.width + self.height)\n",
    "\n",
    "# Polymorphic behavior\n",
    "shapes = [Circle(5), Rectangle(4, 6)]\n",
    "\n",
    "for s in shapes:\n",
    "    print(f\"Area: {s.area()} | Perimeter: {s.perimeter()}\")\n"
   ]
  },
  {
   "cell_type": "code",
   "execution_count": null,
   "id": "eb295d30",
   "metadata": {},
   "outputs": [],
   "source": []
  }
 ],
 "metadata": {
  "kernelspec": {
   "display_name": "Python 3",
   "language": "python",
   "name": "python3"
  },
  "language_info": {
   "codemirror_mode": {
    "name": "ipython",
    "version": 3
   },
   "file_extension": ".py",
   "mimetype": "text/x-python",
   "name": "python",
   "nbconvert_exporter": "python",
   "pygments_lexer": "ipython3",
   "version": "3.10.0"
  }
 },
 "nbformat": 4,
 "nbformat_minor": 5
}
