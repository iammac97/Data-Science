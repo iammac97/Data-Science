{
 "cells": [
  {
   "cell_type": "markdown",
   "id": "e532093b",
   "metadata": {},
   "source": [
    "# Operator Overloading"
   ]
  },
  {
   "cell_type": "markdown",
   "id": "8f5ad4d5",
   "metadata": {},
   "source": [
    "Operator Overloading allows you to define custom behavior for operators (+, -, *, etc.) in your own classes. Essentially, you're telling Python what to do when a specific operator is used with objects of your class."
   ]
  },
  {
   "cell_type": "raw",
   "id": "fbcbdf9d",
   "metadata": {
    "vscode": {
     "languageId": "raw"
    }
   },
   "source": [
    "Here are some commonly used magic methods for Operator Overloading:\n",
    "\n",
    "Operator\t           Method                     \n",
    "+\t                   __add__(self, other)\n",
    "-\t                   __sub__(self, other)\n",
    "*\t                   __mul__(self, other)\n",
    "/\t                   __truediv__(self, other)\n",
    "==\t                   __eq__(self, other)\n",
    "<\t                   __lt__(self, other)\n",
    ">\t                   __gt__(self, other)"
   ]
  },
  {
   "cell_type": "code",
   "execution_count": 1,
   "id": "fc33bb49",
   "metadata": {},
   "outputs": [
    {
     "name": "stdout",
     "output_type": "stream",
     "text": [
      "(4, 6)\n"
     ]
    }
   ],
   "source": [
    "#Operator Overloading in a Point Class\n",
    "class Point:\n",
    "    def __init__(self, x, y):\n",
    "        self.x = x\n",
    "        self.y = y\n",
    "\n",
    "    def __add__(self, other):\n",
    "        # Overloads the + operator\n",
    "        return Point(self.x + other.x, self.y + other.y)\n",
    "\n",
    "    def __str__(self):\n",
    "        return f\"({self.x}, {self.y})\"\n",
    "\n",
    "# Using the overloaded operator\n",
    "p1 = Point(1, 2)\n",
    "p2 = Point(3, 4)\n",
    "result = p1 + p2\n",
    "\n",
    "print(result)  # Output: (4, 6)\n"
   ]
  },
  {
   "cell_type": "code",
   "execution_count": 2,
   "id": "722edc5f",
   "metadata": {},
   "outputs": [
    {
     "name": "stdout",
     "output_type": "stream",
     "text": [
      "Box(volume=14)\n",
      "True\n"
     ]
    }
   ],
   "source": [
    "# Example : Overload Multiple Operators\n",
    "class Box:\n",
    "    def __init__(self, length, width, height):\n",
    "        self.volume = length * width * height\n",
    "\n",
    "    def __add__(self, other):\n",
    "        return Box(1, 1, self.volume + other.volume)  # simplified\n",
    "\n",
    "    def __gt__(self, other):\n",
    "        return self.volume > other.volume\n",
    "\n",
    "    def __str__(self):\n",
    "        return f\"Box(volume={self.volume})\"\n",
    "\n",
    "b1 = Box(2, 2, 2)   # 8\n",
    "b2 = Box(3, 2, 1)   # 6\n",
    "\n",
    "print(b1 + b2)      # Box(volume=14)\n",
    "print(b1 > b2)      # True\n"
   ]
  },
  {
   "cell_type": "code",
   "execution_count": null,
   "id": "f56ad697",
   "metadata": {},
   "outputs": [],
   "source": []
  }
 ],
 "metadata": {
  "kernelspec": {
   "display_name": "Python 3",
   "language": "python",
   "name": "python3"
  },
  "language_info": {
   "codemirror_mode": {
    "name": "ipython",
    "version": 3
   },
   "file_extension": ".py",
   "mimetype": "text/x-python",
   "name": "python",
   "nbconvert_exporter": "python",
   "pygments_lexer": "ipython3",
   "version": "3.10.0"
  }
 },
 "nbformat": 4,
 "nbformat_minor": 5
}
