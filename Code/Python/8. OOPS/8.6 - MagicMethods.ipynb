{
 "cells": [
  {
   "cell_type": "markdown",
   "id": "cf7baa1f",
   "metadata": {},
   "source": [
    "# Magic Methods"
   ]
  },
  {
   "cell_type": "raw",
   "id": "7b7b119c",
   "metadata": {
    "vscode": {
     "languageId": "raw"
    }
   },
   "source": [
    "Magic Methods : In Python, magic methods (also called dunder methods, short for \"double underscore\") are special methods \n",
    "that allow you to define the behavior of your objects for built-in operations like arithmetic, comparisons,\n",
    " string representation attribute access, and more. They have names like '__init__', '__str__', '__add__', etc.\n"
   ]
  },
  {
   "cell_type": "code",
   "execution_count": null,
   "id": "f9dd25b5",
   "metadata": {},
   "outputs": [
    {
     "data": {
      "text/plain": [
       "['__class__',\n",
       " '__delattr__',\n",
       " '__dict__',\n",
       " '__dir__',\n",
       " '__doc__',\n",
       " '__eq__',\n",
       " '__format__',\n",
       " '__ge__',\n",
       " '__getattribute__',\n",
       " '__gt__',\n",
       " '__hash__',\n",
       " '__init__',\n",
       " '__init_subclass__',\n",
       " '__le__',\n",
       " '__lt__',\n",
       " '__module__',\n",
       " '__ne__',\n",
       " '__new__',\n",
       " '__reduce__',\n",
       " '__reduce_ex__',\n",
       " '__repr__',\n",
       " '__setattr__',\n",
       " '__sizeof__',\n",
       " '__str__',\n",
       " '__subclasshook__',\n",
       " '__weakref__']"
      ]
     },
     "execution_count": 2,
     "metadata": {},
     "output_type": "execute_result"
    }
   ],
   "source": [
    "class Person:\n",
    "    pass\n",
    "\n",
    "person=Person()\n",
    "dir(person)#All the magic methods will show below "
   ]
  },
  {
   "cell_type": "code",
   "execution_count": null,
   "id": "54323427",
   "metadata": {},
   "outputs": [
    {
     "name": "stdout",
     "output_type": "stream",
     "text": [
      "Alice\n"
     ]
    }
   ],
   "source": [
    "#__init__ Constructor : Called when an object is created.\n",
    "class Person:\n",
    "    def __init__(self, name):\n",
    "        self.name = name\n",
    "\n",
    "p = Person(\"Alice\")\n",
    "print(p.name)  # Output: Alice"
   ]
  },
  {
   "cell_type": "code",
   "execution_count": 10,
   "id": "b60412c0",
   "metadata": {},
   "outputs": [
    {
     "name": "stdout",
     "output_type": "stream",
     "text": [
      "Person name is : Bob\n"
     ]
    }
   ],
   "source": [
    "#__str__ :  Human-readable string - Called by str() or print().\n",
    "class Person:\n",
    "    def __init__(self, name):\n",
    "        self.name = name\n",
    "    \n",
    "    def __str__(self):\n",
    "        return f\"Person name is : {self.name}\"\n",
    "\n",
    "#str(Person(\"Bob\"))  # Output: Person name is :  Bob\n",
    "print(Person(\"Bob\"))  # Output: Person name is :  Bob\n"
   ]
  },
  {
   "cell_type": "code",
   "execution_count": 11,
   "id": "a80c959d",
   "metadata": {},
   "outputs": [
    {
     "data": {
      "text/plain": [
       "\"Person('Bob')\""
      ]
     },
     "execution_count": 11,
     "metadata": {},
     "output_type": "execute_result"
    }
   ],
   "source": [
    "# __repr__  :  Unambiguous string (for debugging) - Used in the interpreter or when calling repr().\n",
    "class Person:\n",
    "    def __repr__(self):\n",
    "        return \"Person('Bob')\"\n",
    "\n",
    "repr(Person())  # Output: Person('Bob')"
   ]
  },
  {
   "cell_type": "code",
   "execution_count": 12,
   "id": "f37c71f0",
   "metadata": {},
   "outputs": [
    {
     "name": "stdout",
     "output_type": "stream",
     "text": [
      "Vector(4, 6)\n"
     ]
    }
   ],
   "source": [
    "# __add__ – Addition (+)\n",
    "class Vector:\n",
    "    def __init__(self, x, y):\n",
    "        self.x, self.y = x, y\n",
    "\n",
    "    def __add__(self, other):\n",
    "        return Vector(self.x + other.x, self.y + other.y)\n",
    "\n",
    "    def __repr__(self):\n",
    "        return f\"Vector({self.x}, {self.y})\"\n",
    "\n",
    "v1 = Vector(1, 2)\n",
    "v2 = Vector(3, 4)\n",
    "print(v1 + v2)  # Output: Vector(4, 6)"
   ]
  },
  {
   "cell_type": "code",
   "execution_count": 13,
   "id": "f2591e31",
   "metadata": {},
   "outputs": [
    {
     "name": "stdout",
     "output_type": "stream",
     "text": [
      "True\n"
     ]
    }
   ],
   "source": [
    "# __eq__ – Equality (==)\n",
    "class Vector:\n",
    "    def __init__(self, x):\n",
    "        self.x = x\n",
    "    \n",
    "    def __eq__(self, other):\n",
    "        return self.x == other.x\n",
    "\n",
    "print(Vector(5) == Vector(5))  # Output: True"
   ]
  },
  {
   "cell_type": "code",
   "execution_count": 14,
   "id": "594d0aa0",
   "metadata": {},
   "outputs": [
    {
     "name": "stdout",
     "output_type": "stream",
     "text": [
      "some_attr is not defined\n"
     ]
    }
   ],
   "source": [
    "# __getattr__ – Called when attribute not found\n",
    "class Dynamic:\n",
    "    def __getattr__(self, name):\n",
    "        return f\"{name} is not defined\"\n",
    "\n",
    "d = Dynamic()\n",
    "print(d.some_attr)  # Output: some_attr is not defined"
   ]
  },
  {
   "cell_type": "code",
   "execution_count": 15,
   "id": "ca0329b5",
   "metadata": {},
   "outputs": [
    {
     "name": "stdout",
     "output_type": "stream",
     "text": [
      "Setting x = 42\n"
     ]
    }
   ],
   "source": [
    "# __setattr__ – Called when setting an attribute\n",
    "class Logged:\n",
    "    def __setattr__(self, name, value):\n",
    "        print(f\"Setting {name} = {value}\")\n",
    "        super().__setattr__(name, value)\n",
    "\n",
    "obj = Logged()\n",
    "obj.x = 42  # Output: Setting x = 42"
   ]
  },
  {
   "cell_type": "code",
   "execution_count": 16,
   "id": "407cee93",
   "metadata": {},
   "outputs": [
    {
     "name": "stdout",
     "output_type": "stream",
     "text": [
      "3\n",
      "20\n",
      "99\n"
     ]
    }
   ],
   "source": [
    "#Container methods : __len__, __getitem__, __setitem__\n",
    "class CustomList:\n",
    "    def __init__(self):\n",
    "        self.data = [10, 20, 30]\n",
    "    \n",
    "    def __len__(self):\n",
    "        return len(self.data)\n",
    "    \n",
    "    def __getitem__(self, index):\n",
    "        return self.data[index]\n",
    "\n",
    "    def __setitem__(self, index, value):\n",
    "        self.data[index] = value\n",
    "\n",
    "cl = CustomList()\n",
    "print(len(cl))       # Output: 3\n",
    "print(cl[1])         # Output: 20\n",
    "cl[1] = 99\n",
    "print(cl[1])         # Output: 99\n"
   ]
  },
  {
   "cell_type": "code",
   "execution_count": 17,
   "id": "fbea5505",
   "metadata": {},
   "outputs": [
    {
     "name": "stdout",
     "output_type": "stream",
     "text": [
      "Opening file\n",
      "Working with file\n",
      "Closing file\n"
     ]
    }
   ],
   "source": [
    "#Context manager : __enter__ and __exit__ – with statement support\n",
    "class ManagedFile:\n",
    "    def __enter__(self):\n",
    "        print(\"Opening file\")\n",
    "        return self\n",
    "    \n",
    "    def __exit__(self, exc_type, exc_val, exc_tb):\n",
    "        print(\"Closing file\")\n",
    "\n",
    "with ManagedFile():\n",
    "    print(\"Working with file\")\n"
   ]
  },
  {
   "cell_type": "code",
   "execution_count": null,
   "id": "b3c67d83",
   "metadata": {},
   "outputs": [],
   "source": []
  }
 ],
 "metadata": {
  "kernelspec": {
   "display_name": "Python 3",
   "language": "python",
   "name": "python3"
  },
  "language_info": {
   "codemirror_mode": {
    "name": "ipython",
    "version": 3
   },
   "file_extension": ".py",
   "mimetype": "text/x-python",
   "name": "python",
   "nbconvert_exporter": "python",
   "pygments_lexer": "ipython3",
   "version": "3.10.0"
  }
 },
 "nbformat": 4,
 "nbformat_minor": 5
}
