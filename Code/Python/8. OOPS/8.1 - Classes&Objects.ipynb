{
 "cells": [
  {
   "cell_type": "markdown",
   "id": "2be75d53",
   "metadata": {},
   "source": [
    "# Classes and Objects"
   ]
  },
  {
   "cell_type": "markdown",
   "id": "8fe09b08",
   "metadata": {},
   "source": [
    "Object-Oriented Programming is a programming paradigm based on the concept of objects, which bundle data (attributes) and behavior (methods) together.\n",
    "\n",
    "Think of it as modeling your code after real-world things.\n",
    "\n",
    "Example: A Car object might have color, brand, and a method drive()."
   ]
  },
  {
   "cell_type": "code",
   "execution_count": null,
   "id": "b3d69e72",
   "metadata": {},
   "outputs": [
    {
     "name": "stdout",
     "output_type": "stream",
     "text": [
      "Buddy says Woof!\n"
     ]
    }
   ],
   "source": [
    "#Basic structures of the Class with instance variable\n",
    "class Dog:\n",
    "    def __init__(self, name):   # Constructor\n",
    "        self.name = name\n",
    "\n",
    "    def bark(self):             # Method\n",
    "        print(f\"{self.name} says Woof!\")\n",
    "\n",
    "# Create object\n",
    "my_dog = Dog(\"Buddy\")\n",
    "my_dog.bark()\n"
   ]
  },
  {
   "cell_type": "code",
   "execution_count": 8,
   "id": "f77003f8",
   "metadata": {},
   "outputs": [
    {
     "name": "stdout",
     "output_type": "stream",
     "text": [
      "True\n"
     ]
    }
   ],
   "source": [
    "print(isinstance(my_dog, Dog))#Checking if my_dog is object of Dog"
   ]
  },
  {
   "cell_type": "code",
   "execution_count": null,
   "id": "f70556a9",
   "metadata": {},
   "outputs": [
    {
     "data": {
      "text/plain": [
       "['__class__',\n",
       " '__delattr__',\n",
       " '__dict__',\n",
       " '__dir__',\n",
       " '__doc__',\n",
       " '__eq__',\n",
       " '__format__',\n",
       " '__ge__',\n",
       " '__getattribute__',\n",
       " '__gt__',\n",
       " '__hash__',\n",
       " '__init__',\n",
       " '__init_subclass__',\n",
       " '__le__',\n",
       " '__lt__',\n",
       " '__module__',\n",
       " '__ne__',\n",
       " '__new__',\n",
       " '__reduce__',\n",
       " '__reduce_ex__',\n",
       " '__repr__',\n",
       " '__setattr__',\n",
       " '__sizeof__',\n",
       " '__str__',\n",
       " '__subclasshook__',\n",
       " '__weakref__',\n",
       " 'bark',\n",
       " 'name']"
      ]
     },
     "execution_count": 10,
     "metadata": {},
     "output_type": "execute_result"
    }
   ],
   "source": [
    "#dir () returns a list of valid attributes and methods for the object — both user-defined and built-in (like __init__, __str__, etc.).\n",
    "dir(my_dog)"
   ]
  },
  {
   "cell_type": "code",
   "execution_count": 11,
   "id": "b5c54217",
   "metadata": {},
   "outputs": [
    {
     "name": "stdout",
     "output_type": "stream",
     "text": [
      "{'name': 'Buddy'}\n"
     ]
    }
   ],
   "source": [
    "print(my_dog.__dict__)  # Only user-defined data (not methods)"
   ]
  },
  {
   "cell_type": "code",
   "execution_count": 14,
   "id": "94eb5d4f",
   "metadata": {},
   "outputs": [
    {
     "name": "stdout",
     "output_type": "stream",
     "text": [
      "50000\n"
     ]
    }
   ],
   "source": [
    "#Modeling a bank account\n",
    "#Define a class for bank account\n",
    "class BankAccount:\n",
    "    def __init__(self,owner,balance=0):\n",
    "        self.owner=owner\n",
    "        self.balance=balance\n",
    "\n",
    "    def deposit(self,amount):\n",
    "        self.balance+=amount\n",
    "        print(f\"{amount} is deposited. New balance is {self.balance}\")\n",
    "\n",
    "    def withdraw(self,amount):\n",
    "        if amount>self.balance:\n",
    "            print(\"Insufficient balance!\")\n",
    "        else:\n",
    "            self.balance-=amount\n",
    "            print(f\"{amount} is withdrawn. New balance is {self.balance}\")\n",
    "    def get_balance(self):\n",
    "        return self.balance\n",
    "\n",
    "#Create a account\n",
    "account=BankAccount(\"Mac\",50000)\n",
    "print(account.balance)"
   ]
  },
  {
   "cell_type": "code",
   "execution_count": 15,
   "id": "4a0ed457",
   "metadata": {},
   "outputs": [
    {
     "name": "stdout",
     "output_type": "stream",
     "text": [
      "20000 is deposited. New balance is 70000\n"
     ]
    }
   ],
   "source": [
    "#call instance methods\n",
    "account.deposit(20000)"
   ]
  },
  {
   "cell_type": "code",
   "execution_count": 16,
   "id": "076f2934",
   "metadata": {},
   "outputs": [
    {
     "name": "stdout",
     "output_type": "stream",
     "text": [
      "5000 is withdrawn. New balance is 65000\n"
     ]
    }
   ],
   "source": [
    "account.withdraw(5000)"
   ]
  },
  {
   "cell_type": "code",
   "execution_count": 17,
   "id": "3779b466",
   "metadata": {},
   "outputs": [
    {
     "data": {
      "text/plain": [
       "65000"
      ]
     },
     "execution_count": 17,
     "metadata": {},
     "output_type": "execute_result"
    }
   ],
   "source": [
    "account.get_balance()"
   ]
  },
  {
   "cell_type": "code",
   "execution_count": null,
   "id": "e3b86ccc",
   "metadata": {},
   "outputs": [
    {
     "ename": "TypeError",
     "evalue": "Greeter.say_hello() takes 0 positional arguments but 1 was given",
     "output_type": "error",
     "traceback": [
      "\u001b[1;31m---------------------------------------------------------------------------\u001b[0m",
      "\u001b[1;31mTypeError\u001b[0m                                 Traceback (most recent call last)",
      "Cell \u001b[1;32mIn[21], line 7\u001b[0m\n\u001b[0;32m      4\u001b[0m         \u001b[38;5;28mprint\u001b[39m(\u001b[38;5;124m\"\u001b[39m\u001b[38;5;124mHello from class!\u001b[39m\u001b[38;5;124m\"\u001b[39m)\n\u001b[0;32m      6\u001b[0m g \u001b[38;5;241m=\u001b[39m Greeter()\u001b[38;5;66;03m#created the instance of the Greeter function\u001b[39;00m\n\u001b[1;32m----> 7\u001b[0m \u001b[43mg\u001b[49m\u001b[38;5;241;43m.\u001b[39;49m\u001b[43msay_hello\u001b[49m\u001b[43m(\u001b[49m\u001b[43m)\u001b[49m \u001b[38;5;66;03m#with the help of instance trying to acces inside the class\u001b[39;00m\n",
      "\u001b[1;31mTypeError\u001b[0m: Greeter.say_hello() takes 0 positional arguments but 1 was given"
     ]
    }
   ],
   "source": [
    "#Dont confused b/w global method and a class so if call like this will get an error\n",
    "class Greeter:\n",
    "    def say_hello():#to avoid this error we need to pass self parameter\n",
    "        print(\"Hello from class!\")\n",
    "\n",
    "g = Greeter()#created the instance of the Greeter function\n",
    "g.say_hello() #with the help of instance trying to acces inside the class"
   ]
  },
  {
   "cell_type": "code",
   "execution_count": null,
   "id": "4e8a1411",
   "metadata": {},
   "outputs": [
    {
     "name": "stdout",
     "output_type": "stream",
     "text": [
      "John is from Bihar.\n",
      "Raj is from Varanasi.\n",
      "Mac is from Jaunpur.\n"
     ]
    }
   ],
   "source": [
    " #Example of class and objects\n",
    " class Person:\n",
    "    #Class variables with default data\n",
    "    name=\"Mac\"\n",
    "    age=27\n",
    "    address=\"Jaunpur\"\n",
    "    #Method and where accesing class variable name and address\n",
    "    def info(self):\n",
    "        print(f\"{self.name} is from {self.address}.\")\n",
    "\n",
    "# created three objects:\n",
    "a=Person()\n",
    "b=Person()\n",
    "c=Person()\n",
    "\n",
    "# overriding the default class variables with instance-specific data:\n",
    "a.name='John'\n",
    "a.address='Bihar' \n",
    "\n",
    "b.name='Raj'\n",
    "b.address='Varanasi'\n",
    "\n",
    "#Calling the methods info with created instances\n",
    "a.info()\n",
    "b.info()\n",
    "c.info()"
   ]
  },
  {
   "cell_type": "code",
   "execution_count": 43,
   "id": "68ba2ddb",
   "metadata": {},
   "outputs": [
    {
     "name": "stdout",
     "output_type": "stream",
     "text": [
      "Hey I am a Person!\n",
      "Hey I am a Person!\n",
      "Mac is from Jaunpur!\n"
     ]
    }
   ],
   "source": [
    "#Constuctor in Python :A constructor is a special method used to initialize newly created objects. It’s defined using the __init__ method inside a class. This method is automatically called when an object of the class is instantiated.\n",
    "class Person:\n",
    "    def __init__(self):\n",
    "        print(\"Hey I am a Person!\")  # Constructor: ye tab chalega jab object banta hai\n",
    "\n",
    "    def info(self):\n",
    "        print(f\"{self.name} is from {self.address}!\")\n",
    "\n",
    "a = Person()  # <-- Constructor chalega\n",
    "\n",
    "b = Person()  # <-- Constructor fir se chalega\n",
    "b.name = \"Mac\"          # Dynamically attribute set kiya\n",
    "b.address = \"Jaunpur\"\n",
    "b.info()       # info() method run hoga, aur print karega\n"
   ]
  },
  {
   "cell_type": "code",
   "execution_count": null,
   "id": "13180dbf",
   "metadata": {},
   "outputs": [],
   "source": []
  }
 ],
 "metadata": {
  "kernelspec": {
   "display_name": "Python 3",
   "language": "python",
   "name": "python3"
  },
  "language_info": {
   "codemirror_mode": {
    "name": "ipython",
    "version": 3
   },
   "file_extension": ".py",
   "mimetype": "text/x-python",
   "name": "python",
   "nbconvert_exporter": "python",
   "pygments_lexer": "ipython3",
   "version": "3.10.0"
  }
 },
 "nbformat": 4,
 "nbformat_minor": 5
}
