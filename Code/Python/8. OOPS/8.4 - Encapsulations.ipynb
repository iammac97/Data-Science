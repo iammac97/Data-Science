{
 "cells": [
  {
   "cell_type": "markdown",
   "id": "f1699a6b",
   "metadata": {},
   "source": [
    "# Encapsuations"
   ]
  },
  {
   "cell_type": "markdown",
   "id": "2d2e9878",
   "metadata": {},
   "source": [
    "Encapsulation is the bundling of data (attributes) and methods (functions) that operate on the data into a single unit (class), and restricting access to some components to prevent unintended interference."
   ]
  },
  {
   "cell_type": "code",
   "execution_count": 1,
   "id": "5974f3c7",
   "metadata": {},
   "outputs": [
    {
     "name": "stdout",
     "output_type": "stream",
     "text": [
      "1500\n"
     ]
    }
   ],
   "source": [
    "# Basic Encapsulation with Private Attributes\n",
    "class BankAccount:\n",
    "    def __init__(self, owner, balance):\n",
    "        self.owner = owner               # Public attribute\n",
    "        self.__balance = balance         # Private attribute (name mangled)\n",
    "\n",
    "    def deposit(self, amount):\n",
    "        if amount > 0:\n",
    "            self.__balance += amount     # Accessing private attribute internally\n",
    "\n",
    "    def withdraw(self, amount):\n",
    "        if amount <= self.__balance:\n",
    "            self.__balance -= amount\n",
    "        else:\n",
    "            print(\"Insufficient balance\")\n",
    "\n",
    "    def get_balance(self):\n",
    "        return self.__balance            # Controlled read access\n",
    "\n",
    "# Usage\n",
    "account = BankAccount(\"Mac\", 1000)\n",
    "account.deposit(500)\n",
    "print(account.get_balance())  # ✅ Allowed via getter: 1500\n",
    "# print(account.__balance)    ❌ Error: can't access private attribute directly\n",
    "\n"
   ]
  },
  {
   "cell_type": "code",
   "execution_count": 2,
   "id": "e968ac5e",
   "metadata": {},
   "outputs": [
    {
     "name": "stdout",
     "output_type": "stream",
     "text": [
      "50000\n"
     ]
    }
   ],
   "source": [
    "# Encapsulation with Getters and Setters (with Validation)\n",
    "class Employee:\n",
    "    def __init__(self, name, salary):\n",
    "        self.name = name\n",
    "        self.__salary = salary           # Encapsulated attribute\n",
    "\n",
    "    def get_salary(self):\n",
    "        return self.__salary\n",
    "\n",
    "    def set_salary(self, value):\n",
    "        if value < 0:\n",
    "            raise ValueError(\"Salary can't be negative\")\n",
    "        self.__salary = value\n",
    "\n",
    "# Usage\n",
    "emp = Employee(\"John\", 50000)\n",
    "print(emp.get_salary())      # ✅ 50000\n",
    "emp.set_salary(60000)        # ✅ Safe update\n",
    "# emp.set_salary(-1000)      ❌ Raises validation error\n"
   ]
  },
  {
   "cell_type": "code",
   "execution_count": 3,
   "id": "20069e57",
   "metadata": {},
   "outputs": [
    {
     "name": "stdout",
     "output_type": "stream",
     "text": [
      "200\n"
     ]
    }
   ],
   "source": [
    "# Encapsulation with @property Decorator (Pythonic Way)\n",
    "class Product:\n",
    "    def __init__(self, price):\n",
    "        self.__price = price\n",
    "\n",
    "    @property\n",
    "    def price(self):\n",
    "        return self.__price\n",
    "\n",
    "    @price.setter\n",
    "    def price(self, value):\n",
    "        if value <= 0:\n",
    "            raise ValueError(\"Price must be positive\")\n",
    "        self.__price = value\n",
    "\n",
    "# Usage\n",
    "item = Product(200)\n",
    "print(item.price)       # Acts like an attribute but uses getter\n",
    "item.price = 250        # Uses setter behind the scenes\n",
    "# item.price = -10      ❌ ValueError\n"
   ]
  },
  {
   "cell_type": "code",
   "execution_count": 4,
   "id": "ab512ce2",
   "metadata": {},
   "outputs": [
    {
     "name": "stdout",
     "output_type": "stream",
     "text": [
      "Start the engine first!\n",
      "Car is moving\n"
     ]
    }
   ],
   "source": [
    "#  Encapsulation in Inheritance (Controlled Access)\n",
    "class Vehicle:\n",
    "    def __init__(self):\n",
    "        self.__engine_started = False\n",
    "\n",
    "    def start_engine(self):\n",
    "        self.__engine_started = True\n",
    "\n",
    "    def is_engine_started(self):\n",
    "        return self.__engine_started\n",
    "\n",
    "class Car(Vehicle):\n",
    "    def start_drive(self):\n",
    "        if self.is_engine_started():     # Access via public method\n",
    "            print(\"Car is moving\")\n",
    "        else:\n",
    "            print(\"Start the engine first!\")\n",
    "\n",
    "# Usage\n",
    "c = Car()\n",
    "c.start_drive()         # 🚫 Engine not started\n",
    "c.start_engine()\n",
    "c.start_drive()         # ✅ Car is moving\n"
   ]
  },
  {
   "cell_type": "code",
   "execution_count": null,
   "id": "df015800",
   "metadata": {},
   "outputs": [],
   "source": []
  }
 ],
 "metadata": {
  "kernelspec": {
   "display_name": "Python 3",
   "language": "python",
   "name": "python3"
  },
  "language_info": {
   "codemirror_mode": {
    "name": "ipython",
    "version": 3
   },
   "file_extension": ".py",
   "mimetype": "text/x-python",
   "name": "python",
   "nbconvert_exporter": "python",
   "pygments_lexer": "ipython3",
   "version": "3.10.0"
  }
 },
 "nbformat": 4,
 "nbformat_minor": 5
}
