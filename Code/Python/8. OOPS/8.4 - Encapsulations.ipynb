{
 "cells": [
  {
   "cell_type": "markdown",
   "id": "f1699a6b",
   "metadata": {},
   "source": [
    "# Encapsuations"
   ]
  },
  {
   "cell_type": "markdown",
   "id": "2d2e9878",
   "metadata": {},
   "source": [
    "Encapsulation is the bundling of data (attributes) and methods (functions) that operate on the data into a single unit (class), and restricting access to some components to prevent unintended interference."
   ]
  },
  {
   "cell_type": "code",
   "execution_count": 5,
   "id": "5974f3c7",
   "metadata": {},
   "outputs": [],
   "source": [
    "#Public and private access modifiers\n",
    "class BankAccount:\n",
    "    def __init__(self, owner, balance=0):\n",
    "        self.owner = owner          # public\n",
    "        self.__balance = balance    # private   --jst put double underscore(__) to define as private\n",
    "\n",
    "    def deposit(self, amount):\n",
    "        if amount > 0:\n",
    "            self.__balance += amount\n",
    "\n",
    "    def withdraw(self, amount):\n",
    "        if 0 < amount <= self.__balance:\n",
    "            self.__balance -= amount\n",
    "\n",
    "    def get_balance(self):\n",
    "        return self.__balance\n",
    "\n"
   ]
  },
  {
   "cell_type": "code",
   "execution_count": 6,
   "id": "467377f3",
   "metadata": {},
   "outputs": [
    {
     "name": "stdout",
     "output_type": "stream",
     "text": [
      "1500\n",
      "Mac\n"
     ]
    }
   ],
   "source": [
    "account = BankAccount(\"Mac\", 1000)\n",
    "account.deposit(500)\n",
    "print(account.get_balance())  # 1500\n",
    "\n",
    "# Try to access directly\n",
    "print(account.owner) # it's public so we can access directly\n",
    "# print(account.__balance)  # ❌ AttributeError --but private we can't access\n"
   ]
  },
  {
   "cell_type": "code",
   "execution_count": 7,
   "id": "e968ac5e",
   "metadata": {},
   "outputs": [
    {
     "data": {
      "text/plain": [
       "['__class__',\n",
       " '__delattr__',\n",
       " '__dict__',\n",
       " '__dir__',\n",
       " '__doc__',\n",
       " '__eq__',\n",
       " '__format__',\n",
       " '__ge__',\n",
       " '__getattribute__',\n",
       " '__gt__',\n",
       " '__hash__',\n",
       " '__init__',\n",
       " '__init_subclass__',\n",
       " '__le__',\n",
       " '__lt__',\n",
       " '__module__',\n",
       " '__ne__',\n",
       " '__new__',\n",
       " '__reduce__',\n",
       " '__reduce_ex__',\n",
       " '__repr__',\n",
       " '__setattr__',\n",
       " '__sizeof__',\n",
       " '__str__',\n",
       " '__subclasshook__',\n",
       " '__weakref__',\n",
       " 'deposit',\n",
       " 'get_balance',\n",
       " 'withdraw']"
      ]
     },
     "execution_count": 7,
     "metadata": {},
     "output_type": "execute_result"
    }
   ],
   "source": [
    "dir(BankAccount)"
   ]
  },
  {
   "cell_type": "markdown",
   "id": "be0d99df",
   "metadata": {},
   "source": [
    "Abstraction: Abstraction means hiding the complex internal details and showing only the essential features of an object."
   ]
  },
  {
   "cell_type": "code",
   "execution_count": 10,
   "id": "20069e57",
   "metadata": {},
   "outputs": [],
   "source": [
    "# Python abstraction using abc\n",
    "# Vehicle defines the interface, and each subclass provides its own implementation. The caller doesn’t care how the engine starts — only that it does.\n",
    "from abc import ABC, abstractmethod\n",
    "\n",
    "class Vehicle(ABC):\n",
    "    \n",
    "    @abstractmethod\n",
    "    def start_engine(self):\n",
    "        pass\n",
    "\n",
    "    @abstractmethod\n",
    "    def stop_engine(self):\n",
    "        pass\n",
    "\n",
    "class Car(Vehicle):\n",
    "    def start_engine(self):\n",
    "        print(\"Car engine started\")\n",
    "\n",
    "    def stop_engine(self):\n",
    "        print(\"Car engine stopped\")\n",
    "\n",
    "class Bike(Vehicle):\n",
    "    def start_engine(self):\n",
    "        print(\"Bike engine started\")\n",
    "\n",
    "    def stop_engine(self):\n",
    "        print(\"Bike engine stopped\")\n",
    "\n"
   ]
  },
  {
   "cell_type": "code",
   "execution_count": 9,
   "id": "ab512ce2",
   "metadata": {},
   "outputs": [
    {
     "name": "stdout",
     "output_type": "stream",
     "text": [
      "Car engine started\n",
      "Car engine stopped\n",
      "Bike engine started\n",
      "Bike engine stopped\n"
     ]
    }
   ],
   "source": [
    "vehicles = [Car(), Bike()]\n",
    "\n",
    "for v in vehicles:\n",
    "    v.start_engine()\n",
    "    v.stop_engine()\n"
   ]
  },
  {
   "cell_type": "code",
   "execution_count": null,
   "id": "df015800",
   "metadata": {},
   "outputs": [],
   "source": []
  }
 ],
 "metadata": {
  "kernelspec": {
   "display_name": "Python 3",
   "language": "python",
   "name": "python3"
  },
  "language_info": {
   "codemirror_mode": {
    "name": "ipython",
    "version": 3
   },
   "file_extension": ".py",
   "mimetype": "text/x-python",
   "name": "python",
   "nbconvert_exporter": "python",
   "pygments_lexer": "ipython3",
   "version": "3.10.0"
  }
 },
 "nbformat": 4,
 "nbformat_minor": 5
}
