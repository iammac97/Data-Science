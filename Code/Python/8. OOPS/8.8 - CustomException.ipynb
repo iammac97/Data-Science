{
 "cells": [
  {
   "cell_type": "markdown",
   "id": "a9e01eb9",
   "metadata": {},
   "source": [
    "# Custom Exceptions"
   ]
  },
  {
   "cell_type": "markdown",
   "id": "6acc6223",
   "metadata": {},
   "source": [
    "Creating a custom exception in Python is straightforward and powerful. It allows you to define specific error types that make your code more readable, maintainable, and easier to debug.\n",
    "\n"
   ]
  },
  {
   "cell_type": "code",
   "execution_count": null,
   "id": "ca1879c4",
   "metadata": {},
   "outputs": [
    {
     "name": "stdout",
     "output_type": "stream",
     "text": [
      "26\n",
      "The age is valid so you can apply for this exam.\n"
     ]
    }
   ],
   "source": [
    "class Error(Exception):\n",
    "    pass\n",
    "class dobException(Error):\n",
    "    pass\n",
    "\n",
    "year=int(input(\"Enter your DOY:\"))\n",
    "print(age)\n",
    "\n",
    "try:\n",
    "    if age<=30 and age>=20:\n",
    "        print(\"The age is valid so you can apply for this exam.\")\n",
    "    else:\n",
    "        raise dobException\n",
    "except dobException:\n",
    "    print(\"Sorry you are not eligible for this exam as your age is greater than 30 or less than 20 !\")"
   ]
  },
  {
   "cell_type": "code",
   "execution_count": 7,
   "id": "06ce08eb",
   "metadata": {},
   "outputs": [
    {
     "name": "stdout",
     "output_type": "stream",
     "text": [
      "Caught an application error: Unable to connect to server.\n"
     ]
    }
   ],
   "source": [
    "class AppError(Exception):\n",
    "    \"\"\"Base class for all application-specific errors.\"\"\"\n",
    "    pass\n",
    "\n",
    "class DatabaseError(AppError):\n",
    "    pass\n",
    "\n",
    "class NetworkError(AppError):\n",
    "    pass\n",
    "\n",
    "class AuthenticationError(AppError):\n",
    "    pass\n",
    "\n",
    "try:\n",
    "    raise NetworkError(\"Unable to connect to server.\")\n",
    "except AppError as e:\n",
    "    print(f\"Caught an application error: {e}\")\n"
   ]
  },
  {
   "cell_type": "code",
   "execution_count": null,
   "id": "560de42f",
   "metadata": {},
   "outputs": [],
   "source": []
  }
 ],
 "metadata": {
  "kernelspec": {
   "display_name": "Python 3",
   "language": "python",
   "name": "python3"
  },
  "language_info": {
   "codemirror_mode": {
    "name": "ipython",
    "version": 3
   },
   "file_extension": ".py",
   "mimetype": "text/x-python",
   "name": "python",
   "nbconvert_exporter": "python",
   "pygments_lexer": "ipython3",
   "version": "3.10.0"
  }
 },
 "nbformat": 4,
 "nbformat_minor": 5
}
