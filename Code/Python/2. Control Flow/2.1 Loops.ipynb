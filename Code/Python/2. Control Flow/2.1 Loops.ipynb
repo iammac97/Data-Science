{
 "cells": [
  {
   "cell_type": "markdown",
   "id": "f4e798db",
   "metadata": {},
   "source": [
    "Loops in Python"
   ]
  },
  {
   "cell_type": "code",
   "execution_count": 1,
   "id": "6fac02f8",
   "metadata": {},
   "outputs": [
    {
     "name": "stdout",
     "output_type": "stream",
     "text": [
      "1 is odd\n",
      "2 is even\n",
      "3 is odd\n",
      "4 is even\n",
      "5 is odd\n",
      "6 is even\n",
      "7 is odd\n",
      "8 is even\n",
      "9 is odd\n",
      "10 is even\n"
     ]
    }
   ],
   "source": [
    "#for loop example\n",
    "for i in range(1, 11):\n",
    "    if i % 2 == 0:\n",
    "        print(f\"{i} is even\")\n",
    "    else:\n",
    "        print(f\"{i} is odd\")\n"
   ]
  },
  {
   "cell_type": "code",
   "execution_count": 4,
   "id": "5d7fbf50",
   "metadata": {},
   "outputs": [
    {
     "name": "stdout",
     "output_type": "stream",
     "text": [
      "H\n",
      "e\n",
      "l\n",
      "l\n",
      "o\n",
      ",\n",
      " \n",
      "W\n",
      "o\n",
      "r\n",
      "l\n",
      "d\n",
      "!\n"
     ]
    }
   ],
   "source": [
    "#for loop with strings\n",
    "str1= \"Hello, World!\"\n",
    "for char in str1:\n",
    "    print(char)"
   ]
  },
  {
   "cell_type": "code",
   "execution_count": 2,
   "id": "62565d09",
   "metadata": {},
   "outputs": [
    {
     "name": "stdout",
     "output_type": "stream",
     "text": [
      "1 is odd\n",
      "2 is even\n",
      "3 is odd\n",
      "4 is even\n",
      "5 is odd\n",
      "6 is even\n",
      "7 is odd\n",
      "8 is even\n",
      "9 is odd\n",
      "10 is even\n"
     ]
    }
   ],
   "source": [
    "#While loop example\n",
    "count = 1\n",
    "while count <= 10:\n",
    "    if count % 2 == 0:\n",
    "        print(f\"{count} is even\")\n",
    "    else:\n",
    "        print(f\"{count} is odd\")\n",
    "    count += 1\n",
    "    "
   ]
  },
  {
   "cell_type": "code",
   "execution_count": 5,
   "id": "f21b060c",
   "metadata": {},
   "outputs": [
    {
     "name": "stdout",
     "output_type": "stream",
     "text": [
      "1\n",
      "2\n",
      "3\n",
      "4\n",
      "5\n",
      "Breaking the loop at 6\n",
      "1 is odd, skipping even numbers\n",
      "3 is odd, skipping even numbers\n",
      "5 is odd, skipping even numbers\n",
      "7 is odd, skipping even numbers\n",
      "9 is odd, skipping even numbers\n",
      "1 is not 5, continuing with the loop\n",
      "2 is not 5, continuing with the loop\n",
      "3 is not 5, continuing with the loop\n",
      "4 is not 5, continuing with the loop\n",
      "6 is not 5, continuing with the loop\n",
      "7 is not 5, continuing with the loop\n",
      "8 is not 5, continuing with the loop\n",
      "9 is not 5, continuing with the loop\n",
      "10 is not 5, continuing with the loop\n"
     ]
    }
   ],
   "source": [
    "#Loop Control Statements\n",
    "#break statement example\n",
    "for i in range(1, 11):\n",
    "    if i == 6:\n",
    "        print(\"Breaking the loop at 6\")\n",
    "        break\n",
    "    print(i)\n",
    "#continue statement example\n",
    "for i in range(1, 11):\n",
    "    if i % 2 == 0:\n",
    "        continue\n",
    "    print(f\"{i} is odd, skipping even numbers\")\n",
    "#pass statement example\n",
    "for i in range(1, 11):\n",
    "    if i == 5:\n",
    "        pass  # Do nothing for 5\n",
    "    else:\n",
    "        print(f\"{i} is not 5, continuing with the loop\")        \n"
   ]
  },
  {
   "cell_type": "code",
   "execution_count": 6,
   "id": "0d4ed222",
   "metadata": {},
   "outputs": [
    {
     "name": "stdout",
     "output_type": "stream",
     "text": [
      "i: 1, j: 1\n",
      "i: 1, j: 2\n",
      "i: 1, j: 3\n",
      "i: 2, j: 1\n",
      "i: 2, j: 2\n",
      "i: 2, j: 3\n",
      "i: 3, j: 1\n",
      "i: 3, j: 2\n",
      "i: 3, j: 3\n"
     ]
    }
   ],
   "source": [
    "#Nested loops example\n",
    "for i in range(1, 4):\n",
    "    for j in range(1, 4):\n",
    "        print(f\"i: {i}, j: {j}\")\n"
   ]
  },
  {
   "cell_type": "code",
   "execution_count": 10,
   "id": "84154b48",
   "metadata": {},
   "outputs": [
    {
     "name": "stdout",
     "output_type": "stream",
     "text": [
      "28 is not a prime number\n"
     ]
    }
   ],
   "source": [
    "#Prime number check using a loop without function\n",
    "num = 28\n",
    "is_prime = True\n",
    "for i in range(2, int(num**0.5) + 1):\n",
    "    if num % i == 0:\n",
    "        is_prime = False\n",
    "        break\n",
    "if is_prime:\n",
    "    print(f\"{num} is a prime number\")\n",
    "else:\n",
    "    print(f\"{num} is not a prime number\")   \n"
   ]
  },
  {
   "cell_type": "code",
   "execution_count": null,
   "id": "fee5965c",
   "metadata": {},
   "outputs": [],
   "source": []
  }
 ],
 "metadata": {
  "kernelspec": {
   "display_name": "Python 3",
   "language": "python",
   "name": "python3"
  },
  "language_info": {
   "codemirror_mode": {
    "name": "ipython",
    "version": 3
   },
   "file_extension": ".py",
   "mimetype": "text/x-python",
   "name": "python",
   "nbconvert_exporter": "python",
   "pygments_lexer": "ipython3",
   "version": "3.10.0"
  }
 },
 "nbformat": 4,
 "nbformat_minor": 5
}
