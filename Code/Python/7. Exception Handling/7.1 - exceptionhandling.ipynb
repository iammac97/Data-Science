{
 "cells": [
  {
   "cell_type": "markdown",
   "id": "20c15332",
   "metadata": {},
   "source": [
    "# Exception Handling"
   ]
  },
  {
   "cell_type": "markdown",
   "id": "4d26d448",
   "metadata": {},
   "source": [
    "Exception handling in Python lets you manage runtime errors gracefully, without crashing your program. It’s built around the keywords try, except, else, and finally.\n",
    "\n"
   ]
  },
  {
   "cell_type": "markdown",
   "id": "dc2c14ef",
   "metadata": {},
   "source": [
    "#Try and except block\n",
    "try:\n",
    "    # Code that might throw an error\n",
    "    risky_code()\n",
    "except SomeError:\n",
    "    # Code to run if that error happens\n",
    "    handle_it()"
   ]
  },
  {
   "cell_type": "markdown",
   "id": "515a14b2",
   "metadata": {},
   "source": [
    "BaseException\n",
    " ├── SystemExit\n",
    " ├── KeyboardInterrupt\n",
    " └── Exception\n",
    "      ├── ArithmeticError\n",
    "      │    ├── ZeroDivisionError\n",
    "      │    └── OverflowError\n",
    "      ├── ValueError\n",
    "      ├── TypeError\n",
    "      ├── FileNotFoundError\n",
    "      └── (Your custom derived exceptions go here!)"
   ]
  },
  {
   "cell_type": "code",
   "execution_count": null,
   "id": "2c014298",
   "metadata": {},
   "outputs": [
    {
     "name": "stdout",
     "output_type": "stream",
     "text": [
      "name 'b' is not defined\n"
     ]
    }
   ],
   "source": [
    "#Try Except example\n",
    "try:\n",
    "    a=b #If we run without try block then it will throw an error\n",
    "except NameError as ex:#Try to use\n",
    "    print(ex)"
   ]
  },
  {
   "cell_type": "code",
   "execution_count": null,
   "id": "24be6f19",
   "metadata": {},
   "outputs": [],
   "source": [
    "#Try Except example\n",
    "try:\n",
    "    a=b #If we run without try block then it will throw an error\n",
    "except: #this is incorrect way because--> Hides the actual error: You don’t know what exception was raised.\n",
    "    print(\"The variable b is not assigned!\") "
   ]
  },
  {
   "cell_type": "code",
   "execution_count": null,
   "id": "d40cf056",
   "metadata": {},
   "outputs": [
    {
     "name": "stdout",
     "output_type": "stream",
     "text": [
      "division by zero\n"
     ]
    }
   ],
   "source": [
    "#Zero division exception\n",
    "try:\n",
    "    1/0 \n",
    "except ZeroDivisionError as ex:#Try to use\n",
    "    print(ex)"
   ]
  },
  {
   "cell_type": "markdown",
   "id": "9e37a7c2",
   "metadata": {},
   "source": [
    "If you don’t know the specific exception type, or if you're handling many possible exceptions, you can catch a \"superset\" in the exception hierarchy — typically: refer above hierarchy"
   ]
  },
  {
   "cell_type": "code",
   "execution_count": null,
   "id": "249aa9bd",
   "metadata": {},
   "outputs": [
    {
     "name": "stdout",
     "output_type": "stream",
     "text": [
      "name 'b' is not defined\n"
     ]
    }
   ],
   "source": [
    "#And we don't know the exception name so we can direct call exception that is superset of the hierarchy \n",
    "try:\n",
    "    a=b\n",
    "except Exception as ex1:\n",
    "    print(ex1)"
   ]
  },
  {
   "cell_type": "code",
   "execution_count": null,
   "id": "c39846d1",
   "metadata": {},
   "outputs": [
    {
     "name": "stdout",
     "output_type": "stream",
     "text": [
      "Please enter denomintor greater then 0!\n"
     ]
    }
   ],
   "source": [
    "#try and except block example\n",
    "try:\n",
    "    num=int(input(\"Enter a number:\"))\n",
    "    res=10/num\n",
    "    print(res)\n",
    "except ValueError:\n",
    "    print(\"Please enter a valid number!\")\n",
    "except ZeroDivisionError:\n",
    "    print(\"Please enter denomintor greater then 0!\")\n",
    "except Exception as ex:\n",
    "    print(ex)\n"
   ]
  },
  {
   "cell_type": "code",
   "execution_count": null,
   "id": "197138cb",
   "metadata": {},
   "outputs": [
    {
     "name": "stdout",
     "output_type": "stream",
     "text": [
      "The result is: 0.29411764705882354\n"
     ]
    }
   ],
   "source": [
    "#try, except and else block example\n",
    "try:\n",
    "    num=int(input(\"Enter a number:\"))\n",
    "    res=10/num\n",
    "except ValueError:\n",
    "    print(\"Please enter a valid number!\")\n",
    "except ZeroDivisionError:\n",
    "    print(\"Please enter denomintor greater then 0!\")\n",
    "except Exception as ex:\n",
    "    print(ex)\n",
    "else:#it will run only if try block is succeds\n",
    "    print(f\"The result is: {res}\")"
   ]
  },
  {
   "cell_type": "code",
   "execution_count": null,
   "id": "74a33837",
   "metadata": {},
   "outputs": [
    {
     "name": "stdout",
     "output_type": "stream",
     "text": [
      "Please enter denomintor greater then 0!\n",
      "Exception executed!\n"
     ]
    }
   ],
   "source": [
    "#try, except, else and finally block example\n",
    "try:\n",
    "    num=int(input(\"Enter a number:\"))\n",
    "    res=10/num\n",
    "except ValueError:\n",
    "    print(\"Please enter a valid number!\")\n",
    "except ZeroDivisionError:\n",
    "    print(\"Please enter denomintor greater then 0!\")\n",
    "except Exception as ex:\n",
    "    print(ex)\n",
    "else:#it will run only if try block is succeds means there in no exceptions\n",
    "    print(f\"The result is: {res}\")\n",
    "finally:#It must execute \n",
    "    print(\"Exception executed!\")"
   ]
  },
  {
   "cell_type": "code",
   "execution_count": 19,
   "id": "59691437",
   "metadata": {},
   "outputs": [
    {
     "name": "stdout",
     "output_type": "stream",
     "text": [
      "🚫 Error: The file 'data.txt' was not found.\n",
      "ℹ️ File was never opened, so nothing to close.\n"
     ]
    }
   ],
   "source": [
    "#exception handling for file handling\n",
    "try:\n",
    "    file = open(\"data.txt\", \"r\")\n",
    "    content = file.read()\n",
    "    print(\"📄 File content:\\n\", content)\n",
    "except FileNotFoundError:\n",
    "    print(\"🚫 Error: The file 'data.txt' was not found.\")\n",
    "except PermissionError:\n",
    "    print(\"🔒 Error: You don't have permission to open this file.\")\n",
    "except Exception as e:\n",
    "    print(\"⚠️ An unexpected error occurred:\", e)\n",
    "finally:\n",
    "    try:\n",
    "        file.close()\n",
    "        print(\"✅ File closed successfully.\")\n",
    "    except NameError:\n",
    "        print(\"ℹ️ File was never opened, so nothing to close.\")\n"
   ]
  },
  {
   "cell_type": "code",
   "execution_count": null,
   "id": "8f2a1486",
   "metadata": {},
   "outputs": [],
   "source": []
  }
 ],
 "metadata": {
  "kernelspec": {
   "display_name": "Python 3",
   "language": "python",
   "name": "python3"
  },
  "language_info": {
   "codemirror_mode": {
    "name": "ipython",
    "version": 3
   },
   "file_extension": ".py",
   "mimetype": "text/x-python",
   "name": "python",
   "nbconvert_exporter": "python",
   "pygments_lexer": "ipython3",
   "version": "3.10.0"
  }
 },
 "nbformat": 4,
 "nbformat_minor": 5
}
